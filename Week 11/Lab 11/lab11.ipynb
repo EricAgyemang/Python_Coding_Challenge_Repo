{
 "cells": [
  {
   "cell_type": "code",
   "execution_count": 2,
   "metadata": {},
   "outputs": [
    {
     "name": "stdout",
     "output_type": "stream",
     "text": [
      "The maximum is: 3.29\n",
      "The minimum is: -3.60\n",
      "The sum is: 0.27\n",
      "The mean is: 0.01\n",
      "The number of negative values is: 26\n"
     ]
    }
   ],
   "source": [
    "import numpy as np\n",
    "size = 50\n",
    "A = np.random.randn(size)\n",
    "B = np.random.randn(size)\n",
    "C = A + B\n",
    "print(\"The maximum is: %.2f\" % C.max())\n",
    "print(\"The minimum is: %.2f\" % C.min())\n",
    "print(\"The sum is: %.2f\" % C.sum())\n",
    "print(\"The mean is: %.2f\" % C.mean())\n",
    "print(\"The number of negative values is:\",np.where(C < 0, 1, 0).sum())"
   ]
  },
  {
   "cell_type": "code",
   "execution_count": 4,
   "metadata": {},
   "outputs": [
    {
     "name": "stdout",
     "output_type": "stream",
     "text": [
      "The original matrix:\n",
      " [[-0.09764845 -1.15705135 -0.71550696 -1.2846392 ]\n",
      " [-1.4865479   1.39829876  1.35081742  1.22765508]\n",
      " [-0.23998051  0.30636594 -1.03882608  0.55984706]\n",
      " [-2.16863294 -0.41750988 -0.6951534   0.77379974]\n",
      " [ 0.33089574 -1.35020222 -1.04544839  1.47090285]]\n",
      "The maximum values for each row: [-0.09764845  1.39829876  0.55984706  0.77379974  1.47090285]\n",
      "The maximum values for each column: [0.33089574 1.39829876 1.35081742 1.47090285]\n",
      "The minimum values for each row: [-1.2846392  -1.4865479  -1.03882608 -2.16863294 -1.35020222]\n",
      "The minimum values for each column: [-2.16863294 -1.35020222 -1.04544839 -1.2846392 ]\n",
      "The sub-matrix: \n",
      " [[ 0.30636594 -1.03882608  0.55984706]\n",
      " [-0.41750988 -0.6951534   0.77379974]\n",
      " [-1.35020222 -1.04544839  1.47090285]]\n"
     ]
    }
   ],
   "source": [
    "A = np.random.randn(5,4)\n",
    "print(\"The original matrix:\\n\", A)\n",
    "\n",
    "print(\"The maximum values for each row:\",A.max(axis=1))\n",
    "print(\"The maximum values for each column:\",A.max(axis=0))\n",
    "print(\"The minimum values for each row:\",A.min(axis=1))\n",
    "print(\"The minimum values for each column:\",A.min(axis=0))\n",
    "print(\"The sub-matrix: \\n\", A[2:,1:])\n"
   ]
  },
  {
   "cell_type": "code",
   "execution_count": 10,
   "metadata": {},
   "outputs": [
    {
     "name": "stdout",
     "output_type": "stream",
     "text": [
      "The sum of all the positive values is 46.52\n",
      "The sum of all the negative values is -37.17\n"
     ]
    }
   ],
   "source": [
    "A = np.random.randn(10,10)\n",
    "print(\"The sum of all the positive values is %.2f\" %(A * (A>0)).sum())\n",
    "print(\"The sum of all the negative values is %.2f\" % (A * (A<0)).sum())"
   ]
  },
  {
   "cell_type": "code",
   "execution_count": null,
   "metadata": {},
   "outputs": [],
   "source": []
  }
 ],
 "metadata": {
  "kernelspec": {
   "display_name": "Python 3",
   "language": "python",
   "name": "python3"
  },
  "language_info": {
   "codemirror_mode": {
    "name": "ipython",
    "version": 3
   },
   "file_extension": ".py",
   "mimetype": "text/x-python",
   "name": "python",
   "nbconvert_exporter": "python",
   "pygments_lexer": "ipython3",
   "version": "3.8.8"
  }
 },
 "nbformat": 4,
 "nbformat_minor": 2
}

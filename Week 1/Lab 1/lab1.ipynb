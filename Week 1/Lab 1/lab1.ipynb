{
 "cells": [
  {
   "cell_type": "code",
   "execution_count": 1,
   "metadata": {},
   "outputs": [
    {
     "name": "stdout",
     "output_type": "stream",
     "text": [
      "[[0.18854527 0.0333354  0.06621309 0.04332481 0.11090883 0.07067666\n",
      "  0.04149209 0.05197422 0.07845136 0.02501367]\n",
      " [1.07399778 0.38334045 0.51368772 0.38262013 0.61914801 0.36844849\n",
      "  0.40674537 0.55549595 0.60779261 0.53965942]\n",
      " [1.08441201 0.39252383 0.52252637 0.39016835 0.62479526 0.3710565\n",
      "  0.41550418 0.56821311 0.61823301 0.55611492]\n",
      " [0.35836121 0.13571809 0.17691307 0.13315182 0.20608215 0.12156219\n",
      "  0.1425969  0.19582472 0.20929769 0.19610028]\n",
      " [1.04657409 0.51687614 0.60171621 0.47348371 0.59399287 0.33374559\n",
      "  0.52260089 0.7335215  0.7114901  0.82013425]\n",
      " [1.55429234 0.56239769 0.74879221 0.55908364 0.8955353  0.53187364\n",
      "  0.59536036 0.81414282 0.88594268 0.79665407]\n",
      " [1.03682244 0.30107268 0.44721381 0.3209293  0.60221602 0.36787244\n",
      "  0.33189132 0.4437347  0.52936121 0.37932004]\n",
      " [0.58920642 0.25886444 0.31608361 0.24400522 0.33650465 0.1935645\n",
      "  0.26591685 0.3698738  0.37383351 0.39575974]\n",
      " [0.45189912 0.13037218 0.19431805 0.13927997 0.26253134 0.1604873\n",
      "  0.14390583 0.19226137 0.23001478 0.16358078]\n",
      " [0.9442341  0.28247951 0.41312978 0.29809288 0.54789734 0.33355785\n",
      "  0.30955765 0.41523029 0.48898704 0.36247212]]\n"
     ]
    }
   ],
   "source": [
    "import numpy as np\n",
    "a = np.random.rand(10,2)\n",
    "b = np.random.rand(2,10)\n",
    "print(np.dot(a,b))"
   ]
  },
  {
   "cell_type": "code",
   "execution_count": 4,
   "metadata": {},
   "outputs": [
    {
     "name": "stdout",
     "output_type": "stream",
     "text": [
      "Enter a number: 3\n"
     ]
    }
   ],
   "source": [
    "a = input(\"Enter a number: \")"
   ]
  },
  {
   "cell_type": "code",
   "execution_count": 1,
   "metadata": {},
   "outputs": [
    {
     "data": {
      "text/plain": [
       "<Figure size 640x480 with 1 Axes>"
      ]
     },
     "metadata": {},
     "output_type": "display_data"
    }
   ],
   "source": [
    "import lab14"
   ]
  },
  {
   "cell_type": "code",
   "execution_count": null,
   "metadata": {},
   "outputs": [],
   "source": []
  }
 ],
 "metadata": {
  "kernelspec": {
   "display_name": "Python 3",
   "language": "python",
   "name": "python3"
  },
  "language_info": {
   "codemirror_mode": {
    "name": "ipython",
    "version": 3
   },
   "file_extension": ".py",
   "mimetype": "text/x-python",
   "name": "python",
   "nbconvert_exporter": "python",
   "pygments_lexer": "ipython3",
   "version": "3.8.8"
  }
 },
 "nbformat": 4,
 "nbformat_minor": 2
}

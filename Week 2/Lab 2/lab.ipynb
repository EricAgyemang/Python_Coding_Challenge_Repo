{
 "cells": [
  {
   "cell_type": "code",
   "execution_count": 1,
   "metadata": {},
   "outputs": [
    {
     "name": "stdout",
     "output_type": "stream",
     "text": [
      "Name:  Xing Fang\n",
      "Age:  32\n",
      "Courses attending this semester:  IT 166, IT 168, and IT 170\n"
     ]
    }
   ],
   "source": [
    "information_list = [\"Xing\",\"Fang\",32,[\"IT 166\", \"IT 168\", \"IT 170\"]]\n",
    "print(\"Name: \",information_list[0]+\" \"+information_list[1])\n",
    "print(\"Age: \", information_list[2])\n",
    "print(\"Courses attending this semester: \",information_list[-1][0]+\", \"+information_list[-1][1]+\", and \"+information_list[-1][-1])"
   ]
  },
  {
   "cell_type": "code",
   "execution_count": 15,
   "metadata": {
    "scrolled": true
   },
   "outputs": [
    {
     "name": "stdout",
     "output_type": "stream",
     "text": [
      "Enter the price of an item: 95\n",
      "You bought an item for 5 cents and gave me a dollar, so your change is 0-quarter, 0-dime, and 1-nickel.\n",
      "The dictionary is:  {'quarter': 0, 'dime': 0, 'nickel': 1}\n"
     ]
    }
   ],
   "source": [
    "price = int(input(\"Enter the price of an item: \"))\n",
    "temp = 100-price\n",
    "quarter = temp // 25\n",
    "# price = temp - quarter*25\n",
    "price = temp % 25\n",
    "dime = price // 10\n",
    "# price = price-dime*10\n",
    "price = price%10\n",
    "nickel = price // 5\n",
    "print (\"You bought an item for \"+str(price)+\" cents and gave me a dollar, so your change is \"+str(quarter)+\"-quarter, \"+str(dime)+\"-dime, and \"+str(nickel)+\"-nickel.\")\n",
    "changes = {\"quarter\":quarter, \"dime\":dime, \"nickel\":nickel}\n",
    "print(\"The dictionary is: \",changes)\n",
    "\n"
   ]
  },
  {
   "cell_type": "code",
   "execution_count": 14,
   "metadata": {},
   "outputs": [
    {
     "name": "stdout",
     "output_type": "stream",
     "text": [
      "Roots are 0.46 and -6.18\n"
     ]
    }
   ],
   "source": [
    "import math\n",
    "a = 3.5; b = 20; c = -10\n",
    "root1 = (-b+math.sqrt(b**2-4*a*c))/(2*a)\n",
    "root2 = (-b-math.sqrt(b**2-4*a*c))/(2*a)\n",
    "print(\"Roots are \"+str(round(root1,2))+\" and \"+str(round(root2,2)))"
   ]
  },
  {
   "cell_type": "code",
   "execution_count": null,
   "metadata": {},
   "outputs": [],
   "source": []
  }
 ],
 "metadata": {
  "kernelspec": {
   "display_name": "Python 3",
   "language": "python",
   "name": "python3"
  },
  "language_info": {
   "codemirror_mode": {
    "name": "ipython",
    "version": 3
   },
   "file_extension": ".py",
   "mimetype": "text/x-python",
   "name": "python",
   "nbconvert_exporter": "python",
   "pygments_lexer": "ipython3",
   "version": "3.6.4"
  }
 },
 "nbformat": 4,
 "nbformat_minor": 2
}

{
 "cells": [
  {
   "cell_type": "code",
   "execution_count": 24,
   "metadata": {},
   "outputs": [
    {
     "name": "stdout",
     "output_type": "stream",
     "text": [
      "0.46 and -6.18\n"
     ]
    }
   ],
   "source": [
    "# problem 1\n",
    "\n",
    "import math\n",
    "\n",
    "a = 3.5\n",
    "b = 20\n",
    "c = -10\n",
    "\n",
    "root1 = ((-b + math.sqrt((b*b)-4*a*c))/(2*a))\n",
    "root2 = ((-b - math.sqrt((b*b)-4*a*c))/(2*a))\n",
    "\n",
    "root1 = round(root1, 2)\n",
    "root2 = round(root2, 2)\n",
    "\n",
    "print(str(root1) + \" and \" + str(root2))"
   ]
  },
  {
   "cell_type": "code",
   "execution_count": 26,
   "metadata": {},
   "outputs": [
    {
     "name": "stdout",
     "output_type": "stream",
     "text": [
      "Enter the price of an item: 45\n",
      "You bought an item for 45 cents and gave me a dollar. Your change is 2 quarter(s), 0 dime(s), and 0 nickel(s).\n"
     ]
    }
   ],
   "source": [
    "# problem 2\n",
    "\n",
    "change_dictionary = {\"quarters\": 0, \"dimes\": 0, \"nickels\": 0}\n",
    "price = input(\"Enter the price of an item: \")\n",
    "\n",
    "change = 100 - int(price)\n",
    "num_quarters = change//25\n",
    "change = change - num_quarters*25\n",
    "num_dimes = change//10\n",
    "change = change - num_dimes*10\n",
    "num_nickels = change//5\n",
    "\n",
    "change_dictionary[\"quarters\"] = num_quarters\n",
    "change_dictionary[\"dimes\"] = num_dimes\n",
    "change_dictionary[\"nickles\"] = num_nickels\n",
    "\n",
    "print(\"You bought an item for \" + price + \" cents and gave me a dollar. Your change is \" + str(change_dictionary[\"quarters\"]) + \" quarter(s), \" + str(change_dictionary[\"dimes\"]) + \" dime(s), and \" + str(change_dictionary[\"nickels\"]) + \" nickel(s).\")\n"
   ]
  },
  {
   "cell_type": "code",
   "execution_count": 22,
   "metadata": {},
   "outputs": [
    {
     "name": "stdout",
     "output_type": "stream",
     "text": [
      "Name: Thomas Briggs\n",
      "Age: 19\n",
      "Courses attending this semester: IT 166, MAT 280, MAT 147, and ACC 131\n"
     ]
    }
   ],
   "source": [
    "# problem 3\n",
    "\n",
    "information_list = [\"Thomas\", \"Briggs\", 19, \"IT 166, MAT 280, MAT 147, and ACC 131\"]\n",
    "print(\"Name: \" + information_list[0] + \" \" + information_list[1])\n",
    "print(\"Age: \" + str(information_list[2]))\n",
    "print(\"Courses attending this semester: \" + information_list[3])"
   ]
  },
  {
   "cell_type": "code",
   "execution_count": null,
   "metadata": {},
   "outputs": [],
   "source": []
  },
  {
   "cell_type": "code",
   "execution_count": null,
   "metadata": {},
   "outputs": [],
   "source": []
  }
 ],
 "metadata": {
  "kernelspec": {
   "display_name": "Python 3",
   "language": "python",
   "name": "python3"
  },
  "language_info": {
   "codemirror_mode": {
    "name": "ipython",
    "version": 3
   },
   "file_extension": ".py",
   "mimetype": "text/x-python",
   "name": "python",
   "nbconvert_exporter": "python",
   "pygments_lexer": "ipython3",
   "version": "3.8.3"
  }
 },
 "nbformat": 4,
 "nbformat_minor": 4
}

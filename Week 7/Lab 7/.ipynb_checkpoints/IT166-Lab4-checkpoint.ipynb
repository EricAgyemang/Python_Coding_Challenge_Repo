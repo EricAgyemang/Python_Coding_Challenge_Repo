{
 "cells": [
  {
   "cell_type": "markdown",
   "metadata": {
    "id": "jpik38WWLOuZ"
   },
   "source": [
    "#IT 166 Lab 4\n",
    "\n",
    "In this lab, we will practice how to cerate Python functions to calculate the same statistic parameters (e.g., mean, standard deviation) of a given population, as we did in Lab 3. \n",
    "\n",
    "Objectives\n",
    "* Be able to write Python functions to find minimal, maximal, mean, and standard deviation values of a collection of numerical data.\n",
    "* Be able to write Python functions that conduct sampling on a given porpulation.\n",
    "* Be able to write Python applications to use these functions.\n",
    "\n",
    "Preparation\n",
    "* Launch the Jupyter notebook.\n",
    "* Rename the notebook page as “lab4”.\n",
    "\n",
    "Please provide solutions to the problems below.\n",
    "\n",
    "Background:\n",
    "\n",
    "Statistic properties (e.g., mean, standard deviation) of a population is important for data analysis. In reality, we usually cannot collect the complete dataset of a whole population. Thus, we often take random samples of the population and estimate these statistic parameters based on the samples. \n",
    "\n",
    "Given a sample of $n$ observations from a population, we can calculate estimates of the population mean, standard deviation, and various other population characteristics (parameters). Prior to obtaining the complete dataset, there is uncertainty as to which of all possible samples will occur. Because of this, estimates such as $\\bar{x}$, and $s$ will vary from one sample to another. The behavior of such estimates in repeated sampling is described by what are called **sampling distributions**. Any particular sampling distribution will give an\n",
    "indication of how close the estimate is likely to be to the value of the parameter being estimated.\n",
    "\n",
    "The **Central Limit Theorem** states that if you have a population with mean $μ$ and standard deviation $σ$ and take sufficiently large $n \\ge 30$ random samples from the population with replacement, then the distribution of the sample means will be approximately normally distributed.\n",
    "\n",
    "Sampling can be done with or without replacement. If with replacement, the same data point could appear more than once in a sample. "
   ]
  },
  {
   "cell_type": "markdown",
   "metadata": {
    "id": "jJuDcqzYH7w0"
   },
   "source": [
    "##Problem 1\n",
    "\n",
    "In this lab, we assume the following $100$ weights to be a complete population, and thus can accurately calculate some important parameters of this dataset: [112.99,136.49,153.03,142.34,144.3,123.3,141.49,136.46,112.37,120.67,127.45,114.14,125.61,122.46,116.09,140,129.5,142.97,137.9,124.04,141.28,143.54,97.9,129.5,141.85,129.72,142.42,131.55,108.33,113.89,103.3,120.75,125.79,136.22,140.1,128.75,141.8,121.23,131.35,106.71,124.36,124.86,139.67,137.37,106.45,128.76,145.68,116.82,143.62,134.93,147.02,126.33,125.48,115.71,123.49,147.89,155.9,128.07,119.37,133.81,128.73,137.55,129.76,128.82,135.32,109.61,142.47,132.75,103.53,124.73,129.31,134.02,140.4,102.84,128.52,120.3,138.6,132.96,115.62,122.52,134.63,121.9,155.38,128.94,129.1,139.47,140.89,131.59,121.12,131.51,136.55,141.49,140.61,112.14,133.46,131.8,120.03,123.1,128.14,115.48]  \n",
    "\n",
    "Data source: http://wiki.stat.ucla.edu/socr/index.php/SOCR_Data_Dinov_020108_HeightsWeights \n",
    "\n",
    "**Your task:**\n",
    "\n",
    "* Create a Python List to store the population;  \n",
    "* Write four functions called **sumList()**, **meanList()**, **minMaxList()**, and **stdevList()** to calculate the summation, mean, miniumum, maximum,  standard deviation of a given list. Each function has a list as an input, and returns the corresponding result (i.e., max, min, etc.). \n",
    "* Write an application to apply the four functions above to the given weight list, and print out the results.\n",
    "\n",
    "**Please note:** meanList() should use sumList() to calculate the summation of a list.  minMaxList() should return both min and max values.\n",
    "\n",
    "Mean: $\\mu = \\frac{\\sum_{i=1}^N{x_i}}{N}$\n",
    "\n",
    "Standard deviation: $\\sigma = \\sqrt{\\frac{\\sum_{i=1}^N(x_i-\\mu)^2}{N}}$\n",
    "\n",
    "(Here, $x_i$ is a data point of the population)\n",
    "\n",
    "**Please note:** in this lab, you still cannot directly use built-in functions max(); min(); sum(); and mean() from statistics module. You can use len() if needed.\n",
    "\n",
    "The example of the expected output is shown below:\n",
    "\n",
    "The summation of this population is 12920.86\n",
    "\n",
    "The mean of this population is 129.21\n",
    "\n",
    "The min and max of this population is 97.90 and 155.90\n",
    "\n",
    "The standard deviation of this population is 12.06"
   ]
  },
  {
   "cell_type": "code",
   "execution_count": 1,
   "metadata": {
    "executionInfo": {
     "elapsed": 4,
     "status": "ok",
     "timestamp": 1644850010126,
     "user": {
      "displayName": "Yongning Tang",
      "photoUrl": "https://lh3.googleusercontent.com/a/default-user=s64",
      "userId": "15267084954923866581"
     },
     "user_tz": 360
    },
    "id": "IGHTwyQLBKD6"
   },
   "outputs": [],
   "source": [
    "#define functions\n",
    "def sumList(aList):\n",
    "    sum = 0\n",
    "    for i in aList:\n",
    "        sum += i\n",
    "    return sum\n",
    "\n",
    "def meanList(aList):\n",
    "    return sumList(aList) / len(aList)\n",
    "\n",
    "def minMaxList(aList):\n",
    "    min = aList[0]\n",
    "    max = aList[0]\n",
    "    for i in aList:\n",
    "        if i > max:\n",
    "            max = i\n",
    "        if i < min:\n",
    "            min = i\n",
    "    return min, max\n",
    "\n"
   ]
  },
  {
   "cell_type": "code",
   "execution_count": 2,
   "metadata": {
    "executionInfo": {
     "elapsed": 141,
     "status": "ok",
     "timestamp": 1644850013438,
     "user": {
      "displayName": "Yongning Tang",
      "photoUrl": "https://lh3.googleusercontent.com/a/default-user=s64",
      "userId": "15267084954923866581"
     },
     "user_tz": 360
    },
    "id": "xJ-TTEskRXks"
   },
   "outputs": [],
   "source": [
    "#To calculate standard deviation\n",
    "import math\n",
    "def stdevList(aList):\n",
    "    s = 0\n",
    "    sum = 0\n",
    "    for i in aList:\n",
    "        sum += (i - mean) ** 2\n",
    "    stdev = math.sqrt(sum/len(aList))\n",
    "    return stdev"
   ]
  },
  {
   "cell_type": "code",
   "execution_count": 3,
   "metadata": {
    "colab": {
     "base_uri": "https://localhost:8080/"
    },
    "executionInfo": {
     "elapsed": 161,
     "status": "ok",
     "timestamp": 1644850015797,
     "user": {
      "displayName": "Yongning Tang",
      "photoUrl": "https://lh3.googleusercontent.com/a/default-user=s64",
      "userId": "15267084954923866581"
     },
     "user_tz": 360
    },
    "id": "6E4FXrymu2xg",
    "outputId": "1dcca2c7-9d23-4157-c14b-82016d13dffe"
   },
   "outputs": [
    {
     "name": "stdout",
     "output_type": "stream",
     "text": [
      "The summation of this population is 12920.86\n",
      "The mean of this population is 129.21\n",
      "The min and max of this population is 97.90 and 155.90\n",
      "The standard deviation of this population is 12.06\n"
     ]
    }
   ],
   "source": [
    "#Here is the app calling the four functions\n",
    "weightList = [112.99,136.49,153.03,142.34,144.3,123.3,141.49,136.46,112.37,120.67,127.45,114.14,125.61,122.46,116.09,140,129.5,142.97,137.9,124.04,141.28,143.54,97.9,129.5,141.85,129.72,142.42,131.55,108.33,113.89,103.3,120.75,125.79,136.22,140.1,128.75,141.8,121.23,131.35,106.71,124.36,124.86,139.67,137.37,106.45,128.76,145.68,116.82,143.62,134.93,147.02,126.33,125.48,115.71,123.49,147.89,155.9,128.07,119.37,133.81,128.73,137.55,129.76,128.82,135.32,109.61,142.47,132.75,103.53,124.73,129.31,134.02,140.4,102.84,128.52,120.3,138.6,132.96,115.62,122.52,134.63,121.9,155.38,128.94,129.1,139.47,140.89,131.59,121.12,131.51,136.55,141.49,140.61,112.14,133.46,131.8,120.03,123.1,128.14,115.48]\n",
    "\n",
    "sum = sumList(weightList)\n",
    "mean = meanList(weightList)\n",
    "min, max = minMaxList(weightList)\n",
    "stdev = stdevList(weightList)\n",
    "\n",
    "print(\"The summation of this population is {:.2f}\".format(sum))\n",
    "print(\"The mean of this population is {:.2f}\".format(mean))\n",
    "print(\"The min and max of this population is {:.2f} and {:.2f}\".format(min, max))\n",
    "print(\"The standard deviation of this population is {:.2f}\".format(stdev))"
   ]
  },
  {
   "cell_type": "markdown",
   "metadata": {
    "id": "M-WEG4tUVjvg"
   },
   "source": [
    "##Problem 2\n",
    "\n",
    "**Your task:**\n",
    "\n",
    "* Write a function called **sampling()**, which can do sampling with and without replacement from the population. \n",
    "* Write an application to use sampling() to conduct sampling **5** times with the sampling sizes 5, 10, 30, respectively for both with and without replacement. Calculate the mean value for each sampled list (You should print 30 mean values).\n",
    "\n",
    "The expected outputs are shown below:\n",
    "\n",
    "The mean of 5 samples with replacement is 133.21\n",
    "\n",
    "......(Omit 4)\n",
    "\n",
    "The mean of 10 samples with replacement is 132.85\n",
    "\n",
    "......(Omit 4)\n",
    "\n",
    "The mean of 30 samples with replacement is 131.93\n",
    "\n",
    "......(Omit 4)\n",
    "\n",
    "The mean of 5 samples without replacement is 126.33\n",
    "\n",
    "......(Omit 4)\n",
    "\n",
    "The mean of 10 samples without replacement is 124.41\n",
    "\n",
    "......(Omit 4)\n",
    "\n",
    "The mean of 30 samples without replacement is 130.92\n",
    "\n",
    "......(Omit 4)\n",
    "\n",
    "Here is a quick review about the two sampling methods:\n",
    "* Sampling with replacement (the same data point could appear more than once in a sample)\n",
    "* Sampling without replacement (the same data point could appear only once in a sample)\n",
    "\n",
    "The function sampling() takes three arguments as input a list (type: List), sampling size (type: int), with/without replacement (type: boolean), which is **sampling(aList, sampleSize, withReplacement = True)**. sampling() returns the sampled list.  Here, aList and sampleSize are positional arguments; withReplacement is a keyword argument with default as True.\n",
    "\n"
   ]
  },
  {
   "cell_type": "code",
   "execution_count": 4,
   "metadata": {
    "executionInfo": {
     "elapsed": 121,
     "status": "ok",
     "timestamp": 1644850020514,
     "user": {
      "displayName": "Yongning Tang",
      "photoUrl": "https://lh3.googleusercontent.com/a/default-user=s64",
      "userId": "15267084954923866581"
     },
     "user_tz": 360
    },
    "id": "juyq46J_PHIO"
   },
   "outputs": [],
   "source": [
    "#sampling with replacement\n",
    "import random\n",
    "\n",
    "def sampling(aList, sampleSize, withReplacement = True):\n",
    "    sampleList = []\n",
    "    indexList = []\n",
    "    if withReplacement:\n",
    "        while len(sampleList) < sampleSize:\n",
    "            index = random.randint(0,len(aList)-1)\n",
    "            indexList.append(index)\n",
    "            sampleList.append(aList[index])\n",
    "    else:\n",
    "        while len(sampleList) < sampleSize:\n",
    "            index = random.randint(0,len(aList)-1)\n",
    "            if index not in indexList:\n",
    "                indexList.append(index)\n",
    "                sampleList.append(aList[index])\n",
    "    return sampleList"
   ]
  },
  {
   "cell_type": "code",
   "execution_count": 7,
   "metadata": {
    "colab": {
     "base_uri": "https://localhost:8080/"
    },
    "executionInfo": {
     "elapsed": 132,
     "status": "ok",
     "timestamp": 1644850192145,
     "user": {
      "displayName": "Yongning Tang",
      "photoUrl": "https://lh3.googleusercontent.com/a/default-user=s64",
      "userId": "15267084954923866581"
     },
     "user_tz": 360
    },
    "id": "6vJ9KXZU4Os3",
    "outputId": "977b0f02-888a-4a48-a038-41c716a4face"
   },
   "outputs": [
    {
     "name": "stdout",
     "output_type": "stream",
     "text": [
      "The mean of 5 samples with replacement is 133.21\n",
      "The mean of 5 samples with replacement is 125.43\n",
      "The mean of 5 samples with replacement is 127.36\n",
      "The mean of 5 samples with replacement is 124.89\n",
      "The mean of 5 samples with replacement is 132.33\n",
      "The mean of 10 samples with replacement is 132.85\n",
      "The mean of 10 samples with replacement is 124.26\n",
      "The mean of 10 samples with replacement is 133.99\n",
      "The mean of 10 samples with replacement is 128.70\n",
      "The mean of 10 samples with replacement is 132.88\n",
      "The mean of 30 samples with replacement is 131.93\n",
      "The mean of 30 samples with replacement is 130.94\n",
      "The mean of 30 samples with replacement is 130.31\n",
      "The mean of 30 samples with replacement is 128.37\n",
      "The mean of 30 samples with replacement is 125.83\n",
      "The mean of 5 samples without replacement is 126.33\n",
      "The mean of 5 samples without replacement is 119.36\n",
      "The mean of 5 samples without replacement is 124.02\n",
      "The mean of 5 samples without replacement is 130.51\n",
      "The mean of 5 samples without replacement is 128.90\n",
      "The mean of 10 samples without replacement is 124.41\n",
      "The mean of 10 samples without replacement is 127.72\n",
      "The mean of 10 samples without replacement is 129.14\n",
      "The mean of 10 samples without replacement is 127.79\n",
      "The mean of 10 samples without replacement is 128.36\n",
      "The mean of 30 samples without replacement is 130.92\n",
      "The mean of 30 samples without replacement is 130.03\n",
      "The mean of 30 samples without replacement is 128.61\n",
      "The mean of 30 samples without replacement is 133.36\n",
      "The mean of 30 samples without replacement is 129.21\n"
     ]
    }
   ],
   "source": [
    "#Here is the app calling sampling()\n",
    "weightList = [112.99,136.49,153.03,142.34,144.3,123.3,141.49,136.46,112.37,120.67,127.45,114.14,125.61,122.46,116.09,140,129.5,142.97,137.9,124.04,141.28,143.54,97.9,129.5,141.85,129.72,142.42,131.55,108.33,113.89,103.3,120.75,125.79,136.22,140.1,128.75,141.8,121.23,131.35,106.71,124.36,124.86,139.67,137.37,106.45,128.76,145.68,116.82,143.62,134.93,147.02,126.33,125.48,115.71,123.49,147.89,155.9,128.07,119.37,133.81,128.73,137.55,129.76,128.82,135.32,109.61,142.47,132.75,103.53,124.73,129.31,134.02,140.4,102.84,128.52,120.3,138.6,132.96,115.62,122.52,134.63,121.9,155.38,128.94,129.1,139.47,140.89,131.59,121.12,131.51,136.55,141.49,140.61,112.14,133.46,131.8,120.03,123.1,128.14,115.48]\n",
    "\n",
    "#sampling with replacement\n",
    "for sampleSize in [5, 10, 30]:\n",
    "    for n in range(5):\n",
    "        sampleList = sampling(weightList, sampleSize)\n",
    "        mean = meanList(sampleList)\n",
    "        print(\"The mean of {} samples with replacement is {:.2f}\".format(sampleSize, mean))\n",
    "\n",
    "#sampling without replacement\n",
    "for sampleSize in [5, 10, 30]:\n",
    "    for n in range(5):\n",
    "        sampleList = sampling(weightList, sampleSize, withReplacement = False)\n",
    "        mean = meanList(sampleList)\n",
    "        print(\"The mean of {} samples without replacement is {:.2f}\".format(sampleSize, mean))"
   ]
  }
 ],
 "metadata": {
  "colab": {
   "authorship_tag": "ABX9TyMdIwwStapLuzzRYrf/15qv",
   "collapsed_sections": [],
   "name": "IT166-Lab4.ipynb",
   "provenance": [
    {
     "file_id": "1tuS_mSxJXJPrZzZHO4XblviGmjGe2IG3",
     "timestamp": 1644814253230
    }
   ]
  },
  "kernelspec": {
   "display_name": "Python 3",
   "language": "python",
   "name": "python3"
  },
  "language_info": {
   "codemirror_mode": {
    "name": "ipython",
    "version": 3
   },
   "file_extension": ".py",
   "mimetype": "text/x-python",
   "name": "python",
   "nbconvert_exporter": "python",
   "pygments_lexer": "ipython3",
   "version": "3.8.8"
  }
 },
 "nbformat": 4,
 "nbformat_minor": 1
}

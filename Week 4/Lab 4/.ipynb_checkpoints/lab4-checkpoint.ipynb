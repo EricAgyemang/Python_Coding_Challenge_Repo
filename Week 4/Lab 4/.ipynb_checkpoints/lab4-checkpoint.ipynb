{
 "cells": [
  {
   "cell_type": "code",
   "execution_count": 6,
   "metadata": {},
   "outputs": [
    {
     "name": "stdout",
     "output_type": "stream",
     "text": [
      "The list is:  [212, 481, 391, 90, 159, 469, 260, 342, 117, 209, 360, 245, 379, 11, 498, 63, 316, 344, 195, 411, 181, 318, 346, 371, 208, 99, 328, 49, 280, 162, 8, 91, 284, 148, 356, 87, 205, 243, 226, 166, 384, 320, 470, 324, 250, 471, 43, 186, 299, 200]\n",
      "Mean:  253.1\n",
      "Standard deviation:  129.75\n"
     ]
    }
   ],
   "source": [
    "import random, math\n",
    "numbers = [random.randint(0,500) for _ in range(50)]\n",
    "print(\"The list is: \",numbers)\n",
    "mean = sum(numbers)/len(numbers)\n",
    "print(\"Mean: \",mean)\n",
    "sd = math.sqrt(sum([(x-mean)**2 for x in numbers])/len(numbers))\n",
    "print(\"Standard deviation: \",round(sd,2))"
   ]
  },
  {
   "cell_type": "code",
   "execution_count": 10,
   "metadata": {},
   "outputs": [
    {
     "name": "stdout",
     "output_type": "stream",
     "text": [
      "The exponential is 10\n",
      "There are 20 steps of expansions.\n",
      "The ground truth for e**10 is 22026.465794806703\n",
      "Our result is 21991.482025665064\n"
     ]
    }
   ],
   "source": [
    "import math\n",
    "x = 10\n",
    "print(\"The exponential is\",x)\n",
    "n = 20\n",
    "print(\"There are\",n,\"steps of expansions.\")\n",
    "dn = 1; result = 1\n",
    "for i in range(1,n+1):\n",
    "    dn *= i\n",
    "    result += x**i/dn\n",
    "print(\"The ground truth for e**10 is\",math.e**10)\n",
    "print(\"Our result is\",result)"
   ]
  },
  {
   "cell_type": "code",
   "execution_count": 16,
   "metadata": {},
   "outputs": [
    {
     "name": "stdout",
     "output_type": "stream",
     "text": [
      "One of the solutions is: [7, 9, 9, 9, 5, 5, 3, 8, 8]\n",
      "The result is 66.0\n"
     ]
    }
   ],
   "source": [
    "import random\n",
    "result = 0\n",
    "while result != 66:\n",
    "    x = [random.randint(1,9) for _ in range(9)]\n",
    "    result = x[0]+13*x[1]/x[2]+x[3]+12*x[4]-x[5]-11+x[6]*x[7]/x[8]-10\n",
    "print(\"One of the solutions is:\",x)\n",
    "print(\"The result is\",result)"
   ]
  },
  {
   "cell_type": "code",
   "execution_count": null,
   "metadata": {},
   "outputs": [],
   "source": []
  }
 ],
 "metadata": {
  "kernelspec": {
   "display_name": "Python 3",
   "language": "python",
   "name": "python3"
  },
  "language_info": {
   "codemirror_mode": {
    "name": "ipython",
    "version": 3
   },
   "file_extension": ".py",
   "mimetype": "text/x-python",
   "name": "python",
   "nbconvert_exporter": "python",
   "pygments_lexer": "ipython3",
   "version": "3.8.8"
  }
 },
 "nbformat": 4,
 "nbformat_minor": 2
}

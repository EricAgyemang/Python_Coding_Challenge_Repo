{
 "cells": [
  {
   "cell_type": "code",
   "execution_count": 6,
   "metadata": {},
   "outputs": [
    {
     "name": "stdout",
     "output_type": "stream",
     "text": [
      "The list is:  [212, 481, 391, 90, 159, 469, 260, 342, 117, 209, 360, 245, 379, 11, 498, 63, 316, 344, 195, 411, 181, 318, 346, 371, 208, 99, 328, 49, 280, 162, 8, 91, 284, 148, 356, 87, 205, 243, 226, 166, 384, 320, 470, 324, 250, 471, 43, 186, 299, 200]\n",
      "Mean:  253.1\n",
      "Standard deviation:  129.75\n"
     ]
    }
   ],
   "source": [
    "import random, math\n",
    "numbers = [random.randint(0,500) for _ in range(50)]\n",
    "print(\"The list is: \",numbers)\n",
    "mean = sum(numbers)/len(numbers)\n",
    "print(\"Mean: \",mean)\n",
    "sd = math.sqrt(sum([(x-mean)**2 for x in numbers])/len(numbers))\n",
    "print(\"Standard deviation: \",round(sd,2))"
   ]
  },
  {
   "cell_type": "code",
   "execution_count": 10,
   "metadata": {},
   "outputs": [
    {
     "name": "stdout",
     "output_type": "stream",
     "text": [
      "The exponential is 10\n",
      "There are 20 steps of expansions.\n",
      "The ground truth for e**10 is 22026.465794806703\n",
      "Our result is 21991.482025665064\n"
     ]
    }
   ],
   "source": [
    "import math\n",
    "x = 10\n",
    "print(\"The exponential is\",x)\n",
    "n = 20\n",
    "print(\"There are\",n,\"steps of expansions.\")\n",
    "dn = 1; result = 1\n",
    "for i in range(1,n+1):\n",
    "    dn *= i\n",
    "    result += x**i/dn\n",
    "print(\"The ground truth for e**10 is\",math.e**10)\n",
    "print(\"Our result is\",result)"
   ]
  },
  {
   "cell_type": "code",
   "execution_count": 3,
   "metadata": {},
   "outputs": [
    {
     "name": "stdout",
     "output_type": "stream",
     "text": [
      "One of the solutions is: [6, 8, 8, 3, 6, 9, 9, 2, 9]\n",
      "The result is 66.0\n"
     ]
    }
   ],
   "source": [
    "import random\n",
    "result = 0\n",
    "while result != 66:\n",
    "    x = [random.randint(1,9) for _ in range(9)]\n",
    "    result = x[0]+13*x[1]/x[2]+x[3]+12*x[4]-x[5]-11+x[6]*x[7]/x[8]-10\n",
    "print(\"One of the solutions is:\",x)\n",
    "print(\"The result is\",result)"
   ]
  },
  {
   "cell_type": "code",
   "execution_count": null,
   "metadata": {},
   "outputs": [],
   "source": []
  },
  {
   "cell_type": "code",
   "execution_count": null,
   "metadata": {},
   "outputs": [],
   "source": []
  },
  {
   "cell_type": "code",
   "execution_count": 9,
   "metadata": {},
   "outputs": [
    {
     "name": "stdout",
     "output_type": "stream",
     "text": [
      "Enter a number: -1.3\n",
      "-1.3 is a negative floating-point number\n"
     ]
    }
   ],
   "source": [
    "#Problem 3\n",
    "# accepting input from a user\n",
    "num = input(\"Enter a number: \")\n",
    "# checks for decimal point in number to see if its a floating number\n",
    "if '.' in num:\n",
    "    # checks if the floating point number is positive or negative then prints\n",
    "    if float(num) < 0:\n",
    "        print(num + \" is a negative floating-point number\")\n",
    "    else:\n",
    "        print(num + \" is a positive floating-point number\")\n",
    "# checks if the number is even\n",
    "elif int(num) % 2 == 0:\n",
    "    # checks if even number is positive or negative then prints\n",
    "    if int(num) < 0:\n",
    "        print(num +\" is a negative even number\")\n",
    "    else:\n",
    "        print(num + \" is a positive even number\")\n",
    "# prints the number if its odd\n",
    "else:\n",
    "    # checks if odd number is positve or negative then prints\n",
    "    if int(num) < 0:\n",
    "        print(num + \" is a negative odd number\")\n",
    "    else:\n",
    "        print(num + \" is a positive odd number\")\n"
   ]
  },
  {
   "cell_type": "code",
   "execution_count": null,
   "metadata": {},
   "outputs": [],
   "source": []
  },
  {
   "cell_type": "code",
   "execution_count": null,
   "metadata": {},
   "outputs": [],
   "source": []
  },
  {
   "cell_type": "code",
   "execution_count": 13,
   "metadata": {},
   "outputs": [
    {
     "name": "stdout",
     "output_type": "stream",
     "text": [
      "Enter a ULID: ea2\n",
      "ea2 ends with a number.\n",
      "The reversed ULID is: 2ae\n"
     ]
    }
   ],
   "source": [
    "\n",
    "#Problem 1: ULID Analysis\n",
    "\n",
    "#Accepting input from a user\n",
    "ulid = input(\"Enter a ULID: \")\n",
    "\n",
    "check_list = ['0','1','2','3','4','5','6','7','8','9']\n",
    "\n",
    "#Case 1\n",
    "if ulid.isalpha():\n",
    "    print(ulid, \"consists of only alphabetical letters.\")\n",
    "\n",
    "#Case 2\n",
    "elif ulid[-1] in check_list:\n",
    "    print(ulid, \"ends with a number.\")\n",
    "    print(\"The reversed ULID is: \" + ulid[::-1])\n",
    "\n",
    "#Case 3\n",
    "else: print(ulid, \"is not a valid ULID.\")\n"
   ]
  },
  {
   "cell_type": "code",
   "execution_count": null,
   "metadata": {},
   "outputs": [],
   "source": []
  },
  {
   "cell_type": "code",
   "execution_count": null,
   "metadata": {},
   "outputs": [],
   "source": []
  },
  {
   "cell_type": "code",
   "execution_count": 19,
   "metadata": {},
   "outputs": [
    {
     "name": "stdout",
     "output_type": "stream",
     "text": [
      "Enter a number: -13\n",
      "-13 is a negative odd number.\n"
     ]
    }
   ],
   "source": [
    "#problem 3: Numbers (Advanced)\n",
    "NumSign = (input(\"Enter a number: \"))\n",
    "#accepting input from a user\n",
    "if '.' in NumSign:\n",
    "    if float(NumSign)<0:\n",
    "        print (NumSign + \" is a negative floating-point number.\")\n",
    "    elif float(NumSign)>0:\n",
    "        print (NumSign + \" is a positive floating-point number.\")\n",
    "#checking if Num  has a decimal.  If yes, the will then code will check if the number is positive or negative. If conditions are met, correct code above will print and you are done.  Otherwise,\n",
    "\n",
    "\n",
    "elif int(NumSign)%2==0:\n",
    "    if int(NumSign)<0:\n",
    "        print (NumSign + \" is a negative even number.\")\n",
    "    elif int(NumSign)>0:\n",
    "        print (NumSign + \" is a positive even number.\")\n",
    "#checking if Num is an integer and the number is even.  If yes, the code will then check if the number is positive or negative.  If conditions are met, the code above will print and you are done.  Otherwise,\n",
    "\n",
    "\n",
    "elif int(NumSign)<0:\n",
    "    print (NumSign + \" is a negative odd number.\")\n",
    "else:\n",
    "    print (NumSign + \" is a positive odd number.\")\n",
    "# Num is an integer and the number is odd.  The code will then check if the number is positive or negative.  The code above will print and you are done.\n",
    "\n"
   ]
  },
  {
   "cell_type": "code",
   "execution_count": null,
   "metadata": {},
   "outputs": [],
   "source": []
  },
  {
   "cell_type": "code",
   "execution_count": null,
   "metadata": {},
   "outputs": [],
   "source": []
  },
  {
   "cell_type": "code",
   "execution_count": 24,
   "metadata": {},
   "outputs": [
    {
     "name": "stdout",
     "output_type": "stream",
     "text": [
      "Enter a ULID: eagyem2\n",
      "eagyem2 is not a valid ULID\n"
     ]
    }
   ],
   "source": [
    "# Course: IT166\n",
    "# Author: Vaughn Wampole\n",
    "# Lab: 3\n",
    "# Problem 1\n",
    "ULID = input(\"Enter a ULID: \") \n",
    "if ULID.isalpha(): # Checks whether the input is composed entirely of letters.\n",
    "    print(ULID, \"consists of only alphabetical letters.\")\n",
    "elif ULID[-2].isnumeric(): # Checks whether the input ends with a number\n",
    "    print(ULID,  \"ends with a number.\")\n",
    "    print(\"The reversed ULID is:\", ULID[::-1]) # Reverses the ULID\n",
    "else: print(ULID, \"is not a valid ULID\") \n"
   ]
  },
  {
   "cell_type": "code",
   "execution_count": null,
   "metadata": {},
   "outputs": [],
   "source": []
  },
  {
   "cell_type": "code",
   "execution_count": null,
   "metadata": {},
   "outputs": [],
   "source": []
  },
  {
   "cell_type": "code",
   "execution_count": 33,
   "metadata": {},
   "outputs": [
    {
     "name": "stdout",
     "output_type": "stream",
     "text": [
      "Enter a number: 1.2\n",
      "1.2 is a positive floating-point number.\n"
     ]
    }
   ],
   "source": [
    "# Problem 3\n",
    "number = float(input(\"Enter a number: \"))\n",
    "if number == abs(number): # Checks whether the number is positive or negative.\n",
    "    test = \"positive\"\n",
    "else:\n",
    "    test = \"negative\"\n",
    "\n",
    "if type(number) == float and int(number) != number: # Checks whether the number is a float or int.\n",
    "    print(number, \"is a\", test, \"floating-point number.\") \n",
    "else:\n",
    "    if (abs(number) % 2) == 0: # Checks whether the integer is even or odd.\n",
    "        print(str(int(number)), \"is an\", test, \"even number.\") \n",
    "    else : \n",
    "        print(str(int(number)), \"is an\", test, \"odd number.\")"
   ]
  },
  {
   "cell_type": "code",
   "execution_count": null,
   "metadata": {},
   "outputs": [],
   "source": []
  }
 ],
 "metadata": {
  "kernelspec": {
   "display_name": "Python 3",
   "language": "python",
   "name": "python3"
  },
  "language_info": {
   "codemirror_mode": {
    "name": "ipython",
    "version": 3
   },
   "file_extension": ".py",
   "mimetype": "text/x-python",
   "name": "python",
   "nbconvert_exporter": "python",
   "pygments_lexer": "ipython3",
   "version": "3.8.8"
  }
 },
 "nbformat": 4,
 "nbformat_minor": 2
}

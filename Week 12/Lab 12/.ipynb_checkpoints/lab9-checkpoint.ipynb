{
 "cells": [
  {
   "cell_type": "code",
   "execution_count": 11,
   "metadata": {
    "scrolled": true
   },
   "outputs": [
    {
     "data": {
      "text/html": [
       "<div>\n",
       "<style scoped>\n",
       "    .dataframe tbody tr th:only-of-type {\n",
       "        vertical-align: middle;\n",
       "    }\n",
       "\n",
       "    .dataframe tbody tr th {\n",
       "        vertical-align: top;\n",
       "    }\n",
       "\n",
       "    .dataframe thead th {\n",
       "        text-align: right;\n",
       "    }\n",
       "</style>\n",
       "<table border=\"1\" class=\"dataframe\">\n",
       "  <thead>\n",
       "    <tr style=\"text-align: right;\">\n",
       "      <th></th>\n",
       "      <th>Age</th>\n",
       "      <th>Midterm_1</th>\n",
       "      <th>Midterm_2</th>\n",
       "      <th>Average</th>\n",
       "      <th>Major</th>\n",
       "    </tr>\n",
       "    <tr>\n",
       "      <th>Name</th>\n",
       "      <th></th>\n",
       "      <th></th>\n",
       "      <th></th>\n",
       "      <th></th>\n",
       "      <th></th>\n",
       "    </tr>\n",
       "  </thead>\n",
       "  <tbody>\n",
       "    <tr>\n",
       "      <th>Alice</th>\n",
       "      <td>19</td>\n",
       "      <td>100</td>\n",
       "      <td>80</td>\n",
       "      <td>90.0</td>\n",
       "      <td>IT</td>\n",
       "    </tr>\n",
       "    <tr>\n",
       "      <th>Bob</th>\n",
       "      <td>21</td>\n",
       "      <td>85</td>\n",
       "      <td>99</td>\n",
       "      <td>92.0</td>\n",
       "      <td>NaN</td>\n",
       "    </tr>\n",
       "    <tr>\n",
       "      <th>Caro</th>\n",
       "      <td>20</td>\n",
       "      <td>90</td>\n",
       "      <td>85</td>\n",
       "      <td>87.5</td>\n",
       "      <td>Mathematics</td>\n",
       "    </tr>\n",
       "    <tr>\n",
       "      <th>David</th>\n",
       "      <td>22</td>\n",
       "      <td>77</td>\n",
       "      <td>75</td>\n",
       "      <td>76.0</td>\n",
       "      <td>IT</td>\n",
       "    </tr>\n",
       "  </tbody>\n",
       "</table>\n",
       "</div>"
      ],
      "text/plain": [
       "       Age  Midterm_1  Midterm_2  Average        Major\n",
       "Name                                                  \n",
       "Alice   19        100         80     90.0           IT\n",
       "Bob     21         85         99     92.0          NaN\n",
       "Caro    20         90         85     87.5  Mathematics\n",
       "David   22         77         75     76.0           IT"
      ]
     },
     "execution_count": 11,
     "metadata": {},
     "output_type": "execute_result"
    }
   ],
   "source": [
    "import pandas as pd\n",
    "import numpy as np\n",
    "data = {'Name':['Alice','Bob','Caro','David'],'Age':[19,21,20,22],'Midterm_1':[100,85,90,77],'Midterm_2':[80,99,85,75]}\n",
    "df = pd.DataFrame(data,index=[1,2,3,4],columns=['Name','Age','Midterm_1','Midterm_2'])\n",
    "df['Average'] = (df['Midterm_1'] + df['Midterm_2'])/2\n",
    "df['Major'] = ['IT',np.nan,'Mathematics','IT']\n",
    "df\n",
    "df.index = df.Name\n",
    "del df['Name']\n",
    "df"
   ]
  },
  {
   "cell_type": "code",
   "execution_count": 30,
   "metadata": {},
   "outputs": [
    {
     "name": "stdout",
     "output_type": "stream",
     "text": [
      "          0         1         2         3         4\n",
      "0 -0.551642 -0.917440  2.192903 -1.403199  0.819914\n",
      "1 -1.317458  0.372976 -0.037259  1.046262  1.831721\n",
      "2 -0.210886  0.869276  1.851818  1.465877  0.642305\n",
      "3 -1.132067  0.157274 -0.793022 -0.088709  0.323303\n",
      "4 -0.557636 -0.340715 -0.204136  0.749714  1.260035\n",
      "\n",
      "The sum of all the positive values: 13.583378195698685\n",
      "The sum of all the negative values: -7.5541695948812695\n",
      "\n",
      "Rows that meet the requirement:\n",
      "          0         1         2         3         4\n",
      "0 -0.551642 -0.917440  2.192903 -1.403199  0.819914\n",
      "1 -1.317458  0.372976 -0.037259  1.046262  1.831721\n",
      "2 -0.210886  0.869276  1.851818  1.465877  0.642305\n",
      "After dropping the 3rd row:\n",
      "          0         1         2         3         4\n",
      "0 -0.551642 -0.917440  2.192903 -1.403199  0.819914\n",
      "1 -1.317458  0.372976 -0.037259  1.046262  1.831721\n",
      "3 -1.132067  0.157274 -0.793022 -0.088709  0.323303\n",
      "4 -0.557636 -0.340715 -0.204136  0.749714  1.260035\n",
      "After dropping the 2nd column:\n",
      "          0         2         3         4\n",
      "0 -0.551642  2.192903 -1.403199  0.819914\n",
      "1 -1.317458 -0.037259  1.046262  1.831721\n",
      "2 -0.210886  1.851818  1.465877  0.642305\n",
      "3 -1.132067 -0.793022 -0.088709  0.323303\n",
      "4 -0.557636 -0.204136  0.749714  1.260035\n"
     ]
    }
   ],
   "source": [
    "df2 = pd.DataFrame(np.random.randn(5,5))\n",
    "print(df2,end='\\n\\n')\n",
    "\n",
    "print(\"The sum of all the positive values:\",df2[df2 > 0].fillna(0).values.sum())\n",
    "print(\"The sum of all the negative values:\",df2[df2 < 0].fillna(0).values.sum(),end='\\n\\n')\n",
    "print(\"Rows that meet the requirement:\")\n",
    "print(df2[(np.abs(df2) > 1.8).any(1)])\n",
    "\n",
    "print(\"After dropping the 3rd row:\")\n",
    "print(df2.drop(2))\n",
    "print(\"After dropping the 2nd column:\")\n",
    "print(df2.drop(1,axis=1))"
   ]
  },
  {
   "cell_type": "code",
   "execution_count": null,
   "metadata": {},
   "outputs": [],
   "source": []
  }
 ],
 "metadata": {
  "kernelspec": {
   "display_name": "Python 3",
   "language": "python",
   "name": "python3"
  },
  "language_info": {
   "codemirror_mode": {
    "name": "ipython",
    "version": 3
   },
   "file_extension": ".py",
   "mimetype": "text/x-python",
   "name": "python",
   "nbconvert_exporter": "python",
   "pygments_lexer": "ipython3",
   "version": "3.8.8"
  }
 },
 "nbformat": 4,
 "nbformat_minor": 2
}

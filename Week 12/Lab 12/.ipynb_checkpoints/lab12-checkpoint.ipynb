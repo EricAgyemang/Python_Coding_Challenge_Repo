{
 "cells": [
  {
   "cell_type": "code",
   "execution_count": 1,
   "metadata": {
    "scrolled": true
   },
   "outputs": [
    {
     "data": {
      "text/html": [
       "<div>\n",
       "<style scoped>\n",
       "    .dataframe tbody tr th:only-of-type {\n",
       "        vertical-align: middle;\n",
       "    }\n",
       "\n",
       "    .dataframe tbody tr th {\n",
       "        vertical-align: top;\n",
       "    }\n",
       "\n",
       "    .dataframe thead th {\n",
       "        text-align: right;\n",
       "    }\n",
       "</style>\n",
       "<table border=\"1\" class=\"dataframe\">\n",
       "  <thead>\n",
       "    <tr style=\"text-align: right;\">\n",
       "      <th></th>\n",
       "      <th>Age</th>\n",
       "      <th>Midterm_1</th>\n",
       "      <th>Midterm_2</th>\n",
       "      <th>Average</th>\n",
       "      <th>Major</th>\n",
       "    </tr>\n",
       "    <tr>\n",
       "      <th>Name</th>\n",
       "      <th></th>\n",
       "      <th></th>\n",
       "      <th></th>\n",
       "      <th></th>\n",
       "      <th></th>\n",
       "    </tr>\n",
       "  </thead>\n",
       "  <tbody>\n",
       "    <tr>\n",
       "      <th>Alice</th>\n",
       "      <td>19</td>\n",
       "      <td>100</td>\n",
       "      <td>80</td>\n",
       "      <td>90.0</td>\n",
       "      <td>IT</td>\n",
       "    </tr>\n",
       "    <tr>\n",
       "      <th>Bob</th>\n",
       "      <td>21</td>\n",
       "      <td>85</td>\n",
       "      <td>99</td>\n",
       "      <td>92.0</td>\n",
       "      <td>NaN</td>\n",
       "    </tr>\n",
       "    <tr>\n",
       "      <th>Caro</th>\n",
       "      <td>20</td>\n",
       "      <td>90</td>\n",
       "      <td>85</td>\n",
       "      <td>87.5</td>\n",
       "      <td>Mathematics</td>\n",
       "    </tr>\n",
       "    <tr>\n",
       "      <th>David</th>\n",
       "      <td>22</td>\n",
       "      <td>77</td>\n",
       "      <td>75</td>\n",
       "      <td>76.0</td>\n",
       "      <td>IT</td>\n",
       "    </tr>\n",
       "  </tbody>\n",
       "</table>\n",
       "</div>"
      ],
      "text/plain": [
       "       Age  Midterm_1  Midterm_2  Average        Major\n",
       "Name                                                  \n",
       "Alice   19        100         80     90.0           IT\n",
       "Bob     21         85         99     92.0          NaN\n",
       "Caro    20         90         85     87.5  Mathematics\n",
       "David   22         77         75     76.0           IT"
      ]
     },
     "execution_count": 1,
     "metadata": {},
     "output_type": "execute_result"
    }
   ],
   "source": [
    "#Problem 1\n",
    "import pandas as pd\n",
    "import numpy as np\n",
    "\n",
    "#1\n",
    "data = {'Name':['Alice','Bob','Caro','David'],'Age':[19,21,20,22],'Midterm_1':[100,85,90,77],'Midterm_2':[80,99,85,75]}\n",
    "df = pd.DataFrame(data,index=[1,2,3,4],columns=['Name','Age','Midterm_1','Midterm_2'])\n",
    "#2\n",
    "df['Average'] = (df['Midterm_1'] + df['Midterm_2'])/2\n",
    "\n",
    "#3\n",
    "df['Major'] = ['IT',np.nan,'Mathematics','IT']\n",
    "df\n",
    "\n",
    "#4\n",
    "df.index = df.Name\n",
    "del df['Name']\n",
    "df"
   ]
  },
  {
   "cell_type": "code",
   "execution_count": 9,
   "metadata": {},
   "outputs": [
    {
     "name": "stdout",
     "output_type": "stream",
     "text": [
      "          0         1         2         3         4\n",
      "0  0.313287  0.155650  0.217391  1.116874 -1.413816\n",
      "1 -0.879660 -0.238374 -1.121487  1.367004 -0.036304\n",
      "2 -0.527159 -0.676517  0.294578  0.391215  0.899862\n",
      "3  0.248890 -0.286427 -0.506604  2.290864  1.104126\n",
      "4  0.180791  0.388549  0.187766  0.838038  0.433370\n",
      "\n",
      "The sum of all the positive values: 10.428254569925768\n",
      "The sum of all the negative values: -5.686349004521035\n",
      "\n",
      "Rows that meet the requirement:\n",
      "         0         1         2         3         4\n",
      "3  0.24889 -0.286427 -0.506604  2.290864  1.104126\n",
      "After dropping the 3rd row:\n",
      "          0         1         2         3         4\n",
      "0  0.313287  0.155650  0.217391  1.116874 -1.413816\n",
      "1 -0.879660 -0.238374 -1.121487  1.367004 -0.036304\n",
      "3  0.248890 -0.286427 -0.506604  2.290864  1.104126\n",
      "4  0.180791  0.388549  0.187766  0.838038  0.433370\n",
      "After dropping the 2nd column:\n",
      "          0         2         3         4\n",
      "0  0.313287  0.217391  1.116874 -1.413816\n",
      "1 -0.879660 -1.121487  1.367004 -0.036304\n",
      "2 -0.527159  0.294578  0.391215  0.899862\n",
      "3  0.248890 -0.506604  2.290864  1.104126\n",
      "4  0.180791  0.187766  0.838038  0.433370\n"
     ]
    }
   ],
   "source": [
    "# Problem 2\n",
    "df2 = pd.DataFrame(np.random.randn(5,5))\n",
    "print(df2,end='\\n\\n')\n",
    "\n",
    "#1\n",
    "print(\"The sum of all the positive values:\",df2[df2 > 0].fillna(0).values.sum())\n",
    "print(\"The sum of all the negative values:\",df2[df2 < 0].fillna(0).values.sum(),end='\\n\\n')\n",
    "\n",
    "#2\n",
    "print(\"Rows that meet the requirement:\")\n",
    "print(df2[(np.abs(df2) > 1.8).any(1)])\n",
    "\n",
    "#3\n",
    "print(\"After dropping the 3rd row:\")\n",
    "print(df2.drop(2))\n",
    "print(\"After dropping the 2nd column:\")\n",
    "print(df2.drop(1,axis=1))"
   ]
  },
  {
   "cell_type": "code",
   "execution_count": null,
   "metadata": {},
   "outputs": [],
   "source": []
  }
 ],
 "metadata": {
  "kernelspec": {
   "display_name": "Python 3 (ipykernel)",
   "language": "python",
   "name": "python3"
  },
  "language_info": {
   "codemirror_mode": {
    "name": "ipython",
    "version": 3
   },
   "file_extension": ".py",
   "mimetype": "text/x-python",
   "name": "python",
   "nbconvert_exporter": "python",
   "pygments_lexer": "ipython3",
   "version": "3.9.13"
  }
 },
 "nbformat": 4,
 "nbformat_minor": 2
}

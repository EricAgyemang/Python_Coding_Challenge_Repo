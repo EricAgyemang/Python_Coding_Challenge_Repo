{
 "cells": [
  {
   "cell_type": "code",
   "execution_count": 8,
   "id": "84f17862",
   "metadata": {},
   "outputs": [
    {
     "name": "stdout",
     "output_type": "stream",
     "text": [
      "One of the solutions is: [8, 2, 4, 3, 5, 1, 9, 7, 6]\n"
     ]
    }
   ],
   "source": [
    "\n",
    "# Problem 4\n",
    "import random\n",
    "list = [i for i in range(1,10)] # Creates a list of numbers from 1 to 9. This guarantees that there is at least one solution.\n",
    "\n",
    "bool = False # Once the solution is found, the variable bool changes to True and the loop stops.\n",
    "\n",
    "while bool == False: # The loop continues until a solution is found.\n",
    "    random.shuffle(list)\n",
    "\n",
    "    value = list[0]+13*list[1]/list[2]+list[3]+12*list[4]-list[5]-11+list[6]*list[7]/list[8]-10 # Calculates the value of the expression\n",
    "    if value == 66: # Checks whether the calcualted value equals the goal of 66.\n",
    "        bool = True\n",
    "        print(\"One of the solutions is:\", list)\n",
    "    \n"
   ]
  },
  {
   "cell_type": "code",
   "execution_count": null,
   "id": "2b057bad",
   "metadata": {},
   "outputs": [],
   "source": []
  }
 ],
 "metadata": {
  "kernelspec": {
   "display_name": "Python 3",
   "language": "python",
   "name": "python3"
  },
  "language_info": {
   "codemirror_mode": {
    "name": "ipython",
    "version": 3
   },
   "file_extension": ".py",
   "mimetype": "text/x-python",
   "name": "python",
   "nbconvert_exporter": "python",
   "pygments_lexer": "ipython3",
   "version": "3.8.8"
  }
 },
 "nbformat": 4,
 "nbformat_minor": 5
}

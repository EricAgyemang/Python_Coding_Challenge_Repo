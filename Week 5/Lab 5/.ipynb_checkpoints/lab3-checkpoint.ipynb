{
 "cells": [
  {
   "cell_type": "code",
   "execution_count": null,
   "id": "3261e4eb",
   "metadata": {},
   "outputs": [],
   "source": [
    "ULID = input(\"Enter a ULID:\")\n",
    "alpha = ULID.isalpha()\n",
    "if alpha :\n",
    "    print(ULID + \" contains only alphabetical letters.\")\n",
    "if ULID[-1].isdigit() :\n",
    "    def function(x):\n",
    "        return x[::-1]\n",
    "    REVULID = function(ULID)\n",
    "    print(\"The reversed ULID is: \" + REVULID)\n",
    "else :\n",
    "    print(ULID + \" is not a valid ULID.\")\n"
   ]
  },
  {
   "cell_type": "code",
   "execution_count": null,
   "id": "70b77d86",
   "metadata": {
    "scrolled": true
   },
   "outputs": [],
   "source": [
    "#There has to be an easier way to do this than a try except statement\n",
    "num = input(\"Enter a number: \")\n",
    "try:\n",
    "    num = int(num)\n",
    "    if (num % 2) == 0:\n",
    "        print(\"The number is even and it's value is: \" + str(num))\n",
    "    else:\n",
    "        print(\"The number is odd and it's value is: \" + str(num))\n",
    "except ValueError:\n",
    "    num = float(num)\n",
    "    print(\"The number is floating-point and it's value is: \" + str(num))\n",
    "\n",
    "\n",
    "    "
   ]
  },
  {
   "cell_type": "code",
   "execution_count": null,
   "id": "724b6c2e",
   "metadata": {},
   "outputs": [],
   "source": [
    "num = input(\"Enter a number: \")\n",
    "try:\n",
    "    num = int(num)\n",
    "    if (num % 2) == 0:\n",
    "        if (num > 0):\n",
    "            print(\"The number is positive and even and it's value is: \" + str(num))\n",
    "        else:\n",
    "            print(\"The number is negative and even and it's value is: \" + str(num))\n",
    "    else:\n",
    "        if (num > 0):\n",
    "            print(\"The number is positive and odd and it's value is: \" + str(num))\n",
    "        else:\n",
    "            print(\"The number is negative and odd and it's value is: \" + str(num))\n",
    "except ValueError:\n",
    "    num = float(num)\n",
    "    if (num > 0):\n",
    "        print(\"The number is positive and floating-point and it's value is: \" + str(num))\n",
    "    else:\n",
    "        print(\"The number is negative and floating-point and it's value is: \" + str(num))\n",
    "\n"
   ]
  }
 ],
 "metadata": {
  "kernelspec": {
   "display_name": "Python 3 (ipykernel)",
   "language": "python",
   "name": "python3"
  },
  "language_info": {
   "codemirror_mode": {
    "name": "ipython",
    "version": 3
   },
   "file_extension": ".py",
   "mimetype": "text/x-python",
   "name": "python",
   "nbconvert_exporter": "python",
   "pygments_lexer": "ipython3",
   "version": "3.9.12"
  }
 },
 "nbformat": 4,
 "nbformat_minor": 5
}

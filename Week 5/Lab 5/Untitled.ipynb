{
 "cells": [
  {
   "cell_type": "code",
   "execution_count": 10,
   "id": "df20574f",
   "metadata": {},
   "outputs": [
    {
     "name": "stdout",
     "output_type": "stream",
     "text": [
      "One of the possible solutions is: [4, 6, 2, 6, 1, 3, 8, 4, 8]\n"
     ]
    }
   ],
   "source": [
    "import random as r\n",
    "nums = [0,0,0,0,0,0,0,0,0]\n",
    "i = 0\n",
    "while i < len(nums):\n",
    "    nums[i] = r.randint(1,9)\n",
    "    i = i + 1\n",
    "\n",
    "\n",
    "print(\"One of the possible solutions is: \" + str(nums))\n",
    "\n",
    "\n",
    "# In[ ]:"
   ]
  },
  {
   "cell_type": "code",
   "execution_count": null,
   "id": "5d8cd7ca",
   "metadata": {},
   "outputs": [],
   "source": []
  }
 ],
 "metadata": {
  "kernelspec": {
   "display_name": "Python 3",
   "language": "python",
   "name": "python3"
  },
  "language_info": {
   "codemirror_mode": {
    "name": "ipython",
    "version": 3
   },
   "file_extension": ".py",
   "mimetype": "text/x-python",
   "name": "python",
   "nbconvert_exporter": "python",
   "pygments_lexer": "ipython3",
   "version": "3.8.8"
  }
 },
 "nbformat": 4,
 "nbformat_minor": 5
}

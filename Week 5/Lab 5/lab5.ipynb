{
 "cells": [
  {
   "cell_type": "code",
   "execution_count": 1,
   "metadata": {},
   "outputs": [
    {
     "name": "stdout",
     "output_type": "stream",
     "text": [
      "The length of the list is 500\n",
      "First 20 numbers in the list: [883, 885, 546, 588, 801, 799, 84, 68, 947, 32, 313, 229, 391, 491, 873, 174, 914, 851, 872, 898]\n",
      "The list after the function call: []\n"
     ]
    }
   ],
   "source": [
    "import random\n",
    "numbers = [random.randint(0,1000) for _ in range(500)]\n",
    "print(\"The length of the list is\",len(numbers))\n",
    "print(\"First 20 numbers in the list:\",numbers[:20])\n",
    "\n",
    "def empty_list(List):\n",
    "    while len(List) > 0:\n",
    "        List.pop()\n",
    "empty_list(numbers)\n",
    "print(\"The list after the function call:\",numbers)"
   ]
  },
  {
   "cell_type": "code",
   "execution_count": 2,
   "metadata": {},
   "outputs": [
    {
     "name": "stdout",
     "output_type": "stream",
     "text": [
      "The generated dictionay: {1: [586, 862, 133, 345, 974], 2: [268, 987, 263, 578, 233], 3: [63, 457, 648, 761, 65], 4: [603, 154, 884, 877, 670], 5: [186, 356, 894, 87, 44], 6: [734, 732, 419, 425, 303], 7: [7, 240, 341, 620, 477], 8: [112, 900, 208, 376, 130], 9: [886, 119, 116, 503, 834], 10: [464, 857, 94, 671, 805]}\n",
      "The dictionary after the cleaning up: {1: [], 2: [], 3: [], 4: [], 5: [], 6: [], 7: [], 8: [], 9: [], 10: []}\n"
     ]
    }
   ],
   "source": [
    "import random\n",
    "def empty_list(List):\n",
    "    while len(List) > 0:\n",
    "        List.pop()\n",
    "        \n",
    "def dict_gen():\n",
    "    return {x:[random.randint(0,1000) for _ in range(5)] for x in range(1,11)}\n",
    "\n",
    "D = dict_gen()\n",
    "print(\"The generated dictionary:\",D)\n",
    "for key in list(D.keys()):\n",
    "    empty_list(D[key])\n",
    "print(\"The dictionary after the cleaning up:\",D)"
   ]
  },
  {
   "cell_type": "code",
   "execution_count": 3,
   "metadata": {},
   "outputs": [
    {
     "name": "stdout",
     "output_type": "stream",
     "text": [
      "The ground truth for e**15 is 3269017.372472108\n",
      "Result based on 10 expansions: 387262.2193080357\n",
      "Result based on 20 expansions: 2997784.0261694463\n",
      "Result based on 100 expansions: 3269017.3724721107\n"
     ]
    }
   ],
   "source": [
    "from computation import exp\n",
    "import math\n",
    "x = 15\n",
    "print(\"The ground truth for e**15 is\",math.e**15)\n",
    "n = 10\n",
    "print(\"Result based on\",n,\"expansions:\",exp(x,n))\n",
    "n = 20\n",
    "print(\"Result based on\",n,\"expansions:\",exp(x,n))\n",
    "n = 100\n",
    "print(\"Result based on\",n,\"expansions:\",exp(x,n))"
   ]
  },
  {
   "cell_type": "code",
   "execution_count": null,
   "metadata": {},
   "outputs": [],
   "source": []
  }
 ],
 "metadata": {
  "kernelspec": {
   "display_name": "Python 3",
   "language": "python",
   "name": "python3"
  },
  "language_info": {
   "codemirror_mode": {
    "name": "ipython",
    "version": 3
   },
   "file_extension": ".py",
   "mimetype": "text/x-python",
   "name": "python",
   "nbconvert_exporter": "python",
   "pygments_lexer": "ipython3",
   "version": "3.8.8"
  }
 },
 "nbformat": 4,
 "nbformat_minor": 2
}

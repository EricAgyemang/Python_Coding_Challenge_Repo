{
 "cells": [
  {
   "cell_type": "code",
   "execution_count": 47,
   "id": "aadcfcd5",
   "metadata": {},
   "outputs": [
    {
     "name": "stdout",
     "output_type": "stream",
     "text": [
      "The list is:  [657, 579, 76, 796, 361, 883, 7, 385, 385, 593, 909, 41, 70, 207, 661, 265, 586, 246, 271, 470, 117, 249, 406, 513, 95, 108, 184, 652, 792, 893, 261, 293, 121, 578, 175, 653, 717, 421, 78, 375, 891, 772, 47, 857, 378, 892, 313, 328, 866, 249]\n"
     ]
    },
    {
     "ename": "TypeError",
     "evalue": "'float' object is not callable",
     "output_type": "error",
     "traceback": [
      "\u001b[1;31m---------------------------------------------------------------------------\u001b[0m",
      "\u001b[1;31mTypeError\u001b[0m                                 Traceback (most recent call last)",
      "Input \u001b[1;32mIn [47]\u001b[0m, in \u001b[0;36m<cell line: 11>\u001b[1;34m()\u001b[0m\n\u001b[0;32m      8\u001b[0m \u001b[38;5;28mprint\u001b[39m(\u001b[38;5;124m\"\u001b[39m\u001b[38;5;124mThe list is: \u001b[39m\u001b[38;5;124m\"\u001b[39m, a_random_number)\n\u001b[0;32m     10\u001b[0m \u001b[38;5;66;03m#Find the mean of the random data set\u001b[39;00m\n\u001b[1;32m---> 11\u001b[0m mean \u001b[38;5;241m=\u001b[39m \u001b[38;5;28;43msum\u001b[39;49m\u001b[43m(\u001b[49m\u001b[43ma_random_number\u001b[49m\u001b[43m)\u001b[49m\u001b[38;5;241m/\u001b[39m\u001b[38;5;28mlen\u001b[39m(a_random_number)\n\u001b[0;32m     12\u001b[0m \u001b[38;5;28mprint\u001b[39m(\u001b[38;5;124m\"\u001b[39m\u001b[38;5;124mMean: \u001b[39m\u001b[38;5;124m\"\u001b[39m, mean)\n\u001b[0;32m     14\u001b[0m \u001b[38;5;66;03m#Use the mean to find the standard deviation of the randomly chosen data set\u001b[39;00m\n",
      "\u001b[1;31mTypeError\u001b[0m: 'float' object is not callable"
     ]
    }
   ],
   "source": [
    "\n",
    "#Problem 1\n",
    "#Mean and Standard Deviation\n",
    "\n",
    "#Pick 50 random numbers\n",
    "import random \n",
    "import math as m \n",
    "a_random_number = [random.randint(1,1000) for i in range(50)]\n",
    "print(\"The list is: \", a_random_number)\n",
    "\n",
    "#Find the mean of the random data set\n",
    "mean = sum(a_random_number)/len(a_random_number)\n",
    "print(\"Mean: \", mean)\n",
    "\n",
    "#Use the mean to find the standard deviation of the randomly chosen data set\n",
    "b= m.sqrt(sum([(x-mean)**2 for x in a_random_number])/len(a_random_number))\n",
    "print('Standard Deviation', round(b, 2))\n",
    "\n",
    "\n",
    "# In[25]:\n"
   ]
  },
  {
   "cell_type": "code",
   "execution_count": null,
   "id": "768959e1",
   "metadata": {},
   "outputs": [],
   "source": []
  }
 ],
 "metadata": {
  "kernelspec": {
   "display_name": "Python 3",
   "language": "python",
   "name": "python3"
  },
  "language_info": {
   "codemirror_mode": {
    "name": "ipython",
    "version": 3
   },
   "file_extension": ".py",
   "mimetype": "text/x-python",
   "name": "python",
   "nbconvert_exporter": "python",
   "pygments_lexer": "ipython3",
   "version": "3.8.8"
  }
 },
 "nbformat": 4,
 "nbformat_minor": 5
}

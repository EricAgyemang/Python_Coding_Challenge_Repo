{
 "cells": [
  {
   "cell_type": "markdown",
   "metadata": {},
   "source": [
    "# 1. Read txt File using open() Method\n",
    "\n",
    "## f = open(“Path_to_file”,”mode”)\n"
   ]
  },
  {
   "cell_type": "code",
   "execution_count": null,
   "metadata": {},
   "outputs": [],
   "source": [
    "# Get current working directory\n",
    "import os"
   ]
  },
  {
   "cell_type": "code",
   "execution_count": 2,
   "metadata": {},
   "outputs": [
    {
     "name": "stdout",
     "output_type": "stream",
     "text": [
      "/Users/sameehullah/Desktop/Fall 2021/week 7\n"
     ]
    }
   ],
   "source": [
    "path = os.getcwd()\n",
    "print(path)"
   ]
  },
  {
   "cell_type": "code",
   "execution_count": 6,
   "metadata": {},
   "outputs": [],
   "source": [
    "# Read txt file using open() method\n",
    "f = open(path+'/Fiction.txt')"
   ]
  },
  {
   "cell_type": "code",
   "execution_count": 7,
   "metadata": {},
   "outputs": [
    {
     "name": "stdout",
     "output_type": "stream",
     "text": [
      "When you subscribe to American Short Fiction, you’re supporting great writers while ensuring that you’ll get each new issue before it sells out. \n",
      "\n",
      "As an independent, non-profit literary journal, we depend on regular readers and subscribers like you. \n",
      "\n",
      "American Short Fiction publishes three times a year.\n"
     ]
    }
   ],
   "source": [
    "for line in f:\n",
    "    print(line)"
   ]
  },
  {
   "cell_type": "code",
   "execution_count": 8,
   "metadata": {},
   "outputs": [],
   "source": [
    "# close the file\n",
    "f.close()"
   ]
  },
  {
   "cell_type": "markdown",
   "metadata": {},
   "source": [
    "# 2. Read txt File using open() Method\n",
    "## with open((“Path_to_file”,”mode”) as f:\n"
   ]
  },
  {
   "cell_type": "code",
   "execution_count": 10,
   "metadata": {},
   "outputs": [
    {
     "name": "stdout",
     "output_type": "stream",
     "text": [
      "When you subscribe to American Short Fiction, you’re supporting great writers while ensuring that you’ll get each new issue before it sells out. \n",
      "\n",
      "As an independent, non-profit literary journal, we depend on regular readers and subscribers like you. \n",
      "\n",
      "American Short Fiction publishes three times a year.\n"
     ]
    }
   ],
   "source": [
    "# Read txt file with open() method\n",
    "with open(path+'/Fiction.txt') as f:\n",
    "    for line in f:\n",
    "        print(line)\n",
    "        \n",
    "# No need to close the file object f        "
   ]
  },
  {
   "cell_type": "code",
   "execution_count": 18,
   "metadata": {},
   "outputs": [],
   "source": [
    "# Read txt file using open() method\n",
    "foo = open(path+'/Fiction.txt')"
   ]
  },
  {
   "cell_type": "code",
   "execution_count": 19,
   "metadata": {},
   "outputs": [
    {
     "data": {
      "text/plain": [
       "'When you subscribe to American Short Fiction, you’re supporting great writers while ensuring that you’ll get each new issue before it sells out. \\n'"
      ]
     },
     "execution_count": 19,
     "metadata": {},
     "output_type": "execute_result"
    }
   ],
   "source": [
    "foo.__next__()"
   ]
  },
  {
   "cell_type": "code",
   "execution_count": 20,
   "metadata": {},
   "outputs": [
    {
     "data": {
      "text/plain": [
       "'As an independent, non-profit literary journal, we depend on regular readers and subscribers like you. \\n'"
      ]
     },
     "execution_count": 20,
     "metadata": {},
     "output_type": "execute_result"
    }
   ],
   "source": [
    "foo.__next__()"
   ]
  },
  {
   "cell_type": "code",
   "execution_count": 21,
   "metadata": {},
   "outputs": [
    {
     "data": {
      "text/plain": [
       "'American Short Fiction publishes three times a year.'"
      ]
     },
     "execution_count": 21,
     "metadata": {},
     "output_type": "execute_result"
    }
   ],
   "source": [
    "foo.__next__()"
   ]
  },
  {
   "cell_type": "code",
   "execution_count": 22,
   "metadata": {},
   "outputs": [],
   "source": [
    "l = [1,2,3,4]\n",
    "for x in l:\n",
    "    pass"
   ]
  },
  {
   "cell_type": "code",
   "execution_count": null,
   "metadata": {},
   "outputs": [],
   "source": []
  },
  {
   "cell_type": "markdown",
   "metadata": {},
   "source": [
    "# 3. readline() and readlines()\n",
    "\n",
    "The readline() method only returns a single line from a file. The realine() method will also add a trailing newline character to the end of the string"
   ]
  },
  {
   "cell_type": "code",
   "execution_count": 43,
   "metadata": {},
   "outputs": [
    {
     "name": "stdout",
     "output_type": "stream",
     "text": [
      "When you subscribe to American Short Fiction, you’re supporting great writers while ensuring that you’ll get each new issue before it sells out. \n",
      "\n",
      "As an independent, non-profit literary journal, we depend on regular readers and subscribers like you. \n",
      "\n",
      "American Short Fiction publishes three times a year.\n"
     ]
    }
   ],
   "source": [
    "# Read a txt file by readline() method\n",
    "data = open(path+'/Fiction.txt')\n",
    "for line in data:\n",
    "    print(line)"
   ]
  },
  {
   "cell_type": "code",
   "execution_count": 44,
   "metadata": {},
   "outputs": [],
   "source": [
    "for line in data:\n",
    "    if line[0] =='W':\n",
    "        print('The first line starts with W')\n",
    "        print(line)\n",
    "    else:\n",
    "        print(line)"
   ]
  },
  {
   "cell_type": "code",
   "execution_count": 45,
   "metadata": {},
   "outputs": [],
   "source": [
    "f.close()"
   ]
  },
  {
   "cell_type": "markdown",
   "metadata": {},
   "source": [
    "## Read txt File with readlined() method"
   ]
  },
  {
   "cell_type": "code",
   "execution_count": 46,
   "metadata": {},
   "outputs": [],
   "source": [
    "data = open(path+'/Fiction.txt')\n",
    "output = data.readlines()"
   ]
  },
  {
   "cell_type": "code",
   "execution_count": 47,
   "metadata": {},
   "outputs": [
    {
     "data": {
      "text/plain": [
       "['When you subscribe to American Short Fiction, you’re supporting great writers while ensuring that you’ll get each new issue before it sells out. \\n',\n",
       " 'As an independent, non-profit literary journal, we depend on regular readers and subscribers like you. \\n',\n",
       " 'American Short Fiction publishes three times a year.']"
      ]
     },
     "execution_count": 47,
     "metadata": {},
     "output_type": "execute_result"
    }
   ],
   "source": [
    "output"
   ]
  },
  {
   "cell_type": "markdown",
   "metadata": {},
   "source": [
    "## Read txt file using while loop"
   ]
  },
  {
   "cell_type": "code",
   "execution_count": 3,
   "metadata": {},
   "outputs": [
    {
     "name": "stdout",
     "output_type": "stream",
     "text": [
      "/Users/sameehullah/Desktop/Fall 2021/week 7\n"
     ]
    }
   ],
   "source": [
    "import os\n",
    "path = os.getcwd()\n",
    "print(path)"
   ]
  },
  {
   "cell_type": "code",
   "execution_count": 8,
   "metadata": {},
   "outputs": [
    {
     "name": "stdout",
     "output_type": "stream",
     "text": [
      "When you subscribe to American Short Fiction, you’re supporting great writers while ensuring that you’ll get each new issue before it sells out.\n",
      "As an independent, non-profit literary journal, we depend on regular readers and subscribers like you.\n",
      "American Short Fiction publishes three times a year.\n"
     ]
    }
   ],
   "source": [
    "file = open(path+'/Fiction.txt','r')\n",
    "while True:\n",
    "    next_line = file.readline()\n",
    "\n",
    "    if not next_line:\n",
    "        break;\n",
    "    print(next_line.strip())\n",
    "\n",
    "file.close()"
   ]
  },
  {
   "cell_type": "code",
   "execution_count": 22,
   "metadata": {},
   "outputs": [],
   "source": []
  },
  {
   "cell_type": "code",
   "execution_count": 33,
   "metadata": {},
   "outputs": [],
   "source": [
    "import csv\n",
    "file = open(path+'/netflix_ratings.csv','r')\n",
    "data = csv.reader(file)\n",
    "dict_csv = {rows[0]:rows[1] for rows in data}\n",
    "file.close()"
   ]
  },
  {
   "cell_type": "code",
   "execution_count": 89,
   "metadata": {},
   "outputs": [
    {
     "data": {
      "text/plain": [
       "['\\ufefftitle',\n",
       " 'rating',\n",
       " 'ratingLevel',\n",
       " 'ratingDescription',\n",
       " 'release year',\n",
       " 'user rating score',\n",
       " 'user rating size']"
      ]
     },
     "execution_count": 89,
     "metadata": {},
     "output_type": "execute_result"
    }
   ],
   "source": [
    "import csv\n",
    "\n",
    "f = open(\"netflix_ratings.csv\")\n",
    "data = csv.reader(f, delimiter =',')\n",
    "\n",
    "next(data)"
   ]
  },
  {
   "cell_type": "code",
   "execution_count": null,
   "metadata": {},
   "outputs": [],
   "source": []
  }
 ],
 "metadata": {
  "kernelspec": {
   "display_name": "Python 3",
   "language": "python",
   "name": "python3"
  },
  "language_info": {
   "codemirror_mode": {
    "name": "ipython",
    "version": 3
   },
   "file_extension": ".py",
   "mimetype": "text/x-python",
   "name": "python",
   "nbconvert_exporter": "python",
   "pygments_lexer": "ipython3",
   "version": "3.8.3"
  }
 },
 "nbformat": 4,
 "nbformat_minor": 4
}

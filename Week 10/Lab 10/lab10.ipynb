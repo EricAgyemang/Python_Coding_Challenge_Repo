{
 "cells": [
  {
   "cell_type": "code",
   "execution_count": 10,
   "metadata": {},
   "outputs": [],
   "source": [
    "#STEP 1: OPEN THE ATTACHMENT FILES USING THE open() function in python\n",
    "\n",
    "f = open(\"Song.txt\",\"r\")\n",
    "n = open(\"reversed_song.txt\",\"w\")\n",
    "\n",
    "#STEP 2: DEFINE THE CLASS CALLED Reverse AND SPECIFY THE CONSTRUCTOR IN IT\n",
    "\n",
    "class Reverse:\n",
    "    def __init__ (self,meh):\n",
    "        self.f = meh\n",
    "\n",
    "#STEP 3: CREATE A METHOD CALLED reverse AND USE A for loop TO READ THE LINE BY \n",
    "         # LINE CONTENT IN REVERSE AND WRITE IT TO THE NEW FILE\n",
    "\n",
    "    def reverse (self):\n",
    "        for line in self.f:\n",
    "            n.write(line[::-1])\n",
    "            \n",
    "#STEP 4: CREATE THE OBJECT CALLED reverser AND USE IT TO CALL FOR THE Reverse CLASS\n",
    "reverser = Reverse(f)\n",
    "reverser.reverse()\n",
    "\n",
    "\n",
    "f.close()\n",
    "n.close()"
   ]
  },
  {
   "cell_type": "code",
   "execution_count": 11,
   "metadata": {},
   "outputs": [
    {
     "name": "stdout",
     "output_type": "stream",
     "text": [
      "The list of numbers is: ['2006', '4783', '6799']\n",
      "The dictionary is: {'Since': 1, 'reviews': 2, 'of': 3, 'much': 1, 'work': 2, 'on': 3, 'sentiment': 3, 'analysis': 1, 'have': 1, 'already': 1, 'been': 1, 'included': 1, 'in': 3, 'this': 1, 'section': 1, 'we': 1, 'will': 1, 'only': 1, 'review': 1, 'some': 2, 'previous': 1, 'upon': 1, 'which': 1, 'our': 1, 'research': 1, 'is': 4, 'essentially': 2, 'based': 3, 'Hu': 1, 'and': 4, 'Liu': 1, 'summarized': 1, 'a': 7, 'list': 4, 'positive': 3, 'words': 5, 'negative': 3, 'respectively': 1, 'customer': 1, 'The': 1, 'contains': 1, 'the': 2, 'has': 1, 'Both': 1, 'lists': 1, 'also': 1, 'include': 1, 'misspelled': 1, 'that': 3, 'are': 1, 'frequently': 1, 'present': 1, 'social': 1, 'media': 1, 'content': 2, 'Sentiment': 2, 'categorization': 1, 'classification': 2, 'problem': 1, 'where': 2, 'features': 1, 'contain': 1, 'opinions': 1, 'or': 2, 'information': 1, 'should': 1, 'be': 1, 'identified': 1, 'before': 1, 'For': 1, 'feature': 1, 'selection': 1, 'Pang': 1, 'Lee': 1, 'suggested': 1, 'to': 2, 'remove': 1, 'objective': 1, 'sentences': 1, 'by': 1, 'extracting': 1, 'subjective': 2, 'ones': 1, 'They': 1, 'proposed': 1, 'text-categorization': 1, 'technique': 1, 'able': 1, 'identify': 1, 'using': 1, 'minimum': 1, 'cut': 1, 'Gann': 1, 'et': 1, 'al.': 1, 'selected': 1, 'tokens': 1, 'Twitter': 1, 'data': 1, 'each': 1, 'token': 3, 'assigned': 1, 'score': 1, 'namely': 1, 'Total': 1, 'Index': 1, 'featuring': 1, 'itself': 1, 'as': 1}\n"
     ]
    }
   ],
   "source": [
    "#STEP 1: OPEN THE ATTACHMENT FILE USING THE open() function in python\n",
    "\n",
    "f = open('information.txt','r')\n",
    "\n",
    "#STEP 2: DEFINE THE CLASS CALLED FileParser AND SPECIFY THE CONSTRUCTOR IN IT\n",
    "class FileParser:\n",
    "    def __init__ (self,b):\n",
    "        self.f = b\n",
    "        \n",
    "#STEP 3: CREATE A METHOD CALLED parse AND USE A for loop TO READ THE LINE BY \n",
    "         # LINE CONTENT OF IT      \n",
    "    def parse(self, L, D):\n",
    "        \n",
    "        # CREATE EMPTY LIST\n",
    "        L = []\n",
    "        \n",
    "        #CREATE EMPTY DICTIONARY\n",
    "        D = {}\n",
    "        \n",
    "        # USE THE for loop here\n",
    "        for line in self.f:\n",
    "        \n",
    "        # USE THE .strip() METHOD TO REMOVE ALL SPACES FROM THE LINES IN THE FILE\n",
    "            line = line.strip()\n",
    "        \n",
    "        # USE THE .split(' ') METHOD TO DIVIDE THE WORDS IN THE FILE INTO STRINGS\n",
    "            words = line.split(' ')\n",
    "            \n",
    "# STEP 4: USE THE for loop TO INCLUDE THE WORDS IN THE EMPTY LIST AND THE DICTIONARY \n",
    "         # INTO THE EMPTY DICTIONARY             \n",
    "            for i in words:\n",
    "                if i.isnumeric():\n",
    "                    L.append(i)\n",
    "                elif i in D:\n",
    "                    D[i] = D[i] + 1\n",
    "                else:\n",
    "                    D[i] = 1\n",
    "        print('The list of numbers is: ' + str(L))\n",
    "        print('The dictionary is: ' + str(D))\n",
    "        \n",
    "# STEP 5: CREATE AN OBJECT CALLED parser AND USE IT TO CALL FOR THE Parse METHOD\n",
    "parser = FileParser(f)\n",
    "parser.parse(L, D)\n",
    "\n",
    "\n",
    "f.close()"
   ]
  },
  {
   "cell_type": "code",
   "execution_count": null,
   "metadata": {},
   "outputs": [],
   "source": []
  }
 ],
 "metadata": {
  "kernelspec": {
   "display_name": "Python 3",
   "language": "python",
   "name": "python3"
  },
  "language_info": {
   "codemirror_mode": {
    "name": "ipython",
    "version": 3
   },
   "file_extension": ".py",
   "mimetype": "text/x-python",
   "name": "python",
   "nbconvert_exporter": "python",
   "pygments_lexer": "ipython3",
   "version": "3.8.8"
  }
 },
 "nbformat": 4,
 "nbformat_minor": 2
}

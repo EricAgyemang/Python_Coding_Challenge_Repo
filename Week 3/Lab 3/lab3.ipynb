{
 "cells": [
  {
   "cell_type": "code",
   "execution_count": 2,
   "metadata": {
    "scrolled": true
   },
   "outputs": [
    {
     "name": "stdout",
     "output_type": "stream",
     "text": [
      "Enter a ULID: rdapp1l2\n",
      "rdapp1l2 ends with a number.\n",
      "The reversed ULID is: 2l1ppadr\n"
     ]
    }
   ],
   "source": [
    "ulid = input(\"Enter a ULID: \")\n",
    "checkList = ['1','2','3','4','5','6','7','8','9','0']\n",
    "if ulid.isalpha():\n",
    "    print(ulid+\" consists of only alphabetical letters.\")\n",
    "elif ulid[-1] in checkList:\n",
    "    print(ulid+\" ends with a number.\")\n",
    "    print(\"The reversed ULID is: \"+ulid[::-1])\n",
    "else:\n",
    "    print (ulid+\" is not a valid ULID.\")"
   ]
  },
  {
   "cell_type": "code",
   "execution_count": 3,
   "metadata": {},
   "outputs": [
    {
     "name": "stdout",
     "output_type": "stream",
     "text": [
      "Enter a number: 20\n",
      "It is an even number and the value is 20.\n"
     ]
    }
   ],
   "source": [
    "number = input(\"Enter a number: \")\n",
    "if '.' in number:\n",
    "    print(\"It is a floating-point number and the value is \"+number+\".\")\n",
    "elif int(number) % 2 == 0:\n",
    "    print(\"It is an even number and the value is \"+number+\".\")\n",
    "else:\n",
    "    print(\"It is an odd number and the value is \"+number+\".\")"
   ]
  },
  {
   "cell_type": "code",
   "execution_count": 6,
   "metadata": {},
   "outputs": [
    {
     "name": "stdout",
     "output_type": "stream",
     "text": [
      "Enter a number: 2.1\n",
      "2.1 is a positive floating-point number.\n"
     ]
    }
   ],
   "source": [
    "number = input(\"Enter a number: \")\n",
    "if '.' in number:\n",
    "    if float(number) > 0:\n",
    "        print(number+\" is a positive floating-point number.\")\n",
    "    else:\n",
    "        print(number+\" is a negative floating-point number.\")\n",
    "elif int(number) % 2 == 0 and int(number) > 0:\n",
    "    print(number+\" is a positive even number.\")\n",
    "elif int(number) % 2 == 0 and int(number) < 0:  \n",
    "    print(number+\" is a negative even number.\")\n",
    "elif int(number) > 0:\n",
    "    print(number+\" is a positive odd number.\")\n",
    "else:\n",
    "    print(number+\" is a negative odd number.\")"
   ]
  },
  {
   "cell_type": "code",
   "execution_count": null,
   "metadata": {},
   "outputs": [],
   "source": []
  }
 ],
 "metadata": {
  "kernelspec": {
   "display_name": "Python 3",
   "language": "python",
   "name": "python3"
  },
  "language_info": {
   "codemirror_mode": {
    "name": "ipython",
    "version": 3
   },
   "file_extension": ".py",
   "mimetype": "text/x-python",
   "name": "python",
   "nbconvert_exporter": "python",
   "pygments_lexer": "ipython3",
   "version": "3.6.4"
  }
 },
 "nbformat": 4,
 "nbformat_minor": 2
}

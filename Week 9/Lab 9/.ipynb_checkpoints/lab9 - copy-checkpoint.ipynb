{
 "cells": [
  {
   "cell_type": "code",
   "execution_count": 1,
   "id": "4475ef00",
   "metadata": {},
   "outputs": [],
   "source": [
    "#IT 166\n",
    "#Rachel Cantin\n",
    "#Lab 9"
   ]
  },
  {
   "cell_type": "code",
   "execution_count": 2,
   "id": "784f417a",
   "metadata": {},
   "outputs": [],
   "source": [
    "#Problem 1\n",
    "\n",
    "import random\n",
    "import math as m\n",
    "\n",
    "#Splitting Dataset and Opening Data\n",
    "def datasplit(aList, ratio):\n",
    "    trainingnum=round(len(aList)*ratio)\n",
    "    trainingset=[]\n",
    "    while len(trainingset)<trainingnum:\n",
    "        index=random.randint(0,len(aList)-1)\n",
    "        trainingset.append(aList[index]) #fill training set with random ints\n",
    "        aList.pop(index)\n",
    "    testingset = aList\n",
    "    return trainingset,testingset\n"
   ]
  },
  {
   "cell_type": "code",
   "execution_count": 3,
   "id": "92d48002",
   "metadata": {},
   "outputs": [],
   "source": [
    "#Doing the Math\n",
    "def sumList(aList):\n",
    "    thesum=0\n",
    "    for i in aList:\n",
    "        thesum += i\n",
    "    return thesum\n",
    "\n",
    "def meanList(aList):\n",
    "    return sumList(aList)/len(aList)\n",
    "\n",
    "def stdevList(aList):\n",
    "    stdev=0\n",
    "    thesum=0\n",
    "    mean = meanList(aList)\n",
    "    for i in aList:\n",
    "        thesum+=(i-mean)**2\n",
    "    stdev=m.sqrt(thesum/len(aList))\n",
    "    return stdev\n",
    "\n",
    "#variance list, variance=sum((x-xmean)squared)/(n-1)\n",
    "def varianceList(aList):\n",
    "    mean = meanList(aList)\n",
    "    return sumList([(x-mean)**2 for x in aList])/(len(aList)-1)\n",
    "\n",
    "def covarianceList(aList,bList):\n",
    "    covar=0.0\n",
    "    meanA=meanList(aList)\n",
    "    meanB=meanList(bList)\n",
    "    for i in range(len(aList)):\n",
    "        covar+=(aList[i]-meanA)*(bList[i]-meanB)\n",
    "    return covar/(len(aList)-1)\n",
    "\n",
    "def coefficients(trainingDatasetList):  #should this be trainingset instead?\n",
    "    xList=[item[0] for item in trainingDatasetList]\n",
    "    yList=[item[1] for item in trainingDatasetList]\n",
    "    b1=covarianceList(xList,yList)/varianceList(xList)\n",
    "    b0=meanList(yList)-b1*meanList(xList)\n",
    "    return b0,b1\n",
    "\n",
    "def simpleLinearRegression(trainingList,testingList):\n",
    "    b0,b1=coefficients(trainingList)\n",
    "    testResult=[]\n",
    "    for item in testingList:\n",
    "        y_predict=b0 + b1*item[0]\n",
    "        testResult.append(item[1],y_predict)\n",
    "    return testResult\n",
    "\n",
    "#Root Mean Square Error Function\n",
    "def evalRMSE(testResultList):\n",
    "    error=0\n",
    "    for item in testResultList:\n",
    "        error+=(item[0]-item[1])**2\n",
    "    return (error/len(testResultList))**0.5"
   ]
  },
  {
   "cell_type": "code",
   "execution_count": 4,
   "id": "1699e052",
   "metadata": {},
   "outputs": [
    {
     "name": "stdout",
     "output_type": "stream",
     "text": [
      "['1.5,37731\\n', '1.3,46205\\n', '4.5,61111\\n', '2.2,39891\\n', '8.2,113812\\n', '6.8,91738\\n', '8.7,109431\\n', '6.0,93940\\n', '7.1,98273\\n', '7.9,101302\\n', '4.0,56957\\n', '3.2,64445\\n', '4.1,57081\\n', '10.3,122391\\n', '2.9,56642\\n', '3.7,57189\\n', '4.9,67938\\n', '5.3,83088\\n', '1.1,39343\\n', '3.9,63218\\n', '5.9,81363\\n', '9.0,105582\\n']\n",
      "['2.0,43525\\n', '3.0,60150\\n', '3.2,54445\\n', '4.0,55794\\n', '5.1,66029\\n', '9.5,116969\\n', '9.6,112635\\n', '10.5,121872']\n"
     ]
    }
   ],
   "source": [
    "#The app using the Simple Linear Regression \n",
    "\n",
    "dataset = []\n",
    "\n",
    "with open(\"salary.csv\") as file:\n",
    "    data = file.readlines()\n",
    "    for item in data:\n",
    "        s1 = item.strip()\n",
    "        s2 = s1.split(\",\")\n",
    "        dataset.append(s2)\n",
    "\n",
    "        \n",
    "trainingset, testingset = datasplit(data, 0.75)\n",
    "\n",
    "print(trainingset)\n",
    "print(testingset)\n",
    "\n"
   ]
  },
  {
   "cell_type": "code",
   "execution_count": null,
   "id": "e5d5a82a",
   "metadata": {},
   "outputs": [],
   "source": [
    "\n",
    "for item in trainingset:\n",
    "    item[0] = float(item[0])\n",
    "    item[1] = float(item[1])\n",
    "\n",
    "for item in testingset:\n",
    "    item[0] = float(item[0])\n",
    "    item[1] = float(item[1])\n",
    "\n",
    "regression=simpleLinearRegression(trainingset,testingset)\n",
    "evaluate=evalRMSE(regression)\n",
    "print(f\"rmse is {evaluate}\")    "
   ]
  }
 ],
 "metadata": {
  "kernelspec": {
   "display_name": "Python 3",
   "language": "python",
   "name": "python3"
  },
  "language_info": {
   "codemirror_mode": {
    "name": "ipython",
    "version": 3
   },
   "file_extension": ".py",
   "mimetype": "text/x-python",
   "name": "python",
   "nbconvert_exporter": "python",
   "pygments_lexer": "ipython3",
   "version": "3.8.8"
  }
 },
 "nbformat": 4,
 "nbformat_minor": 5
}

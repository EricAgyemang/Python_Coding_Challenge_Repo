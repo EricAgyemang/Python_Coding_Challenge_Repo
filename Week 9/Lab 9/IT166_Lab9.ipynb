{
 "cells": [
  {
   "cell_type": "markdown",
   "metadata": {
    "id": "rRqT2HbVgrWR"
   },
   "source": [
    "#IT 166 Lab 9\n",
    "\n",
    "In this lab, we will implement a simple linear regression modeul from scratch for a dataset from a CSV file. \n",
    "\n",
    "Objectives\n",
    "* Be able to develop a simple linear regression model\n",
    "* Be able to evaluate the performance of the predictive model\n",
    "\n",
    "Preparation\n",
    "* Launch the Jupyter notebook.\n",
    "* Rename the notebook page as “lab6”."
   ]
  },
  {
   "cell_type": "markdown",
   "metadata": {
    "id": "jpik38WWLOuZ"
   },
   "source": [
    "##Simple Linear Regression\n",
    "\n",
    "Linear regression assumes a linear or straight line relationship between the input variables ($X$) and the single output variable ($y$).\n",
    "\n",
    "More specifically, that output ($y$) can be calculated from a linear combination of the input variables ($X$). When there is a *single input variable*, the method is referred to as a **Simple Linear Regression**.\n",
    "\n",
    "In simple linear regression we can use statistics on the training data to estimate the coefficients required by the model to make predictions on new data.\n",
    "\n",
    "The line for a simple linear regression model can be written as:\n",
    "\n",
    "$y = b_0 + b_1 × x$\n",
    "\n",
    "where $b_0$ and $b_1$ are the coefficients we must estimate from the training data.\n",
    "\n",
    "Once the coefficients are known, we can use this equation to estimate output values for $y$ given new input examples of $x$.\n",
    "\n",
    "It requires that you calculate statistical properties from the data such as mean, variance and covariance.\n",
    "\n",
    "All the algebra has been taken care of and we are left with some arithmetic to implement to estimate the simple linear regression coefficients.\n",
    "\n",
    "Briefly, we can estimate the coefficients as follows:\n",
    "\n",
    "\\begin{align*}\n",
    "b_1 =& \\sum((x_i - \\bar{x})\\times(y_i - \\bar{y})) / \\sum((x_i - \\bar{x})^2) \\\\\n",
    " =& ~~~Covariance(x, y) / Variance(x) \\\\\n",
    " b_0 =& ~~~\\bar{y} - b_1 \\times \\bar{x}\n",
    "\\end{align*}\n",
    "\n",
    "\n",
    "where $i$ refers to the value of the $i^{th}$ value of the input $x$ or output $y$. $\\bar{x}$ and $\\bar{y}$ are the mean value of the input $x$ or output $y$."
   ]
  },
  {
   "cell_type": "markdown",
   "metadata": {
    "id": "kW_EgtChaU23"
   },
   "source": [
    "##Background: \n",
    "\n",
    "###Covariance & Variance\n",
    "\n",
    "The covariance of two groups of numbers describes how those numbers change together.\n",
    "\n",
    "Covariance is a generalization of correlation. Correlation describes the relationship between two groups of numbers, whereas covariance can describe the relationship between two or more groups of numbers.\n",
    "\n",
    "We can calculate the covariance between two variables as follows:\n",
    "\n",
    "$covariance = \\sum((x_i - \\bar{x})\\times(y_i - \\bar{y})) / (n-1)$\n",
    "\n",
    "$variance = \\sum((x_i - \\bar{x})^2) / (n-1)$\n",
    "\n",
    "The calculation of covariance between $x$ and $y$, and the variance of $x$ is the estimation based on the samples of $x$ and $y$.  "
   ]
  },
  {
   "cell_type": "markdown",
   "metadata": {
    "id": "vcvhS3kSkrsE"
   },
   "source": [
    "###Performance Evaluation\n",
    "\n",
    "Root Mean Square Error (RMSE) is the standard deviation of the residuals (prediction errors). Residuals are a measure of how far from the regression line data points are; RMSE is a measure of how spread out these residuals are. In other words, it tells you how concentrated the data is around the line of best fit (i.e., the regression model). Root mean square error is commonly used in forecasting, and regression analysis to verify experimental results.\n",
    "\\begin{equation}\n",
    "RMSE = \\sqrt{\\frac{\\sum(y^{predicted}_i - y^{actual}_i)^2}{n}}\n",
    "\\end{equation}\n",
    "Another commonly used performance metric is the Mean Absolute Error(MAE), which is the average of all absolute errors. The formula is:\n",
    "\\begin{equation}\n",
    "MAE = \\frac{\\sum|y^{predicted}_i - y^{actual}_i|}{n}\n",
    "\\end{equation}"
   ]
  },
  {
   "cell_type": "markdown",
   "metadata": {
    "id": "7ghkxQKtMYCA"
   },
   "source": [
    "#The Task\n",
    "\n",
    "In this exercise, we are provided with a CSV (Comma Separated Values) file called salary.csv. The file is essentially a plaintext file, which contains 30 lines of information. Each line consists of two numbers (i.e., years of experience and salary) separated by a comma, such as \"1.1,39343\". Assuming an employee's salary ($y$) is approximately linearly increased with the number of years of working experience ($x$). Our task is to build a Simple Linear Regression (i.e., $y = b_0 + b_1 × x$).\n",
    "\n",
    "##**Here are the steps we intend to do:**\n",
    "1.   Open/Read the CSV file to a List, in which each item is also a List containing one pair of \"years\" and \"salary\". So after successfully loading the dataset, it will be saved to a List as [[\"1.1\", \"39343\"], [\"1.3\", \"46205\"], ...]. This list is similar to a $[2 \\times 30]$ array, representing 30 samples.\n",
    "2.   Split the dataset into a training set and a test set based on a ratio (e.g., $75\\%$ for training and $25\\%$ for testing).\n",
    "3.   Calculate Covariance and Variance of the training dataset to find out coefficients (i.e., $b_0, b_1$) \n",
    "4.   Evaluate the model performance (e.g., using Root Mean Square Error or RMSE) \n",
    "\n",
    "\n"
   ]
  },
  {
   "cell_type": "code",
   "execution_count": null,
   "metadata": {
    "colab": {
     "base_uri": "https://localhost:8080/"
    },
    "executionInfo": {
     "elapsed": 26928,
     "status": "ok",
     "timestamp": 1645665827010,
     "user": {
      "displayName": "Yongning Tang",
      "photoUrl": "https://lh3.googleusercontent.com/a/default-user=s64",
      "userId": "15267084954923866581"
     },
     "user_tz": 360
    },
    "id": "F6HO0i9nGFoX",
    "outputId": "ee34d2ce-0805-4d8f-a317-1a7640f00b66"
   },
   "outputs": [
    {
     "name": "stdout",
     "output_type": "stream",
     "text": [
      "Mounted at /content/drive\n"
     ]
    }
   ],
   "source": [
    "#Mount drive\n",
    "from google.colab import drive\n",
    "drive.mount('/content/drive')\n",
    "import os\n",
    "os.chdir(\"/content/drive/My Drive/Colab Notebooks/IT166\")"
   ]
  },
  {
   "cell_type": "code",
   "execution_count": 2,
   "metadata": {
    "id": "f5JUhq6DVG2H"
   },
   "outputs": [],
   "source": [
    "#train_test_split() splits the list based on ratio (e.g., 0.8)\n",
    "#If ratio = 0.8, then 80% data are randomly selected to the training set\n",
    "import random\n",
    "def train_test_split(aList, ratio):\n",
    "    num_train = round(len(aList) * ratio)\n",
    "    trainSet = []\n",
    "    while len(trainSet) < num_train:\n",
    "        index = random.randint(0, len(aList) - 1)\n",
    "        trainSet.append(aList[index])\n",
    "        aList.pop(index) \n",
    "    testSet = aList  \n",
    "    return trainSet, testSet"
   ]
  },
  {
   "cell_type": "code",
   "execution_count": 3,
   "metadata": {
    "id": "IGHTwyQLBKD6"
   },
   "outputs": [],
   "source": [
    "#We can use the functions below developed in the previous labs: \n",
    "#sumList, meanList, minMaxList, stdevList\n",
    "import math\n",
    "\n",
    "def sumList(aList):\n",
    "    sum = 0\n",
    "    for i in aList:\n",
    "        sum += i\n",
    "    return sum\n",
    "\n",
    "def meanList(aList):\n",
    "    return sumList(aList) / len(aList)\n",
    "\n",
    "def minMaxList(aList):\n",
    "    min = aList[0]\n",
    "    max = aList[0]\n",
    "    for i in aList:\n",
    "        if i > max:\n",
    "            max = i\n",
    "        if i < min:\n",
    "            min = i\n",
    "    return min, max\n",
    "\n",
    "#To calculate standard deviation\n",
    "def stdevList(aList):\n",
    "    s = 0\n",
    "    sum = 0\n",
    "    mean = meanList(aList)\n",
    "    for i in aList:\n",
    "        sum += (i - mean) ** 2\n",
    "    stdev = math.sqrt(sum/len(aList))\n",
    "    return stdev\n",
    "\n",
    "# Calculate the variance of a list of numbers\n",
    "def varianceList(aList):\n",
    "    mean = meanList(aList)\n",
    "    return sumList([(x - mean)**2 for x in aList])/(len(aList)-1)\n",
    "\n",
    "# Calculate the covariance of two lists of numbers\n",
    "#The two lists should have the same dimension.\n",
    "def covarianceList(aList, bList):\n",
    "    covar = 0.0\n",
    "    meanA = meanList(aList)\n",
    "    meanB = meanList(bList)\n",
    "    for idx in range(len(aList)):\n",
    "        covar += (aList[idx] - meanA) * (bList[idx] - meanB)\n",
    "    return covar/(len(aList)-1)\n",
    "\n",
    "# Calculate the coefficients\n",
    "#The input is a list, in which each item is also a list containg a sample [x_i, y_i]\n",
    "def coefficients(trainingDatasetList):\n",
    "    xList = [item[0] for item in trainingDatasetList]\n",
    "    yList = [item[1] for item in trainingDatasetList]\n",
    "    b1 = covarianceList(xList, yList) / varianceList(xList)\n",
    "    b0 = meanList(yList) - b1 * meanList(xList)\n",
    "    return b0, b1\n",
    "\n",
    "#Build the regression model and test it\n",
    "def simple_linear_regression(trainList, testList):\n",
    "    b0, b1 = coefficients(trainList)\n",
    "    testResultList = []\n",
    "    for item in testList:\n",
    "        y_predict = b0 + b1 * item[0]\n",
    "        testResultList.append([item[1], y_predict])\n",
    "    return testResultList #a list of actual and predicted value pairs\n",
    "\n",
    "#Evaluate the model performance using RMSE\n",
    "def evalRMSE(testResultList):\n",
    "    err = 0\n",
    "    for item in testResultList:\n",
    "        err += (item[0] - item[1]) ** 2 \n",
    "    return (err / len(testResultList)) ** 0.5"
   ]
  },
  {
   "cell_type": "code",
   "execution_count": 7,
   "metadata": {
    "colab": {
     "base_uri": "https://localhost:8080/"
    },
    "executionInfo": {
     "elapsed": 143,
     "status": "ok",
     "timestamp": 1645674619069,
     "user": {
      "displayName": "Yongning Tang",
      "photoUrl": "https://lh3.googleusercontent.com/a/default-user=s64",
      "userId": "15267084954923866581"
     },
     "user_tz": 360
    },
    "id": "WNbK_maGU0tg",
    "outputId": "21daf565-4c7a-4c0c-d3d9-84f378291122"
   },
   "outputs": [
    {
     "name": "stdout",
     "output_type": "stream",
     "text": [
      "[['1.3', '46205'], ['2.9', '56642'], ['4.0', '56957'], ['5.1', '66029'], ['6.0', '93940'], ['7.1', '98273']]\n",
      "[['9.6', '112635'], ['5.9', '81363'], ['10.5', '121872'], ['3.9', '63218'], ['4.5', '61111'], ['6.8', '91738'], ['1.1', '39343'], ['8.7', '109431'], ['2.0', '43525'], ['7.9', '101302'], ['4.9', '67938'], ['9.5', '116969'], ['8.2', '113812'], ['3.2', '54445'], ['10.3', '122391'], ['4.1', '57081'], ['3.0', '60150'], ['4.0', '55794'], ['9.0', '105582'], ['5.3', '83088'], ['3.7', '57189'], ['3.2', '64445'], ['1.5', '37731'], ['2.2', '39891']]\n"
     ]
    }
   ],
   "source": [
    "#The app using the Simple Linear Regression \n",
    "\n",
    "dataset = []\n",
    "\n",
    "with open(\"salary.csv\") as file:\n",
    "    data = file.readlines()\n",
    "    for item in data:\n",
    "        s1 = item.strip()\n",
    "        s2 = s1.split(\",\")\n",
    "        dataset.append(s2)\n",
    "\n",
    "#print(dataset)\n",
    "#Split the dataset: 80% as trainning set; 20% as test set\n",
    "trainSet, testSet = train_test_split(dataset, 0.8)\n",
    "print(dataset)\n",
    "print(trainSet)\n"
   ]
  },
  {
   "cell_type": "code",
   "execution_count": null,
   "metadata": {},
   "outputs": [],
   "source": [
    "print(trainSet)\n",
    "print(testSet)\n",
    "\n",
    "for item in trainSet:\n",
    "    item[0] = float(item[0])\n",
    "    item[1] = float(item[1])\n",
    "\n",
    "for item in testSet:\n",
    "    item[0] = float(item[0])\n",
    "    item[1] = float(item[1])\n",
    "\n",
    "resultList = simple_linear_regression(trainSet, testSet)\n",
    "rmse = evalRMSE(resultList)\n",
    "\n",
    "print(f\"RMSE is {rmse}\")"
   ]
  }
 ],
 "metadata": {
  "colab": {
   "authorship_tag": "ABX9TyPZMHIi5mV3gNBkFG6WViK4",
   "collapsed_sections": [],
   "name": "IT166-Lab6.ipynb",
   "provenance": [
    {
     "file_id": "1sjwyMeadh0pXxEwxHXg_u3z8ubNVz9d3",
     "timestamp": 1645580376523
    },
    {
     "file_id": "1RTJFfrO0t8mjzbWIpkU6gNMjpSTXc8RZ",
     "timestamp": 1645302321086
    },
    {
     "file_id": "1tuS_mSxJXJPrZzZHO4XblviGmjGe2IG3",
     "timestamp": 1644814253230
    }
   ]
  },
  "kernelspec": {
   "display_name": "Python 3",
   "language": "python",
   "name": "python3"
  },
  "language_info": {
   "codemirror_mode": {
    "name": "ipython",
    "version": 3
   },
   "file_extension": ".py",
   "mimetype": "text/x-python",
   "name": "python",
   "nbconvert_exporter": "python",
   "pygments_lexer": "ipython3",
   "version": "3.8.8"
  }
 },
 "nbformat": 4,
 "nbformat_minor": 1
}

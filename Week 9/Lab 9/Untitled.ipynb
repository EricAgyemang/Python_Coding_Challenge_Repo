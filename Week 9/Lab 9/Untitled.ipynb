{
 "cells": [
  {
   "cell_type": "code",
   "execution_count": 1,
   "id": "5d9b92ef",
   "metadata": {},
   "outputs": [],
   "source": [
    "import random as rd\n",
    "import math as m\n",
    "def train_test_split(aList, ratio):\n",
    "    num_train = round(len(aList)*ratio)\n",
    "    trainSet = []\n",
    "    \n",
    "    while len(trainSet) < num_train:\n",
    "        index = rd.randint(0, len(aList)-1)\n",
    "        trainSet.append(aList[index])\n",
    "        aList.pop(index)\n",
    "    testSet = aList\n",
    "    return trainSet, testSet"
   ]
  },
  {
   "cell_type": "code",
   "execution_count": 6,
   "id": "0e8c6ba8",
   "metadata": {},
   "outputs": [],
   "source": [
    "def sumList(aList):\n",
    "    sum = 0\n",
    "    for i in aList:\n",
    "        sum+=i\n",
    "    return sum\n",
    "\n",
    "def meanList(aList):\n",
    "    return sumList(aList)/len(aList)\n",
    "\n",
    "def stdevList(aList):\n",
    "    devSqr = 0\n",
    "    std = 0\n",
    "    mean = meanList(aList)\n",
    "    for i in aList:\n",
    "        devSqr+=(i-mean)**2 \n",
    "    std = m.sqrt(devSqr/len(aList))\n",
    "    return std\n",
    "\n",
    "def covarianceList(aList, bList):\n",
    "    mySum =0.0\n",
    "    coVar = 0.0   \n",
    "    meanA  = meanList(aList)\n",
    "    meanB = meanList(bList)\n",
    "    \n",
    "    for idx in range(len(aList)):\n",
    "        mySum +=((aList[idx]-meanA)*(bList[idx]-meanB))\n",
    "    coVar = mySum/(len(aList)-1)\n",
    "    return coVar\n",
    "\n",
    "def varianceList(aList):\n",
    "    meanA = meanList(aList) \n",
    "    return sumList([(i-meanA)**2 for i in aList])/(len(aList)-1)\n",
    "\n",
    "def coefficients(trainDataSetList):\n",
    "    xList = [item[0] for item in trainDataSetList]\n",
    "    yList = [item[1] for item in trainDataSetList]\n",
    "    \n",
    "    b1 = covarianceList(xList, yList)/varianceList(xList)\n",
    "    b0 = meanList(yList) - b1*meanList(xList)\n",
    "    return b0, b1\n",
    "\n",
    "def simple_Linear_Regression(trainList, testList):\n",
    "    b0, b1 = coefficients(trainList)\n",
    "    testResultList = []\n",
    "    \n",
    "    for item in testList:\n",
    "        y_predict = b0 + b1*item[0]\n",
    "        testResultList.append([item[1], y_predict])\n",
    "    return testResultList\n",
    "\n",
    "def evalRMSE(testResultList):\n",
    "    err = 0\n",
    "    \n",
    "    for item in testResultList:\n",
    "        err+=(item[0] - item[1])**2\n",
    "    return (err/len(testResultList))**0.5\n",
    "    \n"
   ]
  },
  {
   "cell_type": "code",
   "execution_count": 9,
   "id": "ce52d713",
   "metadata": {},
   "outputs": [
    {
     "name": "stdout",
     "output_type": "stream",
     "text": [
      "[['10.3', '122391'], ['4.0', '55794'], ['9.6', '112635'], ['2.0', '43525'], ['1.3', '46205'], ['5.1', '66029'], ['6.8', '91738'], ['1.5', '37731'], ['4.9', '67938'], ['9.5', '116969'], ['2.2', '39891'], ['3.2', '54445'], ['7.1', '98273'], ['3.0', '60150'], ['3.2', '64445'], ['8.2', '113812'], ['4.5', '61111'], ['3.9', '63218'], ['9.0', '105582'], ['6.0', '93940'], ['7.9', '101302'], ['5.3', '83088']]\n",
      "[['1.1', '39343'], ['2.9', '56642'], ['3.7', '57189'], ['4.0', '56957'], ['4.1', '57081'], ['5.9', '81363'], ['8.7', '109431'], ['10.5', '121872']]\n",
      "[[39343.0, 36549.75421499283], [56642.0, 53654.85848950273], [57189.0, 61257.127055951576], [56957.0, 64107.97776836989], [57081.0, 65058.261339175995], [81363.0, 82163.3656136859], [109431.0, 108771.30559625686], [121872.0, 125876.40987076677]]\n"
     ]
    }
   ],
   "source": [
    "dataSet = []\n",
    "\n",
    "with open(\"salary.csv\") as file:\n",
    "    data = file.readlines()\n",
    "    for item in data:\n",
    "        s1 = item.strip()\n",
    "        s2 = s1.split(\",\")\n",
    "        dataSet.append(s2)\n",
    "        \n",
    "trainSet, testSet = train_test_split(dataSet, 0.75)\n",
    "\n",
    "print(trainSet)\n",
    "print(testSet)\n",
    "\n",
    "\n",
    "for item in trainSet:\n",
    "    item[0] = float(item[0])\n",
    "    item[1] = float(item[1])\n",
    "for item in testSet:\n",
    "    item[0] = float(item[0])\n",
    "    item[1] = float(item[1])\n",
    "    \n",
    "resultList = simple_Linear_Regression(trainSet, testSet)\n",
    "rmse = evalRMSE(resultList)\n",
    "\n",
    "\n",
    "print(resultList)\n"
   ]
  },
  {
   "cell_type": "code",
   "execution_count": 10,
   "id": "a801486a",
   "metadata": {},
   "outputs": [
    {
     "name": "stdout",
     "output_type": "stream",
     "text": [
      "RMSE is 4543.665314407372\n"
     ]
    }
   ],
   "source": [
    "print(f\"RMSE is {rmse}\")"
   ]
  },
  {
   "cell_type": "code",
   "execution_count": 17,
   "id": "4553aba6",
   "metadata": {},
   "outputs": [
    {
     "name": "stdout",
     "output_type": "stream",
     "text": [
      "b0 is 26096.63 \n",
      "b1 is 9502.84\n"
     ]
    }
   ],
   "source": [
    "b0, b1 = coefficients(trainSet)\n",
    "\n",
    "print(\"b0 is {:.2f} \".format(b0))\n",
    "print(\"b1 is {:.2f}\".format(b1))"
   ]
  },
  {
   "cell_type": "code",
   "execution_count": 19,
   "id": "71e87eb8",
   "metadata": {},
   "outputs": [
    {
     "name": "stdout",
     "output_type": "stream",
     "text": [
      "The regression equation of the line is: \n",
      "Y = 9502.84*X + 26096.63\n"
     ]
    }
   ],
   "source": [
    "print(\"The regression equation of the line is: \")\n",
    "print(\"Y = \" +\"{:.2f}\".format(b1)+\"*X\" + \" + \" + \"{:.2f}\".format(b0))"
   ]
  },
  {
   "cell_type": "code",
   "execution_count": null,
   "id": "e45fd52e",
   "metadata": {},
   "outputs": [],
   "source": []
  }
 ],
 "metadata": {
  "kernelspec": {
   "display_name": "Python 3",
   "language": "python",
   "name": "python3"
  },
  "language_info": {
   "codemirror_mode": {
    "name": "ipython",
    "version": 3
   },
   "file_extension": ".py",
   "mimetype": "text/x-python",
   "name": "python",
   "nbconvert_exporter": "python",
   "pygments_lexer": "ipython3",
   "version": "3.8.8"
  }
 },
 "nbformat": 4,
 "nbformat_minor": 5
}

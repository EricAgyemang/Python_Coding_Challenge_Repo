{
 "cells": [
  {
   "cell_type": "code",
   "execution_count": 8,
   "id": "18d892ce",
   "metadata": {},
   "outputs": [
    {
     "name": "stdout",
     "output_type": "stream",
     "text": [
      "66.0\n"
     ]
    }
   ],
   "source": [
    "\n",
    "import random\n",
    "#importing random number generator\n",
    "result = 0\n",
    "#setting the starting clause for the while loop\n",
    "\n",
    "while result != 66:\n",
    "    #setting the completed condition for the while loop\n",
    "    x = [random.randint(1,9) for _ in range(9)]\n",
    "    #setting the parameters so that the number tried is between 0 to 9\n",
    "    result = x[0]+13*x[1]/x[2]+x[3]+12*x[4]-x[5]-11+x[6]*x[7]/x[8]-10\n",
    "    #writing the equation the maching will brute force complete \n",
    "    \n",
    "print (result)\n",
    "#printing the results\n"
   ]
  },
  {
   "cell_type": "code",
   "execution_count": null,
   "id": "db74986b",
   "metadata": {},
   "outputs": [],
   "source": []
  }
 ],
 "metadata": {
  "kernelspec": {
   "display_name": "Python 3",
   "language": "python",
   "name": "python3"
  },
  "language_info": {
   "codemirror_mode": {
    "name": "ipython",
    "version": 3
   },
   "file_extension": ".py",
   "mimetype": "text/x-python",
   "name": "python",
   "nbconvert_exporter": "python",
   "pygments_lexer": "ipython3",
   "version": "3.8.8"
  }
 },
 "nbformat": 4,
 "nbformat_minor": 5
}

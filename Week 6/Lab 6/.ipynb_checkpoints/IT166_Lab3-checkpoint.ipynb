{
 "cells": [
  {
   "cell_type": "markdown",
   "metadata": {
    "id": "jpik38WWLOuZ"
   },
   "source": [
    "#IT 166 Lab 3\n",
    "\n",
    "In this lab, we will use some basic Python programming skills as specifued below to calculate some statistic parameters (e.g., mean, standard deviation) of a given population. \n",
    "\n",
    "Objectives\n",
    "* Be able to write Python programs to find minimal, maximal, mean, median, and standard deviation values of a collection of numerical data.\n",
    "* Be able to write Python programs that conduct sampling on a given porpulation.\n",
    "* Be able to write Python programs that verify Central Limit Theorem. \n",
    "\n",
    "Preparation\n",
    "* Launch the Jupyter notebook.\n",
    "* Rename the notebook page as “lab3”.\n",
    "\n",
    "Please provide solutions to the problems below.\n",
    "\n",
    "Background:\n",
    "\n",
    "Statistic properties (e.g., mean, standard deviation) of a population is important for data analysis. In reality, we usually cannot collect the complete dataset of a whole population. Thus, we often take random samples of the population and estimate these statistic parameters based on the samples. \n",
    "\n",
    "Given a sample of $n$ observations from a population, we can calculate estimates of the population mean, standard deviation, and various other population characteristics (parameters). Prior to obtaining the complete dataset, there is uncertainty as to which of all possible samples will occur. Because of this, estimates such as $\\bar{x}$, and $s$ will vary from one sample to another. The behavior of such estimates in repeated sampling is described by what are called **sampling distributions**. Any particular sampling distribution will give an\n",
    "indication of how close the estimate is likely to be to the value of the parameter being estimated.\n",
    "\n",
    "The **Central Limit Theorem** states that if you have a population with mean $μ$ and standard deviation $σ$ and take sufficiently large $n \\ge 30$ random samples from the population with replacement, then the distribution of the sample means will be approximately normally distributed.\n",
    "\n",
    "Sampling can be done with or without replacement. If with replacement, the same data point could appear more than once in a sample. "
   ]
  },
  {
   "cell_type": "markdown",
   "metadata": {
    "id": "jJuDcqzYH7w0"
   },
   "source": [
    "##Problem 1\n",
    "\n",
    "In this lab, we assume the following $100$ weights to be a complete population, and thus can accurately calculate some important parameters of this dataset: [112.99,136.49,153.03,142.34,144.3,123.3,141.49,136.46,112.37,120.67,127.45,114.14,125.61,122.46,116.09,140,129.5,142.97,137.9,124.04,141.28,143.54,97.9,129.5,141.85,129.72,142.42,131.55,108.33,113.89,103.3,120.75,125.79,136.22,140.1,128.75,141.8,121.23,131.35,106.71,124.36,124.86,139.67,137.37,106.45,128.76,145.68,116.82,143.62,134.93,147.02,126.33,125.48,115.71,123.49,147.89,155.9,128.07,119.37,133.81,128.73,137.55,129.76,128.82,135.32,109.61,142.47,132.75,103.53,124.73,129.31,134.02,140.4,102.84,128.52,120.3,138.6,132.96,115.62,122.52,134.63,121.9,155.38,128.94,129.1,139.47,140.89,131.59,121.12,131.51,136.55,141.49,140.61,112.14,133.46,131.8,120.03,123.1,128.14,115.48]  \n",
    "\n",
    "Data source: http://wiki.stat.ucla.edu/socr/index.php/SOCR_Data_Dinov_020108_HeightsWeights \n",
    "\n",
    "Create a Python List to store the population; and then calculate the maxum, minumum, mean, standard deviation)\n",
    "\n",
    "Mean: $\\mu = \\frac{\\sum_{i=1}^N{x_i}}{N}$\n",
    "\n",
    "Standard deviation: $\\sigma = \\sqrt{\\frac{\\sum_{i=1}^N(x_i-\\mu)^2}{N}}$\n",
    "\n",
    "(Here, $x_i$ is a data point of the population)\n",
    "\n",
    "**Please note:** in this lab, you should use ***for loop*** to interate all data and perform required calculations. You are **not** allowed to directly use built-in functions max(); min(); sum(); and mean() from statistics module. You can use len() if needed.\n",
    "\n",
    "The example of the expected output is shown below:\n",
    "\n",
    "The mean of this population is 129.21\n",
    "\n",
    "The min and max of this population is 97.90 and 155.90\n",
    "\n",
    "The standard deviation of this population is 12.06"
   ]
  },
  {
   "cell_type": "code",
   "execution_count": 1,
   "metadata": {
    "id": "O2E1bm8rfk3j"
   },
   "outputs": [],
   "source": [
    "weightList = [112.99,136.49,153.03,142.34,144.3,123.3,141.49,136.46,112.37,120.67,127.45,114.14,125.61,122.46,116.09,140,129.5,142.97,137.9,124.04,141.28,143.54,97.9,129.5,141.85,129.72,142.42,131.55,108.33,113.89,103.3,120.75,125.79,136.22,140.1,128.75,141.8,121.23,131.35,106.71,124.36,124.86,139.67,137.37,106.45,128.76,145.68,116.82,143.62,134.93,147.02,126.33,125.48,115.71,123.49,147.89,155.9,128.07,119.37,133.81,128.73,137.55,129.76,128.82,135.32,109.61,142.47,132.75,103.53,124.73,129.31,134.02,140.4,102.84,128.52,120.3,138.6,132.96,115.62,122.52,134.63,121.9,155.38,128.94,129.1,139.47,140.89,131.59,121.12,131.51,136.55,141.49,140.61,112.14,133.46,131.8,120.03,123.1,128.14,115.48]"
   ]
  },
  {
   "cell_type": "code",
   "execution_count": 10,
   "metadata": {
    "colab": {
     "base_uri": "https://localhost:8080/"
    },
    "id": "IGHTwyQLBKD6",
    "outputId": "ea366abb-f16b-4d34-8544-957e8997bc97"
   },
   "outputs": [
    {
     "name": "stdout",
     "output_type": "stream",
     "text": [
      "The mean of this population is 129.21\n"
     ]
    }
   ],
   "source": [
    "#To calculate \"mean\"\n",
    "sum = 0\n",
    "for i in weightList:\n",
    "    sum += i\n",
    "mean = sum / len(weightList)\n",
    "print(\"The mean of this population is {:.2f}\".format(mean))"
   ]
  },
  {
   "cell_type": "code",
   "execution_count": 12,
   "metadata": {
    "colab": {
     "base_uri": "https://localhost:8080/"
    },
    "id": "V-knFnX9CQQu",
    "outputId": "9487c651-767c-44ad-a81d-f3efb973b6c5"
   },
   "outputs": [
    {
     "name": "stdout",
     "output_type": "stream",
     "text": [
      "The min and max of this population is 97.90 and 155.90\n"
     ]
    }
   ],
   "source": [
    "#To find \"min\" and \"max\"\n",
    "min = weightList[0]\n",
    "max = weightList[0]\n",
    "for i in weightList:\n",
    "    if i > max:\n",
    "        max = i\n",
    "    if i < min:\n",
    "        min = i\n",
    "print(\"The min and max of this population is {:.2f} and {:.2f}\".format(min, max))"
   ]
  },
  {
   "cell_type": "code",
   "execution_count": 15,
   "metadata": {
    "colab": {
     "base_uri": "https://localhost:8080/"
    },
    "id": "xJ-TTEskRXks",
    "outputId": "2fc8b237-136a-4e55-970a-49e3394bc43b"
   },
   "outputs": [
    {
     "name": "stdout",
     "output_type": "stream",
     "text": [
      "The standard deviation of this population is 12.06\n"
     ]
    }
   ],
   "source": [
    "#To calculate standard deviation\n",
    "import math\n",
    "s = 0\n",
    "sum = 0\n",
    "for i in weightList:\n",
    "    sum += (i - mean) ** 2\n",
    "s =math.sqrt(sum/len(weightList))\n",
    "print(\"The standard deviation of this population is {:.2f}\".format(s))"
   ]
  },
  {
   "cell_type": "markdown",
   "metadata": {
    "id": "M-WEG4tUVjvg"
   },
   "source": [
    "##Problem 2\n",
    "\n",
    "Please do sampling with and without replacement from the population. \n",
    "* Sampling with replacement (the same data point could appear more than once in a sample)\n",
    "* Sampling without replacement (the same data point could appear only once in a sample)\n",
    "\n",
    "For each sampling method, please use the following sampling sizes 5, 10, and 30, respectively. Please print each sample. \n",
    "\n",
    "One example of the expected output is shown below:\n",
    "\n",
    "The sample with size 5 is: [140.1, 123.49, 128.14, 125.79, 142.47]\n"
   ]
  },
  {
   "cell_type": "code",
   "execution_count": 23,
   "metadata": {
    "colab": {
     "base_uri": "https://localhost:8080/"
    },
    "id": "juyq46J_PHIO",
    "outputId": "47c6f548-d32e-491a-ebac-6f8f122b3eb3"
   },
   "outputs": [
    {
     "name": "stdout",
     "output_type": "stream",
     "text": [
      "[1, 15, 25, 23, 67]\n",
      "The sample with size 5 is: [136.49, 140, 129.72, 129.5, 132.75]\n",
      "[92, 10, 5, 98, 83, 37, 60, 14, 50, 78]\n",
      "The sample with size 10 is: [140.61, 127.45, 123.3, 128.14, 128.94, 121.23, 128.73, 116.09, 147.02, 115.62]\n",
      "[20, 81, 25, 49, 2, 41, 41, 72, 49, 65, 88, 81, 1, 11, 6, 28, 51, 10, 75, 95, 47, 20, 26, 45, 21, 93, 43, 89, 34, 38]\n",
      "The sample with size 30 is: [141.28, 121.9, 129.72, 134.93, 153.03, 124.86, 124.86, 140.4, 134.93, 109.61, 121.12, 121.9, 136.49, 114.14, 141.49, 108.33, 126.33, 127.45, 120.3, 131.8, 116.82, 141.28, 142.42, 128.76, 143.54, 112.14, 137.37, 131.51, 140.1, 131.35]\n"
     ]
    }
   ],
   "source": [
    "#sampling with replacement\n",
    "import random\n",
    "M = 5\n",
    "sampleList1 = []\n",
    "indexList1 = []\n",
    "while len(sampleList1) < M:\n",
    "    index = random.randint(0,len(weightList)-1)\n",
    "    indexList1.append(index)\n",
    "    sampleList1.append(weightList[index])\n",
    "print(indexList1)\n",
    "print(\"The sample with size {} is: {}\".format(M, sampleList1))\n",
    "\n",
    "M = 10\n",
    "sampleList2 = []\n",
    "indexList2 = []\n",
    "while len(sampleList2) < M:\n",
    "    index = random.randint(0,len(weightList)-1)\n",
    "    indexList2.append(index)\n",
    "    sampleList2.append(weightList[index])\n",
    "print(indexList2)\n",
    "print(\"The sample with size {} is: {}\".format(M, sampleList2))\n",
    "\n",
    "M = 30\n",
    "sampleList3 = []\n",
    "indexList3 = []\n",
    "while len(sampleList3) < M:\n",
    "    index = random.randint(0,len(weightList)-1)\n",
    "    indexList3.append(index)\n",
    "    sampleList3.append(weightList[index])\n",
    "print(indexList3)\n",
    "print(\"The sample with size {} is: {}\".format(M, sampleList3))"
   ]
  },
  {
   "cell_type": "code",
   "execution_count": 24,
   "metadata": {
    "colab": {
     "base_uri": "https://localhost:8080/"
    },
    "id": "RS8b0HgXVvZg",
    "outputId": "36dae2db-2a44-403d-cfe7-c6a51464a283"
   },
   "outputs": [
    {
     "name": "stdout",
     "output_type": "stream",
     "text": [
      "[99, 92, 22, 69, 80]\n",
      "The sample with size 5 is: [115.48, 140.61, 97.9, 124.73, 134.63]\n",
      "[42, 88, 30, 11, 68, 12, 37, 22, 49, 54]\n",
      "The sample with size 10 is: [139.67, 121.12, 103.3, 114.14, 103.53, 125.61, 121.23, 97.9, 134.93, 123.49]\n",
      "[11, 63, 44, 59, 2, 38, 6, 87, 84, 8, 34, 35, 31, 41, 39, 97, 16, 72, 60, 55, 17, 81, 9, 99, 58, 0, 71, 83, 93, 94]\n",
      "The sample with size 30 is: [114.14, 128.82, 106.45, 133.81, 153.03, 131.35, 141.49, 131.59, 129.1, 112.37, 140.1, 128.75, 120.75, 124.86, 106.71, 123.1, 129.5, 140.4, 128.73, 147.89, 142.97, 121.9, 120.67, 115.48, 119.37, 112.99, 134.02, 128.94, 112.14, 133.46]\n"
     ]
    }
   ],
   "source": [
    "#sampling without replacement\n",
    "import random\n",
    "M = 5\n",
    "sampleList4 = []\n",
    "indexList4 = []\n",
    "while len(sampleList4) < M:\n",
    "    index = random.randint(0,len(weightList)-1)\n",
    "    if index not in indexList4:\n",
    "        indexList4.append(index)\n",
    "        sampleList4.append(weightList[index])\n",
    "print(indexList4)\n",
    "print(\"The sample with size {} is: {}\".format(M, sampleList4))\n",
    "\n",
    "M = 10\n",
    "sampleList5 = []\n",
    "indexList5 = []\n",
    "while len(sampleList5) < M:\n",
    "    index = random.randint(0,len(weightList)-1)\n",
    "    if index not in indexList5:\n",
    "        indexList5.append(index)\n",
    "        sampleList5.append(weightList[index])\n",
    "print(indexList5)\n",
    "print(\"The sample with size {} is: {}\".format(M, sampleList5))\n",
    "\n",
    "M = 30\n",
    "sampleList6 = []\n",
    "indexList6 = []\n",
    "while len(sampleList6) < M:\n",
    "    index = random.randint(0,len(weightList)-1)\n",
    "    if index not in indexList6:\n",
    "        indexList6.append(index)\n",
    "        sampleList6.append(weightList[index])\n",
    "print(indexList6)\n",
    "print(\"The sample with size {} is: {}\".format(M, sampleList6))"
   ]
  },
  {
   "cell_type": "markdown",
   "metadata": {
    "id": "KYQTc2dKYvKY"
   },
   "source": [
    "#Problem 3\n",
    "\n",
    "Let's observe if the Central Limit Theorom works in this population. \n",
    "\n",
    "Please do sampling with replacement 100 times with the same sampling size 30 from the population. For each sample, calculate its mean, and then convert the mean result to int type and save to a list. Please print this list. \n",
    "\n",
    "One example of the expected output is shown below:\n",
    "\n",
    "The mean values of 100 samplings: [129, 127, 129, 132, 129, 131, 130, 130, 129, 125, 128, 128, 131, 129, 131, 129, 130, 127, 131, 127, 128, 134, 129, 128, 125, 133, 127, 123, 127, 126, 125, 128, 129, 132, 131, 127, 134, 130, 128, 129, 129, 131, 129, 131, 124, 125, 129, 125, 127, 127, 127, 126, 132, 128, 128, 131, 129, 131, 131, 125, 127, 126, 133, 127, 126, 127, 126, 125, 128, 129, 127, 128, 126, 126, 128, 129, 133, 130, 128, 130, 127, 129, 126, 131, 128, 130, 130, 130, 129, 133, 130, 127, 129, 128, 131, 126, 130, 130, 129, 128]\n",
    "\n",
    "Assuming the mean list above called sampleMeanIntList, use the following code to observe if it roughly follows a normal distribution:\n",
    "\n",
    "```\n",
    "from collections import Counter\n",
    "\n",
    "Counter(sampleMeanIntList)\n",
    "```\n",
    "One example of the expected output is shown below:\n",
    "```\n",
    "Counter({123: 1,\n",
    "         124: 1,\n",
    "         125: 7,\n",
    "         126: 9,\n",
    "         127: 15,\n",
    "         128: 15,\n",
    "         129: 19,\n",
    "         130: 12,\n",
    "         131: 12,\n",
    "         132: 3,\n",
    "         133: 4,\n",
    "         134: 2})\n",
    "```\n"
   ]
  },
  {
   "cell_type": "code",
   "execution_count": 47,
   "metadata": {
    "colab": {
     "base_uri": "https://localhost:8080/"
    },
    "id": "nMVZ-0noYu1A",
    "outputId": "1b9acbe9-ff2f-4ddc-877c-8ebf9e156043"
   },
   "outputs": [
    {
     "name": "stdout",
     "output_type": "stream",
     "text": [
      "[129.98, 127.95, 129.4, 132.31, 129.69, 131.12, 130.12, 130.11, 129.2, 125.77, 128.51, 128.16, 131.67, 129.4, 131.88, 129.72, 130.02, 127.61, 131.6, 127.84, 128.91, 134.19, 129.86, 128.3, 125.67, 133.11, 127.99, 123.0, 127.47, 126.41, 125.13, 128.82, 129.05, 132.85, 131.71, 127.96, 134.01, 130.24, 128.4, 129.09, 129.6, 131.33, 129.26, 131.68, 124.46, 125.27, 129.06, 125.66, 127.6, 127.22, 127.76, 126.1, 132.08, 128.91, 128.98, 131.16, 129.71, 131.35, 131.56, 125.0, 127.54, 126.67, 133.03, 127.12, 126.82, 127.29, 126.35, 125.84, 128.68, 129.95, 127.85, 128.01, 126.59, 126.08, 128.53, 129.31, 133.62, 130.52, 128.77, 130.37, 127.04, 129.29, 126.46, 131.62, 128.64, 130.95, 130.56, 130.75, 129.26, 133.3, 130.5, 127.79, 129.63, 128.63, 131.48, 126.63, 130.64, 130.9, 129.66, 128.9]\n",
      "The mean values of 100 samplings: [129, 127, 129, 132, 129, 131, 130, 130, 129, 125, 128, 128, 131, 129, 131, 129, 130, 127, 131, 127, 128, 134, 129, 128, 125, 133, 127, 123, 127, 126, 125, 128, 129, 132, 131, 127, 134, 130, 128, 129, 129, 131, 129, 131, 124, 125, 129, 125, 127, 127, 127, 126, 132, 128, 128, 131, 129, 131, 131, 125, 127, 126, 133, 127, 126, 127, 126, 125, 128, 129, 127, 128, 126, 126, 128, 129, 133, 130, 128, 130, 127, 129, 126, 131, 128, 130, 130, 130, 129, 133, 130, 127, 129, 128, 131, 126, 130, 130, 129, 128]\n"
     ]
    }
   ],
   "source": [
    "import random\n",
    "\n",
    "sampleRepetition = 100\n",
    "sampleSize = 30\n",
    "sampleMeanList = []\n",
    "sampleMeanIntList = []\n",
    "repetition = 0\n",
    "while repetition < sampleRepetition:\n",
    "    sampleList = []\n",
    "    indexList = []\n",
    "    while len(sampleList) < sampleSize:\n",
    "        index = random.randint(0,len(weightList)-1)\n",
    "        indexList.append(index)\n",
    "        sampleList.append(weightList[index])\n",
    "    #print(indexList)\n",
    "    #print(\"The sample with size {} is: {}\".format(M, sampleList))\n",
    "\n",
    "    #To calculate \"mean\" of each sample\n",
    "    sum = 0\n",
    "    for i in sampleList:\n",
    "        sum += i\n",
    "    mean = round(sum / len(sampleList), 2)\n",
    "    sampleMeanList.append(mean)\n",
    "    sampleMeanIntList.append(int(mean))\n",
    "    repetition += 1\n",
    "print(sampleMeanList)\n",
    "print(\"The mean values of 100 samplings: {}\".format(sampleMeanIntList))"
   ]
  },
  {
   "cell_type": "code",
   "execution_count": 48,
   "metadata": {
    "colab": {
     "base_uri": "https://localhost:8080/"
    },
    "id": "uiUmxVrQaovn",
    "outputId": "98b48ce1-29e7-4aab-8648-94be9c35c31d"
   },
   "outputs": [
    {
     "data": {
      "text/plain": [
       "Counter({123: 1,\n",
       "         124: 1,\n",
       "         125: 7,\n",
       "         126: 9,\n",
       "         127: 15,\n",
       "         128: 15,\n",
       "         129: 19,\n",
       "         130: 12,\n",
       "         131: 12,\n",
       "         132: 3,\n",
       "         133: 4,\n",
       "         134: 2})"
      ]
     },
     "execution_count": 48,
     "metadata": {},
     "output_type": "execute_result"
    }
   ],
   "source": [
    "from collections import Counter\n",
    "\n",
    "Counter(sampleMeanIntList)"
   ]
  }
 ],
 "metadata": {
  "colab": {
   "collapsed_sections": [],
   "name": "IT166-Lab3.ipynb",
   "provenance": []
  },
  "kernelspec": {
   "display_name": "Python 3",
   "language": "python",
   "name": "python3"
  },
  "language_info": {
   "codemirror_mode": {
    "name": "ipython",
    "version": 3
   },
   "file_extension": ".py",
   "mimetype": "text/x-python",
   "name": "python",
   "nbconvert_exporter": "python",
   "pygments_lexer": "ipython3",
   "version": "3.8.8"
  }
 },
 "nbformat": 4,
 "nbformat_minor": 1
}

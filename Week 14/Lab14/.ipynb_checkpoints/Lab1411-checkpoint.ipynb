{
 "cells": [
  {
   "cell_type": "code",
   "execution_count": 1,
   "metadata": {},
   "outputs": [
    {
     "data": {
      "text/plain": [
       "(-2.0, 2.0)"
      ]
     },
     "execution_count": 1,
     "metadata": {},
     "output_type": "execute_result"
    },
    {
     "data": {
      "image/png": "[encoded data removed]",
      "text/plain": [
       "<Figure size 432x288 with 1 Axes>"
      ]
     },
     "metadata": {
      "needs_background": "light"
     },
     "output_type": "display_data"
    }
   ],
   "source": [
    "#Problem 1\n",
    "import numpy as np\n",
    "from matplotlib import pyplot as plt\n",
    "%matplotlib inline\n",
    "\n",
    "x = np.arange(-8,8.1,0.1)\n",
    "y1 = np.sin(x)\n",
    "y2 = np.cos(x)\n",
    "\n",
    "plt.plot(x,y1,'g--',label='sin(x)')\n",
    "plt.plot(x,y2,'o',color='r',label='cos(x)')\n",
    "plt.legend(loc='best')\n",
    "plt.xlim([-10,10])\n",
    "plt.ylim([-2,2])\n"
   ]
  },
  {
   "cell_type": "code",
   "execution_count": 4,
   "metadata": {},
   "outputs": [
    {
     "name": "stderr",
     "output_type": "stream",
     "text": [
      "UsageError: Line magic function `%matplotlin` not found.\n"
     ]
    }
   ],
   "source": [
    "#Problem2\n",
    "\n",
    "from matplotlib import pyplot as plt\n",
    "import pandas as pd\n",
    "%matplotlin inline\n",
    "\n",
    "#IMPORT THE DATA SET\n",
    "df = pd.read_csv('tips.csv')\n",
    "fig = plt.figure()\n",
    "\n",
    "# PLOT 1\n",
    "ax1 = fig.add_subplot(2,2,1)\n",
    "ax1.hist(df['tip'], bins=10,alpha=0.3,color='g')\n",
    "\n",
    "# PLOT 2\n",
    "ax2 = fig.add_subplot(2,2,2)\n",
    "grouped = df['day'].groupby(df['day'])\n",
    "grouped.keys.value_counts().plot(kind='bar',rot=360)\n",
    "\n",
    "# PLOT 3\n",
    "ax3 = fig.add_subplot(2,2,3)\n",
    "df['tip'].plot.box()\n",
    "\n",
    "# PLOT 4\n",
    "ax4 = fig.add_subplot(2,2,4)\n",
    "df['size'].hist()\n",
    "\n"
   ]
  },
  {
   "cell_type": "code",
   "execution_count": null,
   "metadata": {},
   "outputs": [],
   "source": []
  },
  {
   "cell_type": "code",
   "execution_count": null,
   "metadata": {},
   "outputs": [],
   "source": [
    "#Problem 3"
   ]
  },
  {
   "cell_type": "code",
   "execution_count": null,
   "metadata": {},
   "outputs": [],
   "source": [
    "#1\n",
    "df_AAPL = pd.read_csv('AAPL.csv', index_col = \"Date\")\n",
    "print(\"For Apple:\")\n",
    "print(df_AAPL.head(1))\n",
    "df_IBM = pd.read_csv('IBM.csv', index_col = \"Date\")\n",
    "print(\"For IBM:\")\n",
    "print(df_IBM.head(1))\n",
    "df_MSFT = pd.read_csv('MSFT.csv', index_col = \"Date\")\n",
    "print(\"For Microsoft:\")\n",
    "print(df_MSFT.head(1))\n",
    "df_GOOG = pd.read_csv('GOOG.csv', index_col = \"Date\")\n",
    "print(\"For Google:\")\n",
    "print(df_GOOG.head(1))"
   ]
  },
  {
   "cell_type": "code",
   "execution_count": null,
   "metadata": {},
   "outputs": [],
   "source": [
    "#2 \n",
    "import matplotlib.ticker as ticker\n",
    "fig = plt.figure(figsize=(10, 6))\n",
    "ax1 = fig.add_subplot(2, 2, 1)\n",
    "ax2 = fig.add_subplot(2, 2, 2)\n",
    "ax3 = fig.add_subplot(2, 2, 3)\n",
    "ax4 = fig.add_subplot(2, 2, 4)\n",
    "ax1.plot(df_AAPL['High'])\n",
    "ax1.xaxis.set_major_locator(ticker.NullLocator()) #no xticks\n",
    "#ax1.yaxis.set_major_locator(ticker.NullLocator()) #no yticks\n",
    "ax2.scatter(df_IBM.index, df_IBM['Low'])\n",
    "ax2.xaxis.set_major_locator(ticker.NullLocator()) #no xticks\n",
    "ax3.hist(df_MSFT['Close'])\n",
    "ax3.xaxis.set_major_locator(ticker.NullLocator()) #no xticks\n",
    "ax4.hist(df_GOOG['Adj Close'])\n",
    "ax4.xaxis.set_major_locator(ticker.NullLocator()) #no xticks"
   ]
  },
  {
   "cell_type": "code",
   "execution_count": null,
   "metadata": {},
   "outputs": [],
   "source": [
    "#3\n",
    "#Uses index as x-axis by default.\n",
    "df_AAPL.plot(y = [\"High\", \"Low\"])"
   ]
  },
  {
   "cell_type": "code",
   "execution_count": null,
   "metadata": {},
   "outputs": [],
   "source": [
    "#4\n",
    "df_AAPL[['High', 'Low']].plot.box()"
   ]
  }
 ],
 "metadata": {
  "kernelspec": {
   "display_name": "Python 3",
   "language": "python",
   "name": "python3"
  },
  "language_info": {
   "codemirror_mode": {
    "name": "ipython",
    "version": 3
   },
   "file_extension": ".py",
   "mimetype": "text/x-python",
   "name": "python",
   "nbconvert_exporter": "python",
   "pygments_lexer": "ipython3",
   "version": "3.8.8"
  }
 },
 "nbformat": 4,
 "nbformat_minor": 2
}

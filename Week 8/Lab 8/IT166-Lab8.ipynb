{
 "cells": [
  {
   "cell_type": "markdown",
   "metadata": {
    "id": "jpik38WWLOuZ"
   },
   "source": [
    "#IT 166 Lab 5\n",
    "\n",
    "In this lab, we will practice data scaling (one type of data transformtion) using List comprehensions. \n",
    "\n",
    "Objectives\n",
    "* Be able to write Python functions to implement different data scaling.\n",
    "* Be able to use List Comprehensions to apply the scaling functions to the data in a list\n",
    "\n",
    "Preparation\n",
    "* Launch the Jupyter notebook.\n",
    "* Rename the notebook page as “lab5”.\n",
    "\n",
    "##Background:\n",
    "\n",
    "Data transformation is the process of converting raw data into a format or structure that would be more suitable for (statistical or ML) model building and also data discovery in general. It is an imperative step in feature engineering that facilitates discovering insights. \n",
    "\n",
    "###Scaling Transformation\n",
    "Scaling is often used before fedding data to any ML models. This is because data often consists of many different input variables or features (columns) and each may have a different range of values or units of measure, such as feet, miles, kilograms, dollars, etc.\n",
    "\n",
    "If there are input variables that have very large values relative to the other input variables, these large values can dominate or skew some machine learning algorithms. The result is that the algorithms pay most of their attention to the large values and ignore the variables with smaller values.\n",
    "\n",
    "As such, it is normal to scale input variables to a common range as a data preparation technique prior to fitting a model. There are many data scaling methods, including Min-Max-Scaler (aka normalization), Standard Scaler (aka standardization), and Robust Scaler(aka clipping).\n",
    "\n"
   ]
  },
  {
   "cell_type": "markdown",
   "metadata": {
    "id": "kExJvHzMue0J"
   },
   "source": [
    "In this lab, we will develop three data scaling functions as described below. "
   ]
  },
  {
   "cell_type": "markdown",
   "metadata": {
    "id": "ZWVP9fzyuOHw"
   },
   "source": [
    "**Problem 1:** Develop a MinMaxScaler() function to conduct data normalization, which normalizes the data (in a List) into a range between $0$ and $1$ based on:\n",
    "$x' = (x - min(x)) / (max(x) - min(x))$\n",
    "\n",
    "Use List Comprehensions to do the data transformation (scaling).\n",
    "\n",
    "Please use the functions developed in last lab."
   ]
  },
  {
   "cell_type": "code",
   "execution_count": 5,
   "metadata": {
    "executionInfo": {
     "elapsed": 1,
     "status": "ok",
     "timestamp": 1645454838879,
     "user": {
      "displayName": "Yongning Tang",
      "photoUrl": "https://lh3.googleusercontent.com/a/default-user=s64",
      "userId": "15267084954923866581"
     },
     "user_tz": 360
    },
    "id": "IGHTwyQLBKD6"
   },
   "outputs": [],
   "source": [
    "#define functions: sumList, meanList, minMaxList, stdevList\n",
    "import math\n",
    "\n",
    "def sumList(aList):\n",
    "    sum = 0\n",
    "    for i in aList:\n",
    "        sum += i\n",
    "    return sum\n",
    "\n",
    "def meanList(aList):\n",
    "    return sumList(aList) / len(aList)\n",
    "\n",
    "def minMaxList(aList):\n",
    "    min = aList[0]\n",
    "    max = aList[0]\n",
    "    for i in aList:\n",
    "        if i > max:\n",
    "            max = i\n",
    "        if i < min:\n",
    "            min = i\n",
    "    return min, max\n",
    "\n",
    "#To calculate standard deviation\n",
    "def stdevList(aList):\n",
    "    sum = 0\n",
    "    mean = meanList(aList)\n",
    "    for i in aList:\n",
    "        sum += (i - mean) ** 2\n",
    "    stdev = math.sqrt(sum/len(aList))\n",
    "    return stdev"
   ]
  },
  {
   "cell_type": "code",
   "execution_count": 6,
   "metadata": {
    "executionInfo": {
     "elapsed": 250,
     "status": "ok",
     "timestamp": 1645454844547,
     "user": {
      "displayName": "Yongning Tang",
      "photoUrl": "https://lh3.googleusercontent.com/a/default-user=s64",
      "userId": "15267084954923866581"
     },
     "user_tz": 360
    },
    "id": "6E4FXrymu2xg"
   },
   "outputs": [],
   "source": [
    "def minMaxScaler(aList):\n",
    "    sum = sumList(aList)\n",
    "    mean = meanList(aList)\n",
    "    min, max = minMaxList(aList)\n",
    "    minMaxScaledList = [(item - min)/(max - min) for item in aList]\n",
    "    return minMaxScaledList\n"
   ]
  },
  {
   "cell_type": "code",
   "execution_count": 7,
   "metadata": {
    "colab": {
     "base_uri": "https://localhost:8080/"
    },
    "executionInfo": {
     "elapsed": 212,
     "status": "ok",
     "timestamp": 1645454847526,
     "user": {
      "displayName": "Yongning Tang",
      "photoUrl": "https://lh3.googleusercontent.com/a/default-user=s64",
      "userId": "15267084954923866581"
     },
     "user_tz": 360
    },
    "id": "Kv16Hq21vx4M",
    "outputId": "5329abf3-4418-4b3d-8a40-94065a82ca25"
   },
   "outputs": [
    {
     "name": "stdout",
     "output_type": "stream",
     "text": [
      "[0.26017241379310324, 0.6653448275862069, 0.9505172413793103, 0.7662068965517241, 0.8, 0.4379310344827585, 0.7515517241379311, 0.6648275862068966, 0.24948275862068964, 0.39258620689655166, 0.5094827586206896, 0.2799999999999999, 0.4777586206896551, 0.42344827586206873, 0.31362068965517237, 0.7258620689655172, 0.5448275862068964, 0.7770689655172413, 0.6896551724137931, 0.45068965517241383, 0.7479310344827585, 0.7868965517241377, 0.0, 0.5448275862068964, 0.7577586206896549, 0.5486206896551723, 0.7675862068965514, 0.5801724137931036, 0.17982758620689643, 0.27568965517241373, 0.09310344827586192, 0.39396551724137924, 0.48086206896551725, 0.6606896551724136, 0.7275862068965515, 0.5318965517241379, 0.7568965517241381, 0.4022413793103448, 0.5767241379310343, 0.1518965517241377, 0.45620689655172403, 0.46482758620689646, 0.7201724137931031, 0.6805172413793104, 0.14741379310344824, 0.5320689655172411, 0.8237931034482758, 0.3262068965517239, 0.7882758620689655, 0.638448275862069, 0.846896551724138, 0.49017241379310333, 0.47551724137931034, 0.30706896551724117, 0.44120689655172396, 0.8618965517241376, 1.0, 0.5201724137931032, 0.37017241379310345, 0.6191379310344827, 0.5315517241379307, 0.6836206896551725, 0.549310344827586, 0.5331034482758619, 0.6451724137931032, 0.2018965517241378, 0.7684482758620689, 0.6008620689655172, 0.0970689655172413, 0.4625862068965517, 0.541551724137931, 0.6227586206896553, 0.7327586206896551, 0.0851724137931034, 0.5279310344827587, 0.38620689655172397, 0.7017241379310343, 0.6044827586206897, 0.3055172413793103, 0.4244827586206895, 0.6332758620689654, 0.41379310344827586, 0.9910344827586205, 0.5351724137931033, 0.5379310344827585, 0.7167241379310344, 0.7412068965517238, 0.5808620689655172, 0.4003448275862069, 0.5794827586206894, 0.6663793103448277, 0.7515517241379311, 0.7363793103448277, 0.24551724137931025, 0.6131034482758622, 0.5844827586206898, 0.381551724137931, 0.43448275862068947, 0.5213793103448272, 0.30310344827586205]\n"
     ]
    }
   ],
   "source": [
    "#Write a simple app to use minMaxScaler\n",
    "weightList = [112.99,136.49,153.03,142.34,144.3,123.3,141.49,136.46,112.37,120.67,127.45,114.14,125.61,122.46,116.09,140,129.5,142.97,137.9,124.04,141.28,143.54,97.9,129.5,141.85,129.72,142.42,131.55,108.33,113.89,103.3,120.75,125.79,136.22,140.1,128.75,141.8,121.23,131.35,106.71,124.36,124.86,139.67,137.37,106.45,128.76,145.68,116.82,143.62,134.93,147.02,126.33,125.48,115.71,123.49,147.89,155.9,128.07,119.37,133.81,128.73,137.55,129.76,128.82,135.32,109.61,142.47,132.75,103.53,124.73,129.31,134.02,140.4,102.84,128.52,120.3,138.6,132.96,115.62,122.52,134.63,121.9,155.38,128.94,129.1,139.47,140.89,131.59,121.12,131.51,136.55,141.49,140.61,112.14,133.46,131.8,120.03,123.1,128.14,115.48]\n",
    "\n",
    "minMaxScaledList = minMaxScaler(weightList)\n",
    "\n",
    "print(minMaxScaledList)"
   ]
  },
  {
   "cell_type": "markdown",
   "metadata": {
    "id": "Z-LdquxNuSAw"
   },
   "source": [
    "**Problem 2:** Develop a stdScaler() function to conduct data standardization, which converts the data (in a List) into the standard form of $mean = 0$ and $variance = 1$ based on:\n",
    "$x' = (x - mean(x)) / stdev$\n",
    "\n"
   ]
  },
  {
   "cell_type": "code",
   "execution_count": 10,
   "metadata": {
    "executionInfo": {
     "elapsed": 285,
     "status": "ok",
     "timestamp": 1645455070377,
     "user": {
      "displayName": "Yongning Tang",
      "photoUrl": "https://lh3.googleusercontent.com/a/default-user=s64",
      "userId": "15267084954923866581"
     },
     "user_tz": 360
    },
    "id": "uU2Y4tpIzNjD"
   },
   "outputs": [],
   "source": [
    "def stdScaler(aList):\n",
    "    sum = sumList(aList)\n",
    "    mean = meanList(aList)\n",
    "    stdev = stdevList(aList)\n",
    "    stdScaledList = [(item - mean)/stdev for item in aList]\n",
    "    return stdScaledList"
   ]
  },
  {
   "cell_type": "code",
   "execution_count": 11,
   "metadata": {
    "colab": {
     "base_uri": "https://localhost:8080/"
    },
    "executionInfo": {
     "elapsed": 301,
     "status": "ok",
     "timestamp": 1645455071837,
     "user": {
      "displayName": "Yongning Tang",
      "photoUrl": "https://lh3.googleusercontent.com/a/default-user=s64",
      "userId": "15267084954923866581"
     },
     "user_tz": 360
    },
    "id": "FBK1RHZiww-x",
    "outputId": "c035a9d8-4713-4cc4-e756-3fe4d56285c5"
   },
   "outputs": [
    {
     "name": "stdout",
     "output_type": "stream",
     "text": [
      "[-1.344815080073659, 0.6037596663120384, 1.9752246154703106, 1.0888304010506047, 1.2513498267066039, -0.489929733893381, 1.0183500378834631, 0.6012721240826097, -1.3962242861485148, -0.7080042693399501, -0.14581972548909808, -1.2494592946122307, -0.29838898222738264, -0.5595809163173807, -1.087769049699375, 0.8948021071551777, 0.024162326855185826, 1.1410687878686039, 0.7206741510951798, -0.4285703589008094, 1.0009372422774625, 1.1883320902277457, -2.596048821476218, 0.024162326855185826, 1.0482005446366043, 0.04240430320432842, 1.0954638469957463, 0.1941443791994709, -1.7312133063782265, -1.2701888131908021, -2.14829122017908, -0.7013708233948074, -0.2834637288508108, 0.5813717862471806, 0.9030939145866057, -0.03802622888052788, 1.0440546409208915, -0.6615701477239503, 0.1775607643366125, -1.8655405867673684, -0.4020365751202388, -0.36057753796309633, 0.8674391426314626, 0.6767275717086086, -1.8870992860890818, -0.03719704813738579, 1.3657767692603167, -1.0272388554499479, 1.1949655361728895, 0.4744074703817536, 1.4768869888414589, -0.23868796872109757, -0.3091683318882393, -1.119277917938804, -0.47417529977366707, 1.5490257134948848, 2.2131994887523088, -0.09441051941424221, -0.8157977659485203, 0.38153922714975413, -0.039684590366814425, 0.6916528250851806, 0.04572102617689915, -0.0322219636785285, 0.5067455193643237, -1.6250781712559417, 1.0996097507114615, 0.2936460683766119, -2.129220063086794, -0.371356887623953, 0.008407892735471875, 0.3989520227557546, 0.9279693368808921, -2.1864335343636503, -0.05709738597281257, -0.7386839568362359, 0.7787168031151783, 0.3110588639826124, -1.1267405446270888, -0.5546058318585234, 0.4495320480874672, -0.6060150379333793, 2.1700820901088798, -0.02227179476081393, -0.009004902870528622, 0.8508555277686066, 0.9685991932948902, 0.19746110217204163, -0.6706911358985216, 0.1908276562268978, 0.6087347507708956, 1.0183500378834631, 0.9453821324868926, -1.4152954432408007, 0.35251790113975484, 0.21487389777804214, -0.7610718369010925, -0.5065133487562382, -0.08860625421224283, -1.1383490750310887]\n"
     ]
    }
   ],
   "source": [
    "#Write a simple app to use minMaxScaler\n",
    "weightList = [112.99,136.49,153.03,142.34,144.3,123.3,141.49,136.46,112.37,120.67,127.45,114.14,125.61,122.46,116.09,140,129.5,142.97,137.9,124.04,141.28,143.54,97.9,129.5,141.85,129.72,142.42,131.55,108.33,113.89,103.3,120.75,125.79,136.22,140.1,128.75,141.8,121.23,131.35,106.71,124.36,124.86,139.67,137.37,106.45,128.76,145.68,116.82,143.62,134.93,147.02,126.33,125.48,115.71,123.49,147.89,155.9,128.07,119.37,133.81,128.73,137.55,129.76,128.82,135.32,109.61,142.47,132.75,103.53,124.73,129.31,134.02,140.4,102.84,128.52,120.3,138.6,132.96,115.62,122.52,134.63,121.9,155.38,128.94,129.1,139.47,140.89,131.59,121.12,131.51,136.55,141.49,140.61,112.14,133.46,131.8,120.03,123.1,128.14,115.48]\n",
    "\n",
    "stdScaledList = stdScaler(weightList)\n",
    "print(stdScaledList)"
   ]
  },
  {
   "cell_type": "markdown",
   "metadata": {
    "id": "NnaoRtNJuUVJ"
   },
   "source": [
    "**Problem 3:** Develop a dataClipping() function to conduct data clipping in order to handle outliers. Clipping method sets up the upper and lower bound, and all data points will be contained within the range. We can use quantile() to find out what is the range of the majority amount of data (between 0.05 or 5th percentile, and 0.95 or 95th percentile). Any numbers below the lower bound (defined by 5th percentile) will be rounded up to the lower bound. Similarly, the numbers above upper bound (defined by 95th percentile) will be rounded down to upper bound.\n",
    "\n",
    "For example, the 95th percentile is the highest value remaining after the top 5% of a data set is removed.\n",
    "\n",
    "Here are the steps to calculate nth percentile of a given list:\n",
    "\n",
    "*   Sort the list;\n",
    "*   $index = round(len(list) \\times n / 100) - 1$\n",
    "*   $the~nth~percentile = list[index]$\n",
    "\n",
    "You also need to develop a function called clipping(itemValue, low, high), which can be applied to each item in the list such that:\n",
    "*   if itemValue < low, rerun low;\n",
    "*   if itemValue < high, rerun high;\n",
    "*   otherwise, rerun itemValue;"
   ]
  },
  {
   "cell_type": "code",
   "execution_count": 17,
   "metadata": {
    "executionInfo": {
     "elapsed": 261,
     "status": "ok",
     "timestamp": 1645455606676,
     "user": {
      "displayName": "Yongning Tang",
      "photoUrl": "https://lh3.googleusercontent.com/a/default-user=s64",
      "userId": "15267084954923866581"
     },
     "user_tz": 360
    },
    "id": "bzjidBI4zs4v"
   },
   "outputs": [],
   "source": [
    "def percentile(n, aList):\n",
    "    #copy the list and then apply sorting to avoid changing the original order\n",
    "    copiedList = aList.copy() \n",
    "    copiedList.sort()\n",
    "    index = round(len(copiedList) * n /100) - 1\n",
    "    return copiedList[index]\n",
    "\n",
    "def clipping(value, low, high):\n",
    "    if value < low:\n",
    "        return low\n",
    "    if value > high:\n",
    "        return high\n",
    "    return value\n",
    "        \n",
    "def dataClipping(aList):\n",
    "    percentile_5 = percentile(5, aList)\n",
    "    percentile_95 = percentile(95, aList)\n",
    "    clippedList = [clipping(item, percentile_5, percentile_95) for item in aList]\n",
    "    return clippedList"
   ]
  },
  {
   "cell_type": "code",
   "execution_count": 19,
   "metadata": {
    "colab": {
     "base_uri": "https://localhost:8080/"
    },
    "executionInfo": {
     "elapsed": 219,
     "status": "ok",
     "timestamp": 1645455666525,
     "user": {
      "displayName": "Yongning Tang",
      "photoUrl": "https://lh3.googleusercontent.com/a/default-user=s64",
      "userId": "15267084954923866581"
     },
     "user_tz": 360
    },
    "id": "2CDH82uSxIEG",
    "outputId": "5483e714-3ae1-4aa0-ddfd-cdbd500f6617"
   },
   "outputs": [
    {
     "name": "stdout",
     "output_type": "stream",
     "text": [
      "[112.99, 136.49, 145.68, 142.34, 144.3, 123.3, 141.49, 136.46, 112.37, 120.67, 127.45, 114.14, 125.61, 122.46, 116.09, 140, 129.5, 142.97, 137.9, 124.04, 141.28, 143.54, 106.45, 129.5, 141.85, 129.72, 142.42, 131.55, 108.33, 113.89, 106.45, 120.75, 125.79, 136.22, 140.1, 128.75, 141.8, 121.23, 131.35, 106.71, 124.36, 124.86, 139.67, 137.37, 106.45, 128.76, 145.68, 116.82, 143.62, 134.93, 145.68, 126.33, 125.48, 115.71, 123.49, 145.68, 145.68, 128.07, 119.37, 133.81, 128.73, 137.55, 129.76, 128.82, 135.32, 109.61, 142.47, 132.75, 106.45, 124.73, 129.31, 134.02, 140.4, 106.45, 128.52, 120.3, 138.6, 132.96, 115.62, 122.52, 134.63, 121.9, 145.68, 128.94, 129.1, 139.47, 140.89, 131.59, 121.12, 131.51, 136.55, 141.49, 140.61, 112.14, 133.46, 131.8, 120.03, 123.1, 128.14, 115.48]\n"
     ]
    }
   ],
   "source": [
    "#Write a simple app to use dataClipping\n",
    "weightList = [112.99,136.49,153.03,142.34,144.3,123.3,141.49,136.46,112.37,120.67,127.45,114.14,125.61,122.46,116.09,140,129.5,142.97,137.9,124.04,141.28,143.54,97.9,129.5,141.85,129.72,142.42,131.55,108.33,113.89,103.3,120.75,125.79,136.22,140.1,128.75,141.8,121.23,131.35,106.71,124.36,124.86,139.67,137.37,106.45,128.76,145.68,116.82,143.62,134.93,147.02,126.33,125.48,115.71,123.49,147.89,155.9,128.07,119.37,133.81,128.73,137.55,129.76,128.82,135.32,109.61,142.47,132.75,103.53,124.73,129.31,134.02,140.4,102.84,128.52,120.3,138.6,132.96,115.62,122.52,134.63,121.9,155.38,128.94,129.1,139.47,140.89,131.59,121.12,131.51,136.55,141.49,140.61,112.14,133.46,131.8,120.03,123.1,128.14,115.48]\n",
    "\n",
    "clippedList = dataClipping(weightList)\n",
    "\n",
    "print(clippedList)"
   ]
  }
 ],
 "metadata": {
  "colab": {
   "authorship_tag": "ABX9TyOSaOzCMuSs2TXckUGwqqIm",
   "collapsed_sections": [],
   "name": "IT166-Lab5.ipynb",
   "provenance": [
    {
     "file_id": "1RTJFfrO0t8mjzbWIpkU6gNMjpSTXc8RZ",
     "timestamp": 1645302321086
    },
    {
     "file_id": "1tuS_mSxJXJPrZzZHO4XblviGmjGe2IG3",
     "timestamp": 1644814253230
    }
   ]
  },
  "kernelspec": {
   "display_name": "Python 3",
   "language": "python",
   "name": "python3"
  },
  "language_info": {
   "codemirror_mode": {
    "name": "ipython",
    "version": 3
   },
   "file_extension": ".py",
   "mimetype": "text/x-python",
   "name": "python",
   "nbconvert_exporter": "python",
   "pygments_lexer": "ipython3",
   "version": "3.8.8"
  }
 },
 "nbformat": 4,
 "nbformat_minor": 1
}

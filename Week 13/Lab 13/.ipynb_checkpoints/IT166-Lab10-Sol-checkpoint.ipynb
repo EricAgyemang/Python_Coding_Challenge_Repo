{
 "cells": [
  {
   "cell_type": "markdown",
   "metadata": {
    "id": "rRqT2HbVgrWR"
   },
   "source": [
    "#IT 166 Lab 10\n",
    "\n",
    "In this lab, we will analyze Apple's stock price based on a dataset from a CSV file. \n",
    "\n",
    "Objectives\n",
    "* Be able to load data into a Pandas DataFrame from a CSV file\n",
    "* Be able to apply pandas mathematical and statistical methods to analyze the data in a DataFrame\n",
    "\n",
    "Preparation\n",
    "* Launch the Jupyter notebook.\n",
    "* Rename the notebook page as “lab10”."
   ]
  },
  {
   "cell_type": "markdown",
   "metadata": {
    "id": "twINiqftZwr1"
   },
   "source": [
    "##0. Make sure the CSV file (AAPL.csv) is on the current working directory. "
   ]
  },
  {
   "cell_type": "code",
   "execution_count": null,
   "metadata": {
    "colab": {
     "base_uri": "https://localhost:8080/",
     "height": 35
    },
    "executionInfo": {
     "elapsed": 119,
     "status": "ok",
     "timestamp": 1649643388535,
     "user": {
      "displayName": "Yongning Tang",
      "userId": "15267084954923866581"
     },
     "user_tz": 300
    },
    "id": "YY9qJKSQaEpk",
    "outputId": "cbe0ae22-cf1b-49b2-8c14-e1d1d6e243c8"
   },
   "outputs": [
    {
     "data": {
      "application/vnd.google.colaboratory.intrinsic+json": {
       "type": "string"
      },
      "text/plain": [
       "'/content/drive/MyDrive/Colab Notebooks/IT166'"
      ]
     },
     "execution_count": 22,
     "metadata": {},
     "output_type": "execute_result"
    }
   ],
   "source": [
    "import os\n",
    "os.getcwd()"
   ]
  },
  {
   "cell_type": "code",
   "execution_count": null,
   "metadata": {
    "colab": {
     "base_uri": "https://localhost:8080/"
    },
    "executionInfo": {
     "elapsed": 15234,
     "status": "ok",
     "timestamp": 1649638087025,
     "user": {
      "displayName": "Yongning Tang",
      "userId": "15267084954923866581"
     },
     "user_tz": 300
    },
    "id": "F6HO0i9nGFoX",
    "outputId": "81059eea-d7df-46d5-d8bb-84688038f9f7"
   },
   "outputs": [
    {
     "name": "stdout",
     "output_type": "stream",
     "text": [
      "Mounted at /content/drive\n"
     ]
    }
   ],
   "source": [
    "#Mount drive if needed\n",
    "from google.colab import drive\n",
    "drive.mount('/content/drive')\n",
    "import os\n",
    "os.chdir(\"/content/drive/My Drive/Colab Notebooks/IT166\")"
   ]
  },
  {
   "cell_type": "markdown",
   "metadata": {
    "id": "04AGAhPgaNuO"
   },
   "source": [
    "##1. Load data from AAPL.csv to a pandas dataframe. Display the first three rows."
   ]
  },
  {
   "cell_type": "code",
   "execution_count": null,
   "metadata": {
    "colab": {
     "base_uri": "https://localhost:8080/",
     "height": 144
    },
    "executionInfo": {
     "elapsed": 123,
     "status": "ok",
     "timestamp": 1649643598433,
     "user": {
      "displayName": "Yongning Tang",
      "userId": "15267084954923866581"
     },
     "user_tz": 300
    },
    "id": "ndf8HkJQF9rM",
    "outputId": "77749e96-f6ed-4eb4-a487-b9095b7bc2f5"
   },
   "outputs": [
    {
     "data": {
      "text/html": [
       "\n",
       "  <div id=\"df-84febe70-5e90-41d5-9ae2-5984ab8993af\">\n",
       "    <div class=\"colab-df-container\">\n",
       "      <div>\n",
       "<style scoped>\n",
       "    .dataframe tbody tr th:only-of-type {\n",
       "        vertical-align: middle;\n",
       "    }\n",
       "\n",
       "    .dataframe tbody tr th {\n",
       "        vertical-align: top;\n",
       "    }\n",
       "\n",
       "    .dataframe thead th {\n",
       "        text-align: right;\n",
       "    }\n",
       "</style>\n",
       "<table border=\"1\" class=\"dataframe\">\n",
       "  <thead>\n",
       "    <tr style=\"text-align: right;\">\n",
       "      <th></th>\n",
       "      <th>Date</th>\n",
       "      <th>High</th>\n",
       "      <th>Low</th>\n",
       "      <th>Open</th>\n",
       "      <th>Close</th>\n",
       "      <th>Volume</th>\n",
       "      <th>Adj Close</th>\n",
       "    </tr>\n",
       "  </thead>\n",
       "  <tbody>\n",
       "    <tr>\n",
       "      <th>0</th>\n",
       "      <td>2017-04-11</td>\n",
       "      <td>35.837502</td>\n",
       "      <td>35.014999</td>\n",
       "      <td>35.735001</td>\n",
       "      <td>35.407501</td>\n",
       "      <td>121517600.0</td>\n",
       "      <td>33.430336</td>\n",
       "    </tr>\n",
       "    <tr>\n",
       "      <th>1</th>\n",
       "      <td>2017-04-12</td>\n",
       "      <td>35.537498</td>\n",
       "      <td>35.252499</td>\n",
       "      <td>35.400002</td>\n",
       "      <td>35.450001</td>\n",
       "      <td>81400000.0</td>\n",
       "      <td>33.470470</td>\n",
       "    </tr>\n",
       "    <tr>\n",
       "      <th>2</th>\n",
       "      <td>2017-04-13</td>\n",
       "      <td>35.595001</td>\n",
       "      <td>35.262501</td>\n",
       "      <td>35.477501</td>\n",
       "      <td>35.262501</td>\n",
       "      <td>71291600.0</td>\n",
       "      <td>33.293446</td>\n",
       "    </tr>\n",
       "  </tbody>\n",
       "</table>\n",
       "</div>\n",
       "      <button class=\"colab-df-convert\" onclick=\"convertToInteractive('df-84febe70-5e90-41d5-9ae2-5984ab8993af')\"\n",
       "              title=\"Convert this dataframe to an interactive table.\"\n",
       "              style=\"display:none;\">\n",
       "        \n",
       "  <svg xmlns=\"http://www.w3.org/2000/svg\" height=\"24px\"viewBox=\"0 0 24 24\"\n",
       "       width=\"24px\">\n",
       "    <path d=\"M0 0h24v24H0V0z\" fill=\"none\"/>\n",
       "    <path d=\"M18.56 5.44l.94 2.06.94-2.06 2.06-.94-2.06-.94-.94-2.06-.94 2.06-2.06.94zm-11 1L8.5 8.5l.94-2.06 2.06-.94-2.06-.94L8.5 2.5l-.94 2.06-2.06.94zm10 10l.94 2.06.94-2.06 2.06-.94-2.06-.94-.94-2.06-.94 2.06-2.06.94z\"/><path d=\"M17.41 7.96l-1.37-1.37c-.4-.4-.92-.59-1.43-.59-.52 0-1.04.2-1.43.59L10.3 9.45l-7.72 7.72c-.78.78-.78 2.05 0 2.83L4 21.41c.39.39.9.59 1.41.59.51 0 1.02-.2 1.41-.59l7.78-7.78 2.81-2.81c.8-.78.8-2.07 0-2.86zM5.41 20L4 18.59l7.72-7.72 1.47 1.35L5.41 20z\"/>\n",
       "  </svg>\n",
       "      </button>\n",
       "      \n",
       "  <style>\n",
       "    .colab-df-container {\n",
       "      display:flex;\n",
       "      flex-wrap:wrap;\n",
       "      gap: 12px;\n",
       "    }\n",
       "\n",
       "    .colab-df-convert {\n",
       "      background-color: #E8F0FE;\n",
       "      border: none;\n",
       "      border-radius: 50%;\n",
       "      cursor: pointer;\n",
       "      display: none;\n",
       "      fill: #1967D2;\n",
       "      height: 32px;\n",
       "      padding: 0 0 0 0;\n",
       "      width: 32px;\n",
       "    }\n",
       "\n",
       "    .colab-df-convert:hover {\n",
       "      background-color: #E2EBFA;\n",
       "      box-shadow: 0px 1px 2px rgba(60, 64, 67, 0.3), 0px 1px 3px 1px rgba(60, 64, 67, 0.15);\n",
       "      fill: #174EA6;\n",
       "    }\n",
       "\n",
       "    [theme=dark] .colab-df-convert {\n",
       "      background-color: #3B4455;\n",
       "      fill: #D2E3FC;\n",
       "    }\n",
       "\n",
       "    [theme=dark] .colab-df-convert:hover {\n",
       "      background-color: #434B5C;\n",
       "      box-shadow: 0px 1px 3px 1px rgba(0, 0, 0, 0.15);\n",
       "      filter: drop-shadow(0px 1px 2px rgba(0, 0, 0, 0.3));\n",
       "      fill: #FFFFFF;\n",
       "    }\n",
       "  </style>\n",
       "\n",
       "      <script>\n",
       "        const buttonEl =\n",
       "          document.querySelector('#df-84febe70-5e90-41d5-9ae2-5984ab8993af button.colab-df-convert');\n",
       "        buttonEl.style.display =\n",
       "          google.colab.kernel.accessAllowed ? 'block' : 'none';\n",
       "\n",
       "        async function convertToInteractive(key) {\n",
       "          const element = document.querySelector('#df-84febe70-5e90-41d5-9ae2-5984ab8993af');\n",
       "          const dataTable =\n",
       "            await google.colab.kernel.invokeFunction('convertToInteractive',\n",
       "                                                     [key], {});\n",
       "          if (!dataTable) return;\n",
       "\n",
       "          const docLinkHtml = 'Like what you see? Visit the ' +\n",
       "            '<a target=\"_blank\" href=https://colab.research.google.com/notebooks/data_table.ipynb>data table notebook</a>'\n",
       "            + ' to learn more about interactive tables.';\n",
       "          element.innerHTML = '';\n",
       "          dataTable['output_type'] = 'display_data';\n",
       "          await google.colab.output.renderOutput(dataTable, element);\n",
       "          const docLink = document.createElement('div');\n",
       "          docLink.innerHTML = docLinkHtml;\n",
       "          element.appendChild(docLink);\n",
       "        }\n",
       "      </script>\n",
       "    </div>\n",
       "  </div>\n",
       "  "
      ],
      "text/plain": [
       "         Date       High        Low       Open      Close       Volume  \\\n",
       "0  2017-04-11  35.837502  35.014999  35.735001  35.407501  121517600.0   \n",
       "1  2017-04-12  35.537498  35.252499  35.400002  35.450001   81400000.0   \n",
       "2  2017-04-13  35.595001  35.262501  35.477501  35.262501   71291600.0   \n",
       "\n",
       "   Adj Close  \n",
       "0  33.430336  \n",
       "1  33.470470  \n",
       "2  33.293446  "
      ]
     },
     "execution_count": 26,
     "metadata": {},
     "output_type": "execute_result"
    }
   ],
   "source": [
    "import pandas as pd\n",
    "\n",
    "df = pd.read_csv('AAPL.csv')\n",
    "df.head(3)"
   ]
  },
  {
   "cell_type": "markdown",
   "metadata": {
    "id": "h5wjWyg3HFfG"
   },
   "source": [
    "##2. Change the index to the column \"Date\""
   ]
  },
  {
   "cell_type": "code",
   "execution_count": null,
   "metadata": {
    "id": "U01EZ7W9a9n1"
   },
   "outputs": [],
   "source": [
    "#Method 1: Change index\n",
    "df.index = df[\"Date\"]\n",
    "df"
   ]
  },
  {
   "cell_type": "code",
   "execution_count": null,
   "metadata": {
    "id": "Gy0gRt1pHWLy"
   },
   "outputs": [],
   "source": [
    "#Method 2: Change index\n",
    "df = pd.read_csv('AAPL.csv', index_col = \"Date\")\n",
    "df"
   ]
  },
  {
   "cell_type": "markdown",
   "metadata": {
    "id": "9pO_MZvgj-gd"
   },
   "source": [
    "##3. For each year contained in the index, create a separate dataframe. For example, create a dataframe df_2017 to contain all stock prices in 2017; and the same for 2018, 2019, 2020, 2021, 2022."
   ]
  },
  {
   "cell_type": "code",
   "execution_count": null,
   "metadata": {
    "colab": {
     "base_uri": "https://localhost:8080/",
     "height": 455
    },
    "executionInfo": {
     "elapsed": 120,
     "status": "ok",
     "timestamp": 1649647864646,
     "user": {
      "displayName": "Yongning Tang",
      "userId": "15267084954923866581"
     },
     "user_tz": 300
    },
    "id": "ImJ1QHvZox0D",
    "outputId": "d46a8b92-d7b2-4a42-b151-f244eb66c7b7"
   },
   "outputs": [
    {
     "data": {
      "text/html": [
       "\n",
       "  <div id=\"df-13197fda-d46e-4706-bca7-bd081413907f\">\n",
       "    <div class=\"colab-df-container\">\n",
       "      <div>\n",
       "<style scoped>\n",
       "    .dataframe tbody tr th:only-of-type {\n",
       "        vertical-align: middle;\n",
       "    }\n",
       "\n",
       "    .dataframe tbody tr th {\n",
       "        vertical-align: top;\n",
       "    }\n",
       "\n",
       "    .dataframe thead th {\n",
       "        text-align: right;\n",
       "    }\n",
       "</style>\n",
       "<table border=\"1\" class=\"dataframe\">\n",
       "  <thead>\n",
       "    <tr style=\"text-align: right;\">\n",
       "      <th></th>\n",
       "      <th>High</th>\n",
       "      <th>Low</th>\n",
       "      <th>Open</th>\n",
       "      <th>Close</th>\n",
       "      <th>Volume</th>\n",
       "      <th>Adj Close</th>\n",
       "    </tr>\n",
       "    <tr>\n",
       "      <th>Date</th>\n",
       "      <th></th>\n",
       "      <th></th>\n",
       "      <th></th>\n",
       "      <th></th>\n",
       "      <th></th>\n",
       "      <th></th>\n",
       "    </tr>\n",
       "  </thead>\n",
       "  <tbody>\n",
       "    <tr>\n",
       "      <th>2017-04-11</th>\n",
       "      <td>35.837502</td>\n",
       "      <td>35.014999</td>\n",
       "      <td>35.735001</td>\n",
       "      <td>35.407501</td>\n",
       "      <td>121517600.0</td>\n",
       "      <td>33.430336</td>\n",
       "    </tr>\n",
       "    <tr>\n",
       "      <th>2017-04-12</th>\n",
       "      <td>35.537498</td>\n",
       "      <td>35.252499</td>\n",
       "      <td>35.400002</td>\n",
       "      <td>35.450001</td>\n",
       "      <td>81400000.0</td>\n",
       "      <td>33.470470</td>\n",
       "    </tr>\n",
       "    <tr>\n",
       "      <th>2017-04-13</th>\n",
       "      <td>35.595001</td>\n",
       "      <td>35.262501</td>\n",
       "      <td>35.477501</td>\n",
       "      <td>35.262501</td>\n",
       "      <td>71291600.0</td>\n",
       "      <td>33.293446</td>\n",
       "    </tr>\n",
       "    <tr>\n",
       "      <th>2017-04-17</th>\n",
       "      <td>35.470001</td>\n",
       "      <td>35.217499</td>\n",
       "      <td>35.369999</td>\n",
       "      <td>35.457500</td>\n",
       "      <td>66328400.0</td>\n",
       "      <td>33.477554</td>\n",
       "    </tr>\n",
       "    <tr>\n",
       "      <th>2017-04-18</th>\n",
       "      <td>35.509998</td>\n",
       "      <td>35.277500</td>\n",
       "      <td>35.352501</td>\n",
       "      <td>35.299999</td>\n",
       "      <td>58790000.0</td>\n",
       "      <td>33.328854</td>\n",
       "    </tr>\n",
       "    <tr>\n",
       "      <th>...</th>\n",
       "      <td>...</td>\n",
       "      <td>...</td>\n",
       "      <td>...</td>\n",
       "      <td>...</td>\n",
       "      <td>...</td>\n",
       "      <td>...</td>\n",
       "    </tr>\n",
       "    <tr>\n",
       "      <th>2017-12-22</th>\n",
       "      <td>43.855000</td>\n",
       "      <td>43.625000</td>\n",
       "      <td>43.669998</td>\n",
       "      <td>43.752499</td>\n",
       "      <td>65397600.0</td>\n",
       "      <td>41.792454</td>\n",
       "    </tr>\n",
       "    <tr>\n",
       "      <th>2017-12-26</th>\n",
       "      <td>42.867500</td>\n",
       "      <td>42.419998</td>\n",
       "      <td>42.700001</td>\n",
       "      <td>42.642502</td>\n",
       "      <td>132742000.0</td>\n",
       "      <td>40.732174</td>\n",
       "    </tr>\n",
       "    <tr>\n",
       "      <th>2017-12-27</th>\n",
       "      <td>42.695000</td>\n",
       "      <td>42.427502</td>\n",
       "      <td>42.525002</td>\n",
       "      <td>42.650002</td>\n",
       "      <td>85992800.0</td>\n",
       "      <td>40.739349</td>\n",
       "    </tr>\n",
       "    <tr>\n",
       "      <th>2017-12-28</th>\n",
       "      <td>42.962502</td>\n",
       "      <td>42.619999</td>\n",
       "      <td>42.750000</td>\n",
       "      <td>42.770000</td>\n",
       "      <td>65920800.0</td>\n",
       "      <td>40.853970</td>\n",
       "    </tr>\n",
       "    <tr>\n",
       "      <th>2017-12-29</th>\n",
       "      <td>42.647499</td>\n",
       "      <td>42.305000</td>\n",
       "      <td>42.630001</td>\n",
       "      <td>42.307499</td>\n",
       "      <td>103999600.0</td>\n",
       "      <td>40.412193</td>\n",
       "    </tr>\n",
       "  </tbody>\n",
       "</table>\n",
       "<p>183 rows × 6 columns</p>\n",
       "</div>\n",
       "      <button class=\"colab-df-convert\" onclick=\"convertToInteractive('df-13197fda-d46e-4706-bca7-bd081413907f')\"\n",
       "              title=\"Convert this dataframe to an interactive table.\"\n",
       "              style=\"display:none;\">\n",
       "        \n",
       "  <svg xmlns=\"http://www.w3.org/2000/svg\" height=\"24px\"viewBox=\"0 0 24 24\"\n",
       "       width=\"24px\">\n",
       "    <path d=\"M0 0h24v24H0V0z\" fill=\"none\"/>\n",
       "    <path d=\"M18.56 5.44l.94 2.06.94-2.06 2.06-.94-2.06-.94-.94-2.06-.94 2.06-2.06.94zm-11 1L8.5 8.5l.94-2.06 2.06-.94-2.06-.94L8.5 2.5l-.94 2.06-2.06.94zm10 10l.94 2.06.94-2.06 2.06-.94-2.06-.94-.94-2.06-.94 2.06-2.06.94z\"/><path d=\"M17.41 7.96l-1.37-1.37c-.4-.4-.92-.59-1.43-.59-.52 0-1.04.2-1.43.59L10.3 9.45l-7.72 7.72c-.78.78-.78 2.05 0 2.83L4 21.41c.39.39.9.59 1.41.59.51 0 1.02-.2 1.41-.59l7.78-7.78 2.81-2.81c.8-.78.8-2.07 0-2.86zM5.41 20L4 18.59l7.72-7.72 1.47 1.35L5.41 20z\"/>\n",
       "  </svg>\n",
       "      </button>\n",
       "      \n",
       "  <style>\n",
       "    .colab-df-container {\n",
       "      display:flex;\n",
       "      flex-wrap:wrap;\n",
       "      gap: 12px;\n",
       "    }\n",
       "\n",
       "    .colab-df-convert {\n",
       "      background-color: #E8F0FE;\n",
       "      border: none;\n",
       "      border-radius: 50%;\n",
       "      cursor: pointer;\n",
       "      display: none;\n",
       "      fill: #1967D2;\n",
       "      height: 32px;\n",
       "      padding: 0 0 0 0;\n",
       "      width: 32px;\n",
       "    }\n",
       "\n",
       "    .colab-df-convert:hover {\n",
       "      background-color: #E2EBFA;\n",
       "      box-shadow: 0px 1px 2px rgba(60, 64, 67, 0.3), 0px 1px 3px 1px rgba(60, 64, 67, 0.15);\n",
       "      fill: #174EA6;\n",
       "    }\n",
       "\n",
       "    [theme=dark] .colab-df-convert {\n",
       "      background-color: #3B4455;\n",
       "      fill: #D2E3FC;\n",
       "    }\n",
       "\n",
       "    [theme=dark] .colab-df-convert:hover {\n",
       "      background-color: #434B5C;\n",
       "      box-shadow: 0px 1px 3px 1px rgba(0, 0, 0, 0.15);\n",
       "      filter: drop-shadow(0px 1px 2px rgba(0, 0, 0, 0.3));\n",
       "      fill: #FFFFFF;\n",
       "    }\n",
       "  </style>\n",
       "\n",
       "      <script>\n",
       "        const buttonEl =\n",
       "          document.querySelector('#df-13197fda-d46e-4706-bca7-bd081413907f button.colab-df-convert');\n",
       "        buttonEl.style.display =\n",
       "          google.colab.kernel.accessAllowed ? 'block' : 'none';\n",
       "\n",
       "        async function convertToInteractive(key) {\n",
       "          const element = document.querySelector('#df-13197fda-d46e-4706-bca7-bd081413907f');\n",
       "          const dataTable =\n",
       "            await google.colab.kernel.invokeFunction('convertToInteractive',\n",
       "                                                     [key], {});\n",
       "          if (!dataTable) return;\n",
       "\n",
       "          const docLinkHtml = 'Like what you see? Visit the ' +\n",
       "            '<a target=\"_blank\" href=https://colab.research.google.com/notebooks/data_table.ipynb>data table notebook</a>'\n",
       "            + ' to learn more about interactive tables.';\n",
       "          element.innerHTML = '';\n",
       "          dataTable['output_type'] = 'display_data';\n",
       "          await google.colab.output.renderOutput(dataTable, element);\n",
       "          const docLink = document.createElement('div');\n",
       "          docLink.innerHTML = docLinkHtml;\n",
       "          element.appendChild(docLink);\n",
       "        }\n",
       "      </script>\n",
       "    </div>\n",
       "  </div>\n",
       "  "
      ],
      "text/plain": [
       "                 High        Low       Open      Close       Volume  Adj Close\n",
       "Date                                                                          \n",
       "2017-04-11  35.837502  35.014999  35.735001  35.407501  121517600.0  33.430336\n",
       "2017-04-12  35.537498  35.252499  35.400002  35.450001   81400000.0  33.470470\n",
       "2017-04-13  35.595001  35.262501  35.477501  35.262501   71291600.0  33.293446\n",
       "2017-04-17  35.470001  35.217499  35.369999  35.457500   66328400.0  33.477554\n",
       "2017-04-18  35.509998  35.277500  35.352501  35.299999   58790000.0  33.328854\n",
       "...               ...        ...        ...        ...          ...        ...\n",
       "2017-12-22  43.855000  43.625000  43.669998  43.752499   65397600.0  41.792454\n",
       "2017-12-26  42.867500  42.419998  42.700001  42.642502  132742000.0  40.732174\n",
       "2017-12-27  42.695000  42.427502  42.525002  42.650002   85992800.0  40.739349\n",
       "2017-12-28  42.962502  42.619999  42.750000  42.770000   65920800.0  40.853970\n",
       "2017-12-29  42.647499  42.305000  42.630001  42.307499  103999600.0  40.412193\n",
       "\n",
       "[183 rows x 6 columns]"
      ]
     },
     "execution_count": 49,
     "metadata": {},
     "output_type": "execute_result"
    }
   ],
   "source": [
    "df_2017 = df[df.index.str.contains(\"2017\")]\n",
    "df_2017"
   ]
  },
  {
   "cell_type": "code",
   "execution_count": null,
   "metadata": {
    "colab": {
     "base_uri": "https://localhost:8080/",
     "height": 455
    },
    "executionInfo": {
     "elapsed": 125,
     "status": "ok",
     "timestamp": 1649648507884,
     "user": {
      "displayName": "Yongning Tang",
      "userId": "15267084954923866581"
     },
     "user_tz": 300
    },
    "id": "haQACAsVtmDb",
    "outputId": "03736658-1fe6-46cc-834f-d692941ab350"
   },
   "outputs": [
    {
     "data": {
      "text/html": [
       "\n",
       "  <div id=\"df-bf200b59-68d7-4ab8-b78b-79d66bd10d38\">\n",
       "    <div class=\"colab-df-container\">\n",
       "      <div>\n",
       "<style scoped>\n",
       "    .dataframe tbody tr th:only-of-type {\n",
       "        vertical-align: middle;\n",
       "    }\n",
       "\n",
       "    .dataframe tbody tr th {\n",
       "        vertical-align: top;\n",
       "    }\n",
       "\n",
       "    .dataframe thead th {\n",
       "        text-align: right;\n",
       "    }\n",
       "</style>\n",
       "<table border=\"1\" class=\"dataframe\">\n",
       "  <thead>\n",
       "    <tr style=\"text-align: right;\">\n",
       "      <th></th>\n",
       "      <th>High</th>\n",
       "      <th>Low</th>\n",
       "      <th>Open</th>\n",
       "      <th>Close</th>\n",
       "      <th>Volume</th>\n",
       "      <th>Adj Close</th>\n",
       "    </tr>\n",
       "    <tr>\n",
       "      <th>Date</th>\n",
       "      <th></th>\n",
       "      <th></th>\n",
       "      <th></th>\n",
       "      <th></th>\n",
       "      <th></th>\n",
       "      <th></th>\n",
       "    </tr>\n",
       "  </thead>\n",
       "  <tbody>\n",
       "    <tr>\n",
       "      <th>2022-01-03</th>\n",
       "      <td>182.880005</td>\n",
       "      <td>177.710007</td>\n",
       "      <td>177.830002</td>\n",
       "      <td>182.009995</td>\n",
       "      <td>104487900.0</td>\n",
       "      <td>181.778397</td>\n",
       "    </tr>\n",
       "    <tr>\n",
       "      <th>2022-01-04</th>\n",
       "      <td>182.940002</td>\n",
       "      <td>179.119995</td>\n",
       "      <td>182.630005</td>\n",
       "      <td>179.699997</td>\n",
       "      <td>99310400.0</td>\n",
       "      <td>179.471344</td>\n",
       "    </tr>\n",
       "    <tr>\n",
       "      <th>2022-01-05</th>\n",
       "      <td>180.169998</td>\n",
       "      <td>174.639999</td>\n",
       "      <td>179.610001</td>\n",
       "      <td>174.919998</td>\n",
       "      <td>94537600.0</td>\n",
       "      <td>174.697418</td>\n",
       "    </tr>\n",
       "    <tr>\n",
       "      <th>2022-01-06</th>\n",
       "      <td>175.300003</td>\n",
       "      <td>171.639999</td>\n",
       "      <td>172.699997</td>\n",
       "      <td>172.000000</td>\n",
       "      <td>96904000.0</td>\n",
       "      <td>171.781143</td>\n",
       "    </tr>\n",
       "    <tr>\n",
       "      <th>2022-01-07</th>\n",
       "      <td>174.139999</td>\n",
       "      <td>171.029999</td>\n",
       "      <td>172.889999</td>\n",
       "      <td>172.169998</td>\n",
       "      <td>86709100.0</td>\n",
       "      <td>171.950928</td>\n",
       "    </tr>\n",
       "    <tr>\n",
       "      <th>...</th>\n",
       "      <td>...</td>\n",
       "      <td>...</td>\n",
       "      <td>...</td>\n",
       "      <td>...</td>\n",
       "      <td>...</td>\n",
       "      <td>...</td>\n",
       "    </tr>\n",
       "    <tr>\n",
       "      <th>2022-04-04</th>\n",
       "      <td>178.490005</td>\n",
       "      <td>174.440002</td>\n",
       "      <td>174.570007</td>\n",
       "      <td>178.440002</td>\n",
       "      <td>76468400.0</td>\n",
       "      <td>178.440002</td>\n",
       "    </tr>\n",
       "    <tr>\n",
       "      <th>2022-04-05</th>\n",
       "      <td>178.300003</td>\n",
       "      <td>174.419998</td>\n",
       "      <td>177.500000</td>\n",
       "      <td>175.059998</td>\n",
       "      <td>73401800.0</td>\n",
       "      <td>175.059998</td>\n",
       "    </tr>\n",
       "    <tr>\n",
       "      <th>2022-04-06</th>\n",
       "      <td>173.630005</td>\n",
       "      <td>170.130005</td>\n",
       "      <td>172.360001</td>\n",
       "      <td>171.830002</td>\n",
       "      <td>89058800.0</td>\n",
       "      <td>171.830002</td>\n",
       "    </tr>\n",
       "    <tr>\n",
       "      <th>2022-04-07</th>\n",
       "      <td>173.360001</td>\n",
       "      <td>169.850006</td>\n",
       "      <td>171.160004</td>\n",
       "      <td>172.139999</td>\n",
       "      <td>77594700.0</td>\n",
       "      <td>172.139999</td>\n",
       "    </tr>\n",
       "    <tr>\n",
       "      <th>2022-04-08</th>\n",
       "      <td>171.779999</td>\n",
       "      <td>169.199997</td>\n",
       "      <td>171.779999</td>\n",
       "      <td>170.089996</td>\n",
       "      <td>76515900.0</td>\n",
       "      <td>170.089996</td>\n",
       "    </tr>\n",
       "  </tbody>\n",
       "</table>\n",
       "<p>68 rows × 6 columns</p>\n",
       "</div>\n",
       "      <button class=\"colab-df-convert\" onclick=\"convertToInteractive('df-bf200b59-68d7-4ab8-b78b-79d66bd10d38')\"\n",
       "              title=\"Convert this dataframe to an interactive table.\"\n",
       "              style=\"display:none;\">\n",
       "        \n",
       "  <svg xmlns=\"http://www.w3.org/2000/svg\" height=\"24px\"viewBox=\"0 0 24 24\"\n",
       "       width=\"24px\">\n",
       "    <path d=\"M0 0h24v24H0V0z\" fill=\"none\"/>\n",
       "    <path d=\"M18.56 5.44l.94 2.06.94-2.06 2.06-.94-2.06-.94-.94-2.06-.94 2.06-2.06.94zm-11 1L8.5 8.5l.94-2.06 2.06-.94-2.06-.94L8.5 2.5l-.94 2.06-2.06.94zm10 10l.94 2.06.94-2.06 2.06-.94-2.06-.94-.94-2.06-.94 2.06-2.06.94z\"/><path d=\"M17.41 7.96l-1.37-1.37c-.4-.4-.92-.59-1.43-.59-.52 0-1.04.2-1.43.59L10.3 9.45l-7.72 7.72c-.78.78-.78 2.05 0 2.83L4 21.41c.39.39.9.59 1.41.59.51 0 1.02-.2 1.41-.59l7.78-7.78 2.81-2.81c.8-.78.8-2.07 0-2.86zM5.41 20L4 18.59l7.72-7.72 1.47 1.35L5.41 20z\"/>\n",
       "  </svg>\n",
       "      </button>\n",
       "      \n",
       "  <style>\n",
       "    .colab-df-container {\n",
       "      display:flex;\n",
       "      flex-wrap:wrap;\n",
       "      gap: 12px;\n",
       "    }\n",
       "\n",
       "    .colab-df-convert {\n",
       "      background-color: #E8F0FE;\n",
       "      border: none;\n",
       "      border-radius: 50%;\n",
       "      cursor: pointer;\n",
       "      display: none;\n",
       "      fill: #1967D2;\n",
       "      height: 32px;\n",
       "      padding: 0 0 0 0;\n",
       "      width: 32px;\n",
       "    }\n",
       "\n",
       "    .colab-df-convert:hover {\n",
       "      background-color: #E2EBFA;\n",
       "      box-shadow: 0px 1px 2px rgba(60, 64, 67, 0.3), 0px 1px 3px 1px rgba(60, 64, 67, 0.15);\n",
       "      fill: #174EA6;\n",
       "    }\n",
       "\n",
       "    [theme=dark] .colab-df-convert {\n",
       "      background-color: #3B4455;\n",
       "      fill: #D2E3FC;\n",
       "    }\n",
       "\n",
       "    [theme=dark] .colab-df-convert:hover {\n",
       "      background-color: #434B5C;\n",
       "      box-shadow: 0px 1px 3px 1px rgba(0, 0, 0, 0.15);\n",
       "      filter: drop-shadow(0px 1px 2px rgba(0, 0, 0, 0.3));\n",
       "      fill: #FFFFFF;\n",
       "    }\n",
       "  </style>\n",
       "\n",
       "      <script>\n",
       "        const buttonEl =\n",
       "          document.querySelector('#df-bf200b59-68d7-4ab8-b78b-79d66bd10d38 button.colab-df-convert');\n",
       "        buttonEl.style.display =\n",
       "          google.colab.kernel.accessAllowed ? 'block' : 'none';\n",
       "\n",
       "        async function convertToInteractive(key) {\n",
       "          const element = document.querySelector('#df-bf200b59-68d7-4ab8-b78b-79d66bd10d38');\n",
       "          const dataTable =\n",
       "            await google.colab.kernel.invokeFunction('convertToInteractive',\n",
       "                                                     [key], {});\n",
       "          if (!dataTable) return;\n",
       "\n",
       "          const docLinkHtml = 'Like what you see? Visit the ' +\n",
       "            '<a target=\"_blank\" href=https://colab.research.google.com/notebooks/data_table.ipynb>data table notebook</a>'\n",
       "            + ' to learn more about interactive tables.';\n",
       "          element.innerHTML = '';\n",
       "          dataTable['output_type'] = 'display_data';\n",
       "          await google.colab.output.renderOutput(dataTable, element);\n",
       "          const docLink = document.createElement('div');\n",
       "          docLink.innerHTML = docLinkHtml;\n",
       "          element.appendChild(docLink);\n",
       "        }\n",
       "      </script>\n",
       "    </div>\n",
       "  </div>\n",
       "  "
      ],
      "text/plain": [
       "                  High         Low        Open       Close       Volume  \\\n",
       "Date                                                                      \n",
       "2022-01-03  182.880005  177.710007  177.830002  182.009995  104487900.0   \n",
       "2022-01-04  182.940002  179.119995  182.630005  179.699997   99310400.0   \n",
       "2022-01-05  180.169998  174.639999  179.610001  174.919998   94537600.0   \n",
       "2022-01-06  175.300003  171.639999  172.699997  172.000000   96904000.0   \n",
       "2022-01-07  174.139999  171.029999  172.889999  172.169998   86709100.0   \n",
       "...                ...         ...         ...         ...          ...   \n",
       "2022-04-04  178.490005  174.440002  174.570007  178.440002   76468400.0   \n",
       "2022-04-05  178.300003  174.419998  177.500000  175.059998   73401800.0   \n",
       "2022-04-06  173.630005  170.130005  172.360001  171.830002   89058800.0   \n",
       "2022-04-07  173.360001  169.850006  171.160004  172.139999   77594700.0   \n",
       "2022-04-08  171.779999  169.199997  171.779999  170.089996   76515900.0   \n",
       "\n",
       "             Adj Close  \n",
       "Date                    \n",
       "2022-01-03  181.778397  \n",
       "2022-01-04  179.471344  \n",
       "2022-01-05  174.697418  \n",
       "2022-01-06  171.781143  \n",
       "2022-01-07  171.950928  \n",
       "...                ...  \n",
       "2022-04-04  178.440002  \n",
       "2022-04-05  175.059998  \n",
       "2022-04-06  171.830002  \n",
       "2022-04-07  172.139999  \n",
       "2022-04-08  170.089996  \n",
       "\n",
       "[68 rows x 6 columns]"
      ]
     },
     "execution_count": 53,
     "metadata": {},
     "output_type": "execute_result"
    }
   ],
   "source": [
    "df_2022 = df[df.index.str.contains(\"2022\")]\n",
    "df_2022"
   ]
  },
  {
   "cell_type": "markdown",
   "metadata": {
    "id": "SqKGhH7DrwFD"
   },
   "source": [
    "##4. Find the correlation between the daily highest and lowest stock prices. "
   ]
  },
  {
   "cell_type": "code",
   "execution_count": null,
   "metadata": {
    "colab": {
     "base_uri": "https://localhost:8080/"
    },
    "executionInfo": {
     "elapsed": 118,
     "status": "ok",
     "timestamp": 1649640262266,
     "user": {
      "displayName": "Yongning Tang",
      "userId": "15267084954923866581"
     },
     "user_tz": 300
    },
    "id": "AI7EMBIlODDZ",
    "outputId": "468ac927-35ee-4166-b5d9-5044c9eb17c3"
   },
   "outputs": [
    {
     "data": {
      "text/plain": [
       "0.9996845921784067"
      ]
     },
     "execution_count": 20,
     "metadata": {},
     "output_type": "execute_result"
    }
   ],
   "source": [
    "df[\"High\"].corr(df[\"Low\"])"
   ]
  },
  {
   "cell_type": "markdown",
   "metadata": {
    "id": "LzE-8vbFsGfv"
   },
   "source": [
    "##5. Find the correlation between each pair of columns. "
   ]
  },
  {
   "cell_type": "code",
   "execution_count": null,
   "metadata": {
    "colab": {
     "base_uri": "https://localhost:8080/",
     "height": 237
    },
    "executionInfo": {
     "elapsed": 137,
     "status": "ok",
     "timestamp": 1649640289265,
     "user": {
      "displayName": "Yongning Tang",
      "userId": "15267084954923866581"
     },
     "user_tz": 300
    },
    "id": "XFzkss7jOQ9f",
    "outputId": "9907432c-199b-4ac7-ae64-114cc903a3c4"
   },
   "outputs": [
    {
     "data": {
      "text/html": [
       "\n",
       "  <div id=\"df-4596ef09-47ec-4da1-a823-c3bdb580712f\">\n",
       "    <div class=\"colab-df-container\">\n",
       "      <div>\n",
       "<style scoped>\n",
       "    .dataframe tbody tr th:only-of-type {\n",
       "        vertical-align: middle;\n",
       "    }\n",
       "\n",
       "    .dataframe tbody tr th {\n",
       "        vertical-align: top;\n",
       "    }\n",
       "\n",
       "    .dataframe thead th {\n",
       "        text-align: right;\n",
       "    }\n",
       "</style>\n",
       "<table border=\"1\" class=\"dataframe\">\n",
       "  <thead>\n",
       "    <tr style=\"text-align: right;\">\n",
       "      <th></th>\n",
       "      <th>High</th>\n",
       "      <th>Low</th>\n",
       "      <th>Open</th>\n",
       "      <th>Close</th>\n",
       "      <th>Volume</th>\n",
       "      <th>Adj Close</th>\n",
       "    </tr>\n",
       "  </thead>\n",
       "  <tbody>\n",
       "    <tr>\n",
       "      <th>High</th>\n",
       "      <td>1.000000</td>\n",
       "      <td>0.999685</td>\n",
       "      <td>0.999802</td>\n",
       "      <td>0.999749</td>\n",
       "      <td>-0.189611</td>\n",
       "      <td>0.999734</td>\n",
       "    </tr>\n",
       "    <tr>\n",
       "      <th>Low</th>\n",
       "      <td>0.999685</td>\n",
       "      <td>1.000000</td>\n",
       "      <td>0.999742</td>\n",
       "      <td>0.999744</td>\n",
       "      <td>-0.205282</td>\n",
       "      <td>0.999723</td>\n",
       "    </tr>\n",
       "    <tr>\n",
       "      <th>Open</th>\n",
       "      <td>0.999802</td>\n",
       "      <td>0.999742</td>\n",
       "      <td>1.000000</td>\n",
       "      <td>0.999492</td>\n",
       "      <td>-0.196453</td>\n",
       "      <td>0.999470</td>\n",
       "    </tr>\n",
       "    <tr>\n",
       "      <th>Close</th>\n",
       "      <td>0.999749</td>\n",
       "      <td>0.999744</td>\n",
       "      <td>0.999492</td>\n",
       "      <td>1.000000</td>\n",
       "      <td>-0.197918</td>\n",
       "      <td>0.999979</td>\n",
       "    </tr>\n",
       "    <tr>\n",
       "      <th>Volume</th>\n",
       "      <td>-0.189611</td>\n",
       "      <td>-0.205282</td>\n",
       "      <td>-0.196453</td>\n",
       "      <td>-0.197918</td>\n",
       "      <td>1.000000</td>\n",
       "      <td>-0.197455</td>\n",
       "    </tr>\n",
       "    <tr>\n",
       "      <th>Adj Close</th>\n",
       "      <td>0.999734</td>\n",
       "      <td>0.999723</td>\n",
       "      <td>0.999470</td>\n",
       "      <td>0.999979</td>\n",
       "      <td>-0.197455</td>\n",
       "      <td>1.000000</td>\n",
       "    </tr>\n",
       "  </tbody>\n",
       "</table>\n",
       "</div>\n",
       "      <button class=\"colab-df-convert\" onclick=\"convertToInteractive('df-4596ef09-47ec-4da1-a823-c3bdb580712f')\"\n",
       "              title=\"Convert this dataframe to an interactive table.\"\n",
       "              style=\"display:none;\">\n",
       "        \n",
       "  <svg xmlns=\"http://www.w3.org/2000/svg\" height=\"24px\"viewBox=\"0 0 24 24\"\n",
       "       width=\"24px\">\n",
       "    <path d=\"M0 0h24v24H0V0z\" fill=\"none\"/>\n",
       "    <path d=\"M18.56 5.44l.94 2.06.94-2.06 2.06-.94-2.06-.94-.94-2.06-.94 2.06-2.06.94zm-11 1L8.5 8.5l.94-2.06 2.06-.94-2.06-.94L8.5 2.5l-.94 2.06-2.06.94zm10 10l.94 2.06.94-2.06 2.06-.94-2.06-.94-.94-2.06-.94 2.06-2.06.94z\"/><path d=\"M17.41 7.96l-1.37-1.37c-.4-.4-.92-.59-1.43-.59-.52 0-1.04.2-1.43.59L10.3 9.45l-7.72 7.72c-.78.78-.78 2.05 0 2.83L4 21.41c.39.39.9.59 1.41.59.51 0 1.02-.2 1.41-.59l7.78-7.78 2.81-2.81c.8-.78.8-2.07 0-2.86zM5.41 20L4 18.59l7.72-7.72 1.47 1.35L5.41 20z\"/>\n",
       "  </svg>\n",
       "      </button>\n",
       "      \n",
       "  <style>\n",
       "    .colab-df-container {\n",
       "      display:flex;\n",
       "      flex-wrap:wrap;\n",
       "      gap: 12px;\n",
       "    }\n",
       "\n",
       "    .colab-df-convert {\n",
       "      background-color: #E8F0FE;\n",
       "      border: none;\n",
       "      border-radius: 50%;\n",
       "      cursor: pointer;\n",
       "      display: none;\n",
       "      fill: #1967D2;\n",
       "      height: 32px;\n",
       "      padding: 0 0 0 0;\n",
       "      width: 32px;\n",
       "    }\n",
       "\n",
       "    .colab-df-convert:hover {\n",
       "      background-color: #E2EBFA;\n",
       "      box-shadow: 0px 1px 2px rgba(60, 64, 67, 0.3), 0px 1px 3px 1px rgba(60, 64, 67, 0.15);\n",
       "      fill: #174EA6;\n",
       "    }\n",
       "\n",
       "    [theme=dark] .colab-df-convert {\n",
       "      background-color: #3B4455;\n",
       "      fill: #D2E3FC;\n",
       "    }\n",
       "\n",
       "    [theme=dark] .colab-df-convert:hover {\n",
       "      background-color: #434B5C;\n",
       "      box-shadow: 0px 1px 3px 1px rgba(0, 0, 0, 0.15);\n",
       "      filter: drop-shadow(0px 1px 2px rgba(0, 0, 0, 0.3));\n",
       "      fill: #FFFFFF;\n",
       "    }\n",
       "  </style>\n",
       "\n",
       "      <script>\n",
       "        const buttonEl =\n",
       "          document.querySelector('#df-4596ef09-47ec-4da1-a823-c3bdb580712f button.colab-df-convert');\n",
       "        buttonEl.style.display =\n",
       "          google.colab.kernel.accessAllowed ? 'block' : 'none';\n",
       "\n",
       "        async function convertToInteractive(key) {\n",
       "          const element = document.querySelector('#df-4596ef09-47ec-4da1-a823-c3bdb580712f');\n",
       "          const dataTable =\n",
       "            await google.colab.kernel.invokeFunction('convertToInteractive',\n",
       "                                                     [key], {});\n",
       "          if (!dataTable) return;\n",
       "\n",
       "          const docLinkHtml = 'Like what you see? Visit the ' +\n",
       "            '<a target=\"_blank\" href=https://colab.research.google.com/notebooks/data_table.ipynb>data table notebook</a>'\n",
       "            + ' to learn more about interactive tables.';\n",
       "          element.innerHTML = '';\n",
       "          dataTable['output_type'] = 'display_data';\n",
       "          await google.colab.output.renderOutput(dataTable, element);\n",
       "          const docLink = document.createElement('div');\n",
       "          docLink.innerHTML = docLinkHtml;\n",
       "          element.appendChild(docLink);\n",
       "        }\n",
       "      </script>\n",
       "    </div>\n",
       "  </div>\n",
       "  "
      ],
      "text/plain": [
       "               High       Low      Open     Close    Volume  Adj Close\n",
       "High       1.000000  0.999685  0.999802  0.999749 -0.189611   0.999734\n",
       "Low        0.999685  1.000000  0.999742  0.999744 -0.205282   0.999723\n",
       "Open       0.999802  0.999742  1.000000  0.999492 -0.196453   0.999470\n",
       "Close      0.999749  0.999744  0.999492  1.000000 -0.197918   0.999979\n",
       "Volume    -0.189611 -0.205282 -0.196453 -0.197918  1.000000  -0.197455\n",
       "Adj Close  0.999734  0.999723  0.999470  0.999979 -0.197455   1.000000"
      ]
     },
     "execution_count": 21,
     "metadata": {},
     "output_type": "execute_result"
    }
   ],
   "source": [
    "df.corr()"
   ]
  },
  {
   "cell_type": "markdown",
   "metadata": {
    "id": "p2wtZ-gUsnk2"
   },
   "source": [
    "##6. Find the mean, highest, lowest values for each column. "
   ]
  },
  {
   "cell_type": "code",
   "execution_count": null,
   "metadata": {
    "colab": {
     "base_uri": "https://localhost:8080/"
    },
    "executionInfo": {
     "elapsed": 117,
     "status": "ok",
     "timestamp": 1649638878459,
     "user": {
      "displayName": "Yongning Tang",
      "userId": "15267084954923866581"
     },
     "user_tz": 300
    },
    "id": "SJZSa4o-I4kI",
    "outputId": "2e4a1517-d83c-4303-e353-2fb267214ff6"
   },
   "outputs": [
    {
     "data": {
      "text/plain": [
       "High         8.289997e+01\n",
       "Low          8.109602e+01\n",
       "Open         8.197837e+01\n",
       "Close        8.204387e+01\n",
       "Volume       1.202720e+08\n",
       "Adj Close    8.086872e+01\n",
       "dtype: float64"
      ]
     },
     "execution_count": 16,
     "metadata": {},
     "output_type": "execute_result"
    }
   ],
   "source": [
    "df.mean()"
   ]
  },
  {
   "cell_type": "code",
   "execution_count": null,
   "metadata": {
    "colab": {
     "base_uri": "https://localhost:8080/"
    },
    "executionInfo": {
     "elapsed": 136,
     "status": "ok",
     "timestamp": 1649648360250,
     "user": {
      "displayName": "Yongning Tang",
      "userId": "15267084954923866581"
     },
     "user_tz": 300
    },
    "id": "7PVaAj2CtDt0",
    "outputId": "d95f0a6b-0196-43c0-c453-b5f2452809ef"
   },
   "outputs": [
    {
     "data": {
      "text/plain": [
       "High         1.829400e+02\n",
       "Low          1.791200e+02\n",
       "Open         1.826300e+02\n",
       "Close        1.820100e+02\n",
       "Volume       4.265100e+08\n",
       "Adj Close    1.817784e+02\n",
       "dtype: float64"
      ]
     },
     "execution_count": 50,
     "metadata": {},
     "output_type": "execute_result"
    }
   ],
   "source": [
    "df.max()"
   ]
  },
  {
   "cell_type": "code",
   "execution_count": null,
   "metadata": {
    "colab": {
     "base_uri": "https://localhost:8080/"
    },
    "executionInfo": {
     "elapsed": 118,
     "status": "ok",
     "timestamp": 1649648371977,
     "user": {
      "displayName": "Yongning Tang",
      "userId": "15267084954923866581"
     },
     "user_tz": 300
    },
    "id": "7HEX4EsetHPr",
    "outputId": "b71c605e-50bf-458b-db7f-136f3bfb2901"
   },
   "outputs": [
    {
     "data": {
      "text/plain": [
       "High         3.547000e+01\n",
       "Low          3.501500e+01\n",
       "Open         3.530500e+01\n",
       "Close        3.517000e+01\n",
       "Volume       4.100000e+07\n",
       "Adj Close    3.320611e+01\n",
       "dtype: float64"
      ]
     },
     "execution_count": 51,
     "metadata": {},
     "output_type": "execute_result"
    }
   ],
   "source": [
    "df.min()"
   ]
  },
  {
   "cell_type": "markdown",
   "metadata": {
    "id": "7_pX_uaYtStv"
   },
   "source": [
    "##7. Find which days the highest and the lowest values occurred."
   ]
  },
  {
   "cell_type": "code",
   "execution_count": null,
   "metadata": {
    "colab": {
     "base_uri": "https://localhost:8080/"
    },
    "executionInfo": {
     "elapsed": 163,
     "status": "ok",
     "timestamp": 1649639829830,
     "user": {
      "displayName": "Yongning Tang",
      "userId": "15267084954923866581"
     },
     "user_tz": 300
    },
    "id": "KtpDNsG9Mclb",
    "outputId": "be7753e9-39a1-4fd5-decc-63856c25374a"
   },
   "outputs": [
    {
     "data": {
      "text/plain": [
       "High         2017-04-17\n",
       "Low          2017-04-11\n",
       "Open         2017-04-20\n",
       "Close        2017-04-19\n",
       "Volume       2021-11-11\n",
       "Adj Close    2017-04-19\n",
       "dtype: object"
      ]
     },
     "execution_count": 18,
     "metadata": {},
     "output_type": "execute_result"
    }
   ],
   "source": [
    "df.idxmin()"
   ]
  },
  {
   "cell_type": "code",
   "execution_count": null,
   "metadata": {
    "colab": {
     "base_uri": "https://localhost:8080/"
    },
    "executionInfo": {
     "elapsed": 102,
     "status": "ok",
     "timestamp": 1649648391851,
     "user": {
      "displayName": "Yongning Tang",
      "userId": "15267084954923866581"
     },
     "user_tz": 300
    },
    "id": "0dllA3FbtK1x",
    "outputId": "1b7a72e0-baac-487a-869d-ffb1b648e27d"
   },
   "outputs": [
    {
     "data": {
      "text/plain": [
       "High         2022-01-04\n",
       "Low          2022-01-04\n",
       "Open         2022-01-04\n",
       "Close        2022-01-03\n",
       "Volume       2020-02-28\n",
       "Adj Close    2022-01-03\n",
       "dtype: object"
      ]
     },
     "execution_count": 52,
     "metadata": {},
     "output_type": "execute_result"
    }
   ],
   "source": [
    "df.idxmax()"
   ]
  }
 ],
 "metadata": {
  "colab": {
   "authorship_tag": "ABX9TyNP4Ur3L0rBf5BOixMBmLyg",
   "collapsed_sections": [],
   "name": "IT166-Lab10-Sol.ipynb",
   "provenance": [
    {
     "file_id": "1o0RIgzQDfaYEUklrTfzW39c8Nrz8rcRG",
     "timestamp": 1649648542537
    },
    {
     "file_id": "14kcZGfaVucNBoFUrEBfObqUNpXe9qqx_",
     "timestamp": 1649635287635
    },
    {
     "file_id": "19R3pFtSJt5CjvjVj2IPPTbD3lEaT9TBL",
     "timestamp": 1646201138509
    },
    {
     "file_id": "1sjwyMeadh0pXxEwxHXg_u3z8ubNVz9d3",
     "timestamp": 1645580376523
    },
    {
     "file_id": "1RTJFfrO0t8mjzbWIpkU6gNMjpSTXc8RZ",
     "timestamp": 1645302321086
    },
    {
     "file_id": "1tuS_mSxJXJPrZzZHO4XblviGmjGe2IG3",
     "timestamp": 1644814253230
    }
   ]
  },
  "kernelspec": {
   "display_name": "Python 3",
   "language": "python",
   "name": "python3"
  },
  "language_info": {
   "codemirror_mode": {
    "name": "ipython",
    "version": 3
   },
   "file_extension": ".py",
   "mimetype": "text/x-python",
   "name": "python",
   "nbconvert_exporter": "python",
   "pygments_lexer": "ipython3",
   "version": "3.8.8"
  }
 },
 "nbformat": 4,
 "nbformat_minor": 1
}
